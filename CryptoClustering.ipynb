{
 "cells": [
  {
   "cell_type": "code",
   "execution_count": 87,
   "metadata": {},
   "outputs": [
    {
     "name": "stdout",
     "output_type": "stream",
     "text": [
      "Loading Libraries 2023-08-27 17:18:04.909924\n",
      "Libraries Loaded  2023-08-27 17:18:04.910053\n"
     ]
    }
   ],
   "source": [
    "#\n",
    "# Import required libraries and dependencies\n",
    "#\n",
    "\n",
    "from   datetime              import datetime\n",
    "\n",
    "print('Loading Libraries',datetime.now());\n",
    "\n",
    "# Intentionally ignoring certain waring messages that we know are not relevant to this program, l\n",
    "# like deprecated functions or changed default parameters.\n",
    "# This is done to avoid cluttering the output with warnings that are not relevant to this program.\n",
    "# other condittions with higher seriousness will still be displayed.\n",
    "\n",
    "import warnings\n",
    "warnings.filterwarnings(\"ignore\")\n",
    "\n",
    "import pandas                    as pd;\n",
    "import hvplot.pandas;\n",
    "from   sklearn.cluster       import KMeans;\n",
    "from   sklearn.decomposition import PCA;\n",
    "from   sklearn.preprocessing import StandardScaler;\n",
    "\n",
    "print('Libraries Loaded ',datetime.now());\n",
    "\n",
    "# displaying time for loading libraries, just to evaluate the time it takes to load libraries\n",
    "# program is being tested under two architectures:\n",
    "# one is a MacBook Pro M2 Ultra with 32GB of RAM.\n",
    "# the other is a Alienware M18 with 32 GB of RAM."
   ]
  },
  {
   "cell_type": "code",
   "execution_count": 88,
   "metadata": {},
   "outputs": [],
   "source": [
    "#\n",
    "# Data Dicitionary, with variables used in the program\n",
    "#\n",
    "# Camel Case variables are used for variables that are used in the program\n",
    "#\n",
    "# df_Source_Data        :  DataFrame with the source data, CryptoCurrency data\n",
    "# crypto_Scaled_Array   :  Array with the scaled data\n",
    "# crypto_Transformed    :  DataFrame with the transformed data\n",
    "# coins_Names           :  Array with the coins names\n",
    "# inertia_1             :  Array with the inertia data\n",
    "# inertia_2             :  Array with the inertia data\n",
    "# elbow_Data_1          :  dictionary with the Elbow data 1\n",
    "# elbow_Data_2          :  dictionary with the Elbow data 2\n",
    "# elbow_DF_1            :  DataFrame with the Elbow data 1\n",
    "# elbow_DF_2            :  DataFrame with the Elbow data 2\n",
    "# clusters_Predicted    :  Array with the predicted clusters\n",
    "# cluster_PCA_Data      :  DataFrame with the PCA data\n",
    "# cluster_PCA_DF        :  DataFrame with the PCA data and the predicted clusters"
   ]
  },
  {
   "cell_type": "code",
   "execution_count": 89,
   "metadata": {},
   "outputs": [
    {
     "name": "stdout",
     "output_type": "stream",
     "text": [
      "Loading Data 2023-08-27 17:18:13.058292\n",
      "                 price_change_percentage_24h  price_change_percentage_7d  \\\n",
      "coin_id                                                                    \n",
      "bitcoin                              1.08388                     7.60278   \n",
      "ethereum                             0.22392                    10.38134   \n",
      "tether                              -0.21173                     0.04935   \n",
      "ripple                              -0.37819                    -0.60926   \n",
      "bitcoin-cash                         2.90585                    17.09717   \n",
      "binancecoin                          2.10423                    12.85511   \n",
      "chainlink                           -0.23935                    20.69459   \n",
      "cardano                              0.00322                    13.99302   \n",
      "litecoin                            -0.06341                     6.60221   \n",
      "bitcoin-cash-sv                      0.92530                     3.29641   \n",
      "\n",
      "                 price_change_percentage_14d  price_change_percentage_30d  \\\n",
      "coin_id                                                                     \n",
      "bitcoin                              6.57509                      7.67258   \n",
      "ethereum                             4.80849                      0.13169   \n",
      "tether                               0.00640                     -0.04237   \n",
      "ripple                               2.24984                      0.23455   \n",
      "bitcoin-cash                        14.75334                     15.74903   \n",
      "binancecoin                          6.80688                      0.05865   \n",
      "chainlink                            9.30098                    -11.21747   \n",
      "cardano                              5.55476                     10.10553   \n",
      "litecoin                             7.28931                      1.21662   \n",
      "bitcoin-cash-sv                     -1.86656                      2.88926   \n",
      "\n",
      "                 price_change_percentage_60d  price_change_percentage_200d  \\\n",
      "coin_id                                                                      \n",
      "bitcoin                             -3.25185                      83.51840   \n",
      "ethereum                           -12.88890                     186.77418   \n",
      "tether                               0.28037                      -0.00542   \n",
      "ripple                             -17.55245                      39.53888   \n",
      "bitcoin-cash                       -13.71793                      21.66042   \n",
      "binancecoin                         36.33486                     155.61937   \n",
      "chainlink                          -43.69522                     403.22917   \n",
      "cardano                            -22.84776                     264.51418   \n",
      "litecoin                           -17.23960                      27.49919   \n",
      "bitcoin-cash-sv                    -24.87434                       7.42562   \n",
      "\n",
      "                 price_change_percentage_1y  \n",
      "coin_id                                      \n",
      "bitcoin                            37.51761  \n",
      "ethereum                          101.96023  \n",
      "tether                              0.01954  \n",
      "ripple                            -16.60193  \n",
      "bitcoin-cash                       14.49384  \n",
      "binancecoin                        69.69195  \n",
      "chainlink                         325.13186  \n",
      "cardano                           156.09756  \n",
      "litecoin                          -12.66408  \n",
      "bitcoin-cash-sv                    93.73082  \n",
      "Data Loaded  2023-08-27 17:18:13.063636\n"
     ]
    }
   ],
   "source": [
    "# \n",
    "# Load the data into a Pandas DataFrame\n",
    "# The overall asumption is that the data is already clean and ready to be used\n",
    "\n",
    "\n",
    "print('Loading Data',datetime.now())\n",
    "df_Source_Data = pd.read_csv(\"Resources/crypto_market_data.csv\",index_col=\"coin_id\")\n",
    "\n",
    "#\n",
    "# Display sample data\n",
    "#\n",
    "\n",
    "print(dfSourceData.head(10))\n",
    "print('Data Loaded ',datetime.now())"
   ]
  },
  {
   "cell_type": "code",
   "execution_count": 90,
   "metadata": {},
   "outputs": [
    {
     "name": "stdout",
     "output_type": "stream",
     "text": [
      "Summary Statistics 2023-08-27 17:18:18.417780\n"
     ]
    },
    {
     "data": {
      "text/html": [
       "<div>\n",
       "<style scoped>\n",
       "    .dataframe tbody tr th:only-of-type {\n",
       "        vertical-align: middle;\n",
       "    }\n",
       "\n",
       "    .dataframe tbody tr th {\n",
       "        vertical-align: top;\n",
       "    }\n",
       "\n",
       "    .dataframe thead th {\n",
       "        text-align: right;\n",
       "    }\n",
       "</style>\n",
       "<table border=\"1\" class=\"dataframe\">\n",
       "  <thead>\n",
       "    <tr style=\"text-align: right;\">\n",
       "      <th></th>\n",
       "      <th>price_change_percentage_24h</th>\n",
       "      <th>price_change_percentage_7d</th>\n",
       "      <th>price_change_percentage_14d</th>\n",
       "      <th>price_change_percentage_30d</th>\n",
       "      <th>price_change_percentage_60d</th>\n",
       "      <th>price_change_percentage_200d</th>\n",
       "      <th>price_change_percentage_1y</th>\n",
       "    </tr>\n",
       "  </thead>\n",
       "  <tbody>\n",
       "    <tr>\n",
       "      <th>count</th>\n",
       "      <td>41.000000</td>\n",
       "      <td>41.000000</td>\n",
       "      <td>41.000000</td>\n",
       "      <td>41.000000</td>\n",
       "      <td>41.000000</td>\n",
       "      <td>41.000000</td>\n",
       "      <td>41.000000</td>\n",
       "    </tr>\n",
       "    <tr>\n",
       "      <th>mean</th>\n",
       "      <td>-0.269686</td>\n",
       "      <td>4.497147</td>\n",
       "      <td>0.185787</td>\n",
       "      <td>1.545693</td>\n",
       "      <td>-0.094119</td>\n",
       "      <td>236.537432</td>\n",
       "      <td>347.667956</td>\n",
       "    </tr>\n",
       "    <tr>\n",
       "      <th>std</th>\n",
       "      <td>2.694793</td>\n",
       "      <td>6.375218</td>\n",
       "      <td>8.376939</td>\n",
       "      <td>26.344218</td>\n",
       "      <td>47.365803</td>\n",
       "      <td>435.225304</td>\n",
       "      <td>1247.842884</td>\n",
       "    </tr>\n",
       "    <tr>\n",
       "      <th>min</th>\n",
       "      <td>-13.527860</td>\n",
       "      <td>-6.094560</td>\n",
       "      <td>-18.158900</td>\n",
       "      <td>-34.705480</td>\n",
       "      <td>-44.822480</td>\n",
       "      <td>-0.392100</td>\n",
       "      <td>-17.567530</td>\n",
       "    </tr>\n",
       "    <tr>\n",
       "      <th>25%</th>\n",
       "      <td>-0.608970</td>\n",
       "      <td>0.047260</td>\n",
       "      <td>-5.026620</td>\n",
       "      <td>-10.438470</td>\n",
       "      <td>-25.907990</td>\n",
       "      <td>21.660420</td>\n",
       "      <td>0.406170</td>\n",
       "    </tr>\n",
       "    <tr>\n",
       "      <th>50%</th>\n",
       "      <td>-0.063410</td>\n",
       "      <td>3.296410</td>\n",
       "      <td>0.109740</td>\n",
       "      <td>-0.042370</td>\n",
       "      <td>-7.544550</td>\n",
       "      <td>83.905200</td>\n",
       "      <td>69.691950</td>\n",
       "    </tr>\n",
       "    <tr>\n",
       "      <th>75%</th>\n",
       "      <td>0.612090</td>\n",
       "      <td>7.602780</td>\n",
       "      <td>5.510740</td>\n",
       "      <td>4.578130</td>\n",
       "      <td>0.657260</td>\n",
       "      <td>216.177610</td>\n",
       "      <td>168.372510</td>\n",
       "    </tr>\n",
       "    <tr>\n",
       "      <th>max</th>\n",
       "      <td>4.840330</td>\n",
       "      <td>20.694590</td>\n",
       "      <td>24.239190</td>\n",
       "      <td>140.795700</td>\n",
       "      <td>223.064370</td>\n",
       "      <td>2227.927820</td>\n",
       "      <td>7852.089700</td>\n",
       "    </tr>\n",
       "  </tbody>\n",
       "</table>\n",
       "</div>"
      ],
      "text/plain": [
       "       price_change_percentage_24h  price_change_percentage_7d  \\\n",
       "count                    41.000000                   41.000000   \n",
       "mean                     -0.269686                    4.497147   \n",
       "std                       2.694793                    6.375218   \n",
       "min                     -13.527860                   -6.094560   \n",
       "25%                      -0.608970                    0.047260   \n",
       "50%                      -0.063410                    3.296410   \n",
       "75%                       0.612090                    7.602780   \n",
       "max                       4.840330                   20.694590   \n",
       "\n",
       "       price_change_percentage_14d  price_change_percentage_30d  \\\n",
       "count                    41.000000                    41.000000   \n",
       "mean                      0.185787                     1.545693   \n",
       "std                       8.376939                    26.344218   \n",
       "min                     -18.158900                   -34.705480   \n",
       "25%                      -5.026620                   -10.438470   \n",
       "50%                       0.109740                    -0.042370   \n",
       "75%                       5.510740                     4.578130   \n",
       "max                      24.239190                   140.795700   \n",
       "\n",
       "       price_change_percentage_60d  price_change_percentage_200d  \\\n",
       "count                    41.000000                     41.000000   \n",
       "mean                     -0.094119                    236.537432   \n",
       "std                      47.365803                    435.225304   \n",
       "min                     -44.822480                     -0.392100   \n",
       "25%                     -25.907990                     21.660420   \n",
       "50%                      -7.544550                     83.905200   \n",
       "75%                       0.657260                    216.177610   \n",
       "max                     223.064370                   2227.927820   \n",
       "\n",
       "       price_change_percentage_1y  \n",
       "count                   41.000000  \n",
       "mean                   347.667956  \n",
       "std                   1247.842884  \n",
       "min                    -17.567530  \n",
       "25%                      0.406170  \n",
       "50%                     69.691950  \n",
       "75%                    168.372510  \n",
       "max                   7852.089700  "
      ]
     },
     "execution_count": 90,
     "metadata": {},
     "output_type": "execute_result"
    }
   ],
   "source": [
    "# Generate summary statistics\n",
    "print('Summary Statistics',datetime.now())\n",
    "df_Source_Data.describe()"
   ]
  },
  {
   "cell_type": "code",
   "execution_count": 91,
   "metadata": {},
   "outputs": [
    {
     "name": "stdout",
     "output_type": "stream",
     "text": [
      "Plotting Data 2023-08-27 17:18:28.022848\n"
     ]
    },
    {
     "data": {},
     "metadata": {},
     "output_type": "display_data"
    },
    {
     "data": {
      "application/vnd.holoviews_exec.v0+json": "",
      "text/html": [
       "<div id='4380'>\n",
       "  <div class=\"bk-root\" id=\"0fd0afc7-7d39-4106-a32c-10de630a7789\" data-root-id=\"4380\"></div>\n",
       "</div>\n",
       "<script type=\"application/javascript\">(function(root) {\n",
       "  function embed_document(root) {\n",
       "    var docs_json = {\"0f384f6a-1659-4d8c-aed1-698396ed48bf\":{\"defs\":[{\"extends\":null,\"module\":null,\"name\":\"ReactiveHTML1\",\"overrides\":[],\"properties\":[]},{\"extends\":null,\"module\":null,\"name\":\"FlexBox1\",\"overrides\":[],\"properties\":[{\"default\":\"flex-start\",\"kind\":null,\"name\":\"align_content\"},{\"default\":\"flex-start\",\"kind\":null,\"name\":\"align_items\"},{\"default\":\"row\",\"kind\":null,\"name\":\"flex_direction\"},{\"default\":\"wrap\",\"kind\":null,\"name\":\"flex_wrap\"},{\"default\":\"flex-start\",\"kind\":null,\"name\":\"justify_content\"}]},{\"extends\":null,\"module\":null,\"name\":\"GridStack1\",\"overrides\":[],\"properties\":[{\"default\":\"warn\",\"kind\":null,\"name\":\"mode\"},{\"default\":null,\"kind\":null,\"name\":\"ncols\"},{\"default\":null,\"kind\":null,\"name\":\"nrows\"},{\"default\":true,\"kind\":null,\"name\":\"allow_resize\"},{\"default\":true,\"kind\":null,\"name\":\"allow_drag\"},{\"default\":[],\"kind\":null,\"name\":\"state\"}]},{\"extends\":null,\"module\":null,\"name\":\"click1\",\"overrides\":[],\"properties\":[{\"default\":\"\",\"kind\":null,\"name\":\"terminal_output\"},{\"default\":\"\",\"kind\":null,\"name\":\"debug_name\"},{\"default\":0,\"kind\":null,\"name\":\"clears\"}]},{\"extends\":null,\"module\":null,\"name\":\"NotificationAreaBase1\",\"overrides\":[],\"properties\":[{\"default\":\"bottom-right\",\"kind\":null,\"name\":\"position\"},{\"default\":0,\"kind\":null,\"name\":\"_clear\"}]},{\"extends\":null,\"module\":null,\"name\":\"NotificationArea1\",\"overrides\":[],\"properties\":[{\"default\":[],\"kind\":null,\"name\":\"notifications\"},{\"default\":\"bottom-right\",\"kind\":null,\"name\":\"position\"},{\"default\":0,\"kind\":null,\"name\":\"_clear\"},{\"default\":[{\"background\":\"#ffc107\",\"icon\":{\"className\":\"fas fa-exclamation-triangle\",\"color\":\"white\",\"tagName\":\"i\"},\"type\":\"warning\"},{\"background\":\"#007bff\",\"icon\":{\"className\":\"fas fa-info-circle\",\"color\":\"white\",\"tagName\":\"i\"},\"type\":\"info\"}],\"kind\":null,\"name\":\"types\"}]},{\"extends\":null,\"module\":null,\"name\":\"Notification\",\"overrides\":[],\"properties\":[{\"default\":null,\"kind\":null,\"name\":\"background\"},{\"default\":3000,\"kind\":null,\"name\":\"duration\"},{\"default\":null,\"kind\":null,\"name\":\"icon\"},{\"default\":\"\",\"kind\":null,\"name\":\"message\"},{\"default\":null,\"kind\":null,\"name\":\"notification_type\"},{\"default\":false,\"kind\":null,\"name\":\"_destroyed\"}]},{\"extends\":null,\"module\":null,\"name\":\"TemplateActions1\",\"overrides\":[],\"properties\":[{\"default\":0,\"kind\":null,\"name\":\"open_modal\"},{\"default\":0,\"kind\":null,\"name\":\"close_modal\"}]},{\"extends\":null,\"module\":null,\"name\":\"MaterialTemplateActions1\",\"overrides\":[],\"properties\":[{\"default\":0,\"kind\":null,\"name\":\"open_modal\"},{\"default\":0,\"kind\":null,\"name\":\"close_modal\"}]}],\"roots\":{\"references\":[{\"attributes\":{\"line_color\":\"#e5ae38\",\"line_width\":2,\"tags\":[\"apply_ranges\"],\"x\":{\"field\":\"coin_id\"},\"y\":{\"field\":\"value\"}},\"id\":\"4473\",\"type\":\"Line\"},{\"attributes\":{\"coordinates\":null,\"data_source\":{\"id\":\"4427\"},\"glyph\":{\"id\":\"4430\"},\"group\":null,\"hover_glyph\":null,\"muted_glyph\":{\"id\":\"4432\"},\"name\":\"price_change_percentage_24h\",\"nonselection_glyph\":{\"id\":\"4431\"},\"selection_glyph\":{\"id\":\"4447\"},\"view\":{\"id\":\"4434\"}},\"id\":\"4433\",\"type\":\"GlyphRenderer\"},{\"attributes\":{\"end\":8641.780918,\"reset_end\":8641.780918,\"reset_start\":-834.5136980000001,\"start\":-834.5136980000001,\"tags\":[[[\"value\",\"value\",null]],{\"autorange\":false,\"invert_yaxis\":false}]},\"id\":\"4382\",\"type\":\"Range1d\"},{\"attributes\":{\"line_alpha\":0.2,\"line_color\":\"#e5ae38\",\"line_width\":2,\"tags\":[\"apply_ranges\"],\"x\":{\"field\":\"coin_id\"},\"y\":{\"field\":\"value\"}},\"id\":\"4475\",\"type\":\"Line\"},{\"attributes\":{\"line_alpha\":0.1,\"line_color\":\"#8b8b8b\",\"line_width\":2,\"tags\":[\"apply_ranges\"],\"x\":{\"field\":\"coin_id\"},\"y\":{\"field\":\"value\"}},\"id\":\"4524\",\"type\":\"Line\"},{\"attributes\":{\"line_color\":\"#6d904f\",\"line_width\":2,\"tags\":[\"apply_ranges\"],\"x\":{\"field\":\"coin_id\"},\"y\":{\"field\":\"value\"}},\"id\":\"4519\",\"type\":\"Line\"},{\"attributes\":{\"line_color\":\"#30a2da\",\"line_width\":2,\"tags\":[\"apply_ranges\"],\"x\":{\"field\":\"coin_id\"},\"y\":{\"field\":\"value\"}},\"id\":\"4430\",\"type\":\"Line\"},{\"attributes\":{\"source\":{\"id\":\"4520\"}},\"id\":\"4527\",\"type\":\"CDSView\"},{\"attributes\":{},\"id\":\"4410\",\"type\":\"WheelZoomTool\"},{\"attributes\":{\"coordinates\":null,\"data_source\":{\"id\":\"4470\"},\"glyph\":{\"id\":\"4473\"},\"group\":null,\"hover_glyph\":null,\"muted_glyph\":{\"id\":\"4475\"},\"name\":\"price_change_percentage_14d\",\"nonselection_glyph\":{\"id\":\"4474\"},\"selection_glyph\":{\"id\":\"4493\"},\"view\":{\"id\":\"4477\"}},\"id\":\"4476\",\"type\":\"GlyphRenderer\"},{\"attributes\":{\"line_alpha\":0.1,\"line_color\":\"#30a2da\",\"line_width\":2,\"tags\":[\"apply_ranges\"],\"x\":{\"field\":\"coin_id\"},\"y\":{\"field\":\"value\"}},\"id\":\"4431\",\"type\":\"Line\"},{\"attributes\":{\"source\":{\"id\":\"4494\"}},\"id\":\"4501\",\"type\":\"CDSView\"},{\"attributes\":{\"source\":{\"id\":\"4427\"}},\"id\":\"4434\",\"type\":\"CDSView\"},{\"attributes\":{\"line_alpha\":0.1,\"line_color\":\"#e5ae38\",\"line_width\":2,\"tags\":[\"apply_ranges\"],\"x\":{\"field\":\"coin_id\"},\"y\":{\"field\":\"value\"}},\"id\":\"4474\",\"type\":\"Line\"},{\"attributes\":{},\"id\":\"4402\",\"type\":\"CategoricalTicker\"},{\"attributes\":{\"click_policy\":\"mute\",\"coordinates\":null,\"group\":null,\"items\":[{\"id\":\"4446\"},{\"id\":\"4468\"},{\"id\":\"4492\"},{\"id\":\"4518\"},{\"id\":\"4546\"},{\"id\":\"4576\"},{\"id\":\"4608\"}],\"location\":[0,0],\"title\":\"Variable\"},\"id\":\"4445\",\"type\":\"Legend\"},{\"attributes\":{\"label\":{\"value\":\"price_change_percentage_14d\"},\"renderers\":[{\"id\":\"4476\"}]},\"id\":\"4492\",\"type\":\"LegendItem\"},{\"attributes\":{\"line_alpha\":0.2,\"line_color\":\"#30a2da\",\"line_width\":2,\"tags\":[\"apply_ranges\"],\"x\":{\"field\":\"coin_id\"},\"y\":{\"field\":\"value\"}},\"id\":\"4432\",\"type\":\"Line\"},{\"attributes\":{\"line_alpha\":0.2,\"line_color\":\"#8b8b8b\",\"line_width\":2,\"tags\":[\"apply_ranges\"],\"x\":{\"field\":\"coin_id\"},\"y\":{\"field\":\"value\"}},\"id\":\"4525\",\"type\":\"Line\"},{\"attributes\":{},\"id\":\"4409\",\"type\":\"PanTool\"},{\"attributes\":{},\"id\":\"4471\",\"type\":\"Selection\"},{\"attributes\":{\"data\":{\"Variable\":[\"price_change_percentage_200d\",\"price_change_percentage_200d\",\"price_change_percentage_200d\",\"price_change_percentage_200d\",\"price_change_percentage_200d\",\"price_change_percentage_200d\",\"price_change_percentage_200d\",\"price_change_percentage_200d\",\"price_change_percentage_200d\",\"price_change_percentage_200d\",\"price_change_percentage_200d\",\"price_change_percentage_200d\",\"price_change_percentage_200d\",\"price_change_percentage_200d\",\"price_change_percentage_200d\",\"price_change_percentage_200d\",\"price_change_percentage_200d\",\"price_change_percentage_200d\",\"price_change_percentage_200d\",\"price_change_percentage_200d\",\"price_change_percentage_200d\",\"price_change_percentage_200d\",\"price_change_percentage_200d\",\"price_change_percentage_200d\",\"price_change_percentage_200d\",\"price_change_percentage_200d\",\"price_change_percentage_200d\",\"price_change_percentage_200d\",\"price_change_percentage_200d\",\"price_change_percentage_200d\",\"price_change_percentage_200d\",\"price_change_percentage_200d\",\"price_change_percentage_200d\",\"price_change_percentage_200d\",\"price_change_percentage_200d\",\"price_change_percentage_200d\",\"price_change_percentage_200d\",\"price_change_percentage_200d\",\"price_change_percentage_200d\",\"price_change_percentage_200d\",\"price_change_percentage_200d\"],\"coin_id\":[\"bitcoin\",\"ethereum\",\"tether\",\"ripple\",\"bitcoin-cash\",\"binancecoin\",\"chainlink\",\"cardano\",\"litecoin\",\"bitcoin-cash-sv\",\"crypto-com-chain\",\"usd-coin\",\"eos\",\"monero\",\"tron\",\"tezos\",\"okb\",\"stellar\",\"cosmos\",\"cdai\",\"neo\",\"wrapped-bitcoin\",\"leo-token\",\"huobi-token\",\"nem\",\"binance-usd\",\"iota\",\"vechain\",\"zcash\",\"theta-token\",\"dash\",\"ethereum-classic\",\"ethlend\",\"maker\",\"havven\",\"omisego\",\"celsius-degree-token\",\"ontology\",\"ftx-token\",\"true-usd\",\"digibyte\"],\"value\":{\"__ndarray__\":\"xY8xdy3hVED0piIVxlhnQBe86CtIM3a/9zsUBfrEQ0DTn/1IEak1QPTDCOHRc2NAl3MprqozeUAexM4UOohwQIB9dOrKfztAFhiyutWzHUCN7iB2plZsQIQqNXugFcS/ZHWr56QPMkALe9rhrzBlQH+8V61MnGBA5nlwd9a2RUARHm0csfpDQC+Lic3HJ1VAkj8YeO4/Z0AOvjCZKhjZv2vUQzS61GNAtRX7y+75VEC5GW7A52cwQAPso1NXHkVAKa4q+64Fa0A7NgLxun65P+TaUDHOwVdAyM1wAz7bcEAFwHgGDaNeQH3Qs1k1lYtAOUVHcvnvGEANGvonuMgkQCYZOQvbZ6FAGD4ipkSiVED5MeauZXeDQHi0ccQaSoJAC170FcTYmEB1PGagMmJLQC2yne+nvkxAndfYJaq3tr9R9wFIbSl+QA==\",\"dtype\":\"float64\",\"order\":\"little\",\"shape\":[41]}},\"selected\":{\"id\":\"4549\"},\"selection_policy\":{\"id\":\"4573\"}},\"id\":\"4548\",\"type\":\"ColumnDataSource\"},{\"attributes\":{},\"id\":\"4489\",\"type\":\"UnionRenderers\"},{\"attributes\":{\"line_color\":\"#17becf\",\"line_width\":2,\"tags\":[\"apply_ranges\"],\"x\":{\"field\":\"coin_id\"},\"y\":{\"field\":\"value\"}},\"id\":\"4577\",\"type\":\"Line\"},{\"attributes\":{\"coordinates\":null,\"data_source\":{\"id\":\"4520\"},\"glyph\":{\"id\":\"4523\"},\"group\":null,\"hover_glyph\":null,\"muted_glyph\":{\"id\":\"4525\"},\"name\":\"price_change_percentage_60d\",\"nonselection_glyph\":{\"id\":\"4524\"},\"selection_glyph\":{\"id\":\"4547\"},\"view\":{\"id\":\"4527\"}},\"id\":\"4526\",\"type\":\"GlyphRenderer\"},{\"attributes\":{\"axis\":{\"id\":\"4401\"},\"coordinates\":null,\"grid_line_color\":null,\"group\":null,\"ticker\":null},\"id\":\"4403\",\"type\":\"Grid\"},{\"attributes\":{\"source\":{\"id\":\"4578\"}},\"id\":\"4585\",\"type\":\"CDSView\"},{\"attributes\":{\"line_color\":\"#8b8b8b\",\"line_width\":2,\"tags\":[\"apply_ranges\"],\"x\":{\"field\":\"coin_id\"},\"y\":{\"field\":\"value\"}},\"id\":\"4523\",\"type\":\"Line\"},{\"attributes\":{\"label\":{\"value\":\"price_change_percentage_60d\"},\"renderers\":[{\"id\":\"4526\"}]},\"id\":\"4546\",\"type\":\"LegendItem\"},{\"attributes\":{},\"id\":\"4399\",\"type\":\"CategoricalScale\"},{\"attributes\":{\"data\":{\"Variable\":[\"price_change_percentage_60d\",\"price_change_percentage_60d\",\"price_change_percentage_60d\",\"price_change_percentage_60d\",\"price_change_percentage_60d\",\"price_change_percentage_60d\",\"price_change_percentage_60d\",\"price_change_percentage_60d\",\"price_change_percentage_60d\",\"price_change_percentage_60d\",\"price_change_percentage_60d\",\"price_change_percentage_60d\",\"price_change_percentage_60d\",\"price_change_percentage_60d\",\"price_change_percentage_60d\",\"price_change_percentage_60d\",\"price_change_percentage_60d\",\"price_change_percentage_60d\",\"price_change_percentage_60d\",\"price_change_percentage_60d\",\"price_change_percentage_60d\",\"price_change_percentage_60d\",\"price_change_percentage_60d\",\"price_change_percentage_60d\",\"price_change_percentage_60d\",\"price_change_percentage_60d\",\"price_change_percentage_60d\",\"price_change_percentage_60d\",\"price_change_percentage_60d\",\"price_change_percentage_60d\",\"price_change_percentage_60d\",\"price_change_percentage_60d\",\"price_change_percentage_60d\",\"price_change_percentage_60d\",\"price_change_percentage_60d\",\"price_change_percentage_60d\",\"price_change_percentage_60d\",\"price_change_percentage_60d\",\"price_change_percentage_60d\",\"price_change_percentage_60d\",\"price_change_percentage_60d\"],\"coin_id\":[\"bitcoin\",\"ethereum\",\"tether\",\"ripple\",\"bitcoin-cash\",\"binancecoin\",\"chainlink\",\"cardano\",\"litecoin\",\"bitcoin-cash-sv\",\"crypto-com-chain\",\"usd-coin\",\"eos\",\"monero\",\"tron\",\"tezos\",\"okb\",\"stellar\",\"cosmos\",\"cdai\",\"neo\",\"wrapped-bitcoin\",\"leo-token\",\"huobi-token\",\"nem\",\"binance-usd\",\"iota\",\"vechain\",\"zcash\",\"theta-token\",\"dash\",\"ethereum-classic\",\"ethlend\",\"maker\",\"havven\",\"omisego\",\"celsius-degree-token\",\"ontology\",\"ftx-token\",\"true-usd\",\"digibyte\"],\"value\":{\"__ndarray__\":\"FvvL7skDCsAs1JrmHccpwKjjMQOV8dE/2qz6XG2NMcBzol2FlG8rwIleRrHcKkJAN8MN+PzYRcBi26LMBtk2wCEf9GxWPTHAq5UJv9TfOMBg5dAi23kwwDygbMoV3qU/l631RUIrPsDNzMzMzNxEQJm7lpAPGhZAms5OBkdpRsBKe4MvTKYGwEsfuqC+zT7APL1SliHOHMC4AZ8fRgjlP9L7xteeCStAFqQZi6azDMCvJeSDni0ewDeOWItPQQvAXvQVpBm3VEDaOGItPgW4PwpLPKBsQkHAaw4QzNHPRcAJM23/yoo0wBmQvd79AVRAfa62Yn85OsBVGFsIcug5wLCsNCkFHQFA529CIQKeMsA0uoPYmbZDwPKwUGua0VNA/pqsUQ/ia0Ao8iTpmllAwFuxv+yenBdAmrFoOjsZ0D8s1JrmHRc/wA==\",\"dtype\":\"float64\",\"order\":\"little\",\"shape\":[41]}},\"selected\":{\"id\":\"4521\"},\"selection_policy\":{\"id\":\"4543\"}},\"id\":\"4520\",\"type\":\"ColumnDataSource\"},{\"attributes\":{\"line_alpha\":0.2,\"line_color\":\"#9467bd\",\"line_width\":2,\"tags\":[\"apply_ranges\"],\"x\":{\"field\":\"coin_id\"},\"y\":{\"field\":\"value\"}},\"id\":\"4583\",\"type\":\"Line\"},{\"attributes\":{\"source\":{\"id\":\"4448\"}},\"id\":\"4455\",\"type\":\"CDSView\"},{\"attributes\":{},\"id\":\"4521\",\"type\":\"Selection\"},{\"attributes\":{\"label\":{\"value\":\"price_change_percentage_24h\"},\"renderers\":[{\"id\":\"4433\"}]},\"id\":\"4446\",\"type\":\"LegendItem\"},{\"attributes\":{\"line_color\":\"#9467bd\",\"line_width\":2,\"tags\":[\"apply_ranges\"],\"x\":{\"field\":\"coin_id\"},\"y\":{\"field\":\"value\"}},\"id\":\"4581\",\"type\":\"Line\"},{\"attributes\":{},\"id\":\"4543\",\"type\":\"UnionRenderers\"},{\"attributes\":{},\"id\":\"4400\",\"type\":\"LinearScale\"},{\"attributes\":{\"coordinates\":null,\"data_source\":{\"id\":\"4578\"},\"glyph\":{\"id\":\"4581\"},\"group\":null,\"hover_glyph\":null,\"muted_glyph\":{\"id\":\"4583\"},\"name\":\"price_change_percentage_1y\",\"nonselection_glyph\":{\"id\":\"4582\"},\"selection_glyph\":{\"id\":\"4609\"},\"view\":{\"id\":\"4585\"}},\"id\":\"4584\",\"type\":\"GlyphRenderer\"},{\"attributes\":{\"line_color\":\"#30a2da\",\"line_width\":2,\"tags\":[\"apply_ranges\"],\"x\":{\"field\":\"coin_id\"},\"y\":{\"field\":\"value\"}},\"id\":\"4447\",\"type\":\"Line\"},{\"attributes\":{\"axis_label\":\"coin_id\",\"coordinates\":null,\"formatter\":{\"id\":\"4422\"},\"group\":null,\"major_label_orientation\":1.5707963267948966,\"major_label_policy\":{\"id\":\"4423\"},\"ticker\":{\"id\":\"4402\"}},\"id\":\"4401\",\"type\":\"CategoricalAxis\"},{\"attributes\":{\"line_color\":\"#fc4f30\",\"line_width\":2,\"tags\":[\"apply_ranges\"],\"x\":{\"field\":\"coin_id\"},\"y\":{\"field\":\"value\"}},\"id\":\"4451\",\"type\":\"Line\"},{\"attributes\":{\"data\":{\"Variable\":[\"price_change_percentage_14d\",\"price_change_percentage_14d\",\"price_change_percentage_14d\",\"price_change_percentage_14d\",\"price_change_percentage_14d\",\"price_change_percentage_14d\",\"price_change_percentage_14d\",\"price_change_percentage_14d\",\"price_change_percentage_14d\",\"price_change_percentage_14d\",\"price_change_percentage_14d\",\"price_change_percentage_14d\",\"price_change_percentage_14d\",\"price_change_percentage_14d\",\"price_change_percentage_14d\",\"price_change_percentage_14d\",\"price_change_percentage_14d\",\"price_change_percentage_14d\",\"price_change_percentage_14d\",\"price_change_percentage_14d\",\"price_change_percentage_14d\",\"price_change_percentage_14d\",\"price_change_percentage_14d\",\"price_change_percentage_14d\",\"price_change_percentage_14d\",\"price_change_percentage_14d\",\"price_change_percentage_14d\",\"price_change_percentage_14d\",\"price_change_percentage_14d\",\"price_change_percentage_14d\",\"price_change_percentage_14d\",\"price_change_percentage_14d\",\"price_change_percentage_14d\",\"price_change_percentage_14d\",\"price_change_percentage_14d\",\"price_change_percentage_14d\",\"price_change_percentage_14d\",\"price_change_percentage_14d\",\"price_change_percentage_14d\",\"price_change_percentage_14d\",\"price_change_percentage_14d\"],\"coin_id\":[\"bitcoin\",\"ethereum\",\"tether\",\"ripple\",\"bitcoin-cash\",\"binancecoin\",\"chainlink\",\"cardano\",\"litecoin\",\"bitcoin-cash-sv\",\"crypto-com-chain\",\"usd-coin\",\"eos\",\"monero\",\"tron\",\"tezos\",\"okb\",\"stellar\",\"cosmos\",\"cdai\",\"neo\",\"wrapped-bitcoin\",\"leo-token\",\"huobi-token\",\"nem\",\"binance-usd\",\"iota\",\"vechain\",\"zcash\",\"theta-token\",\"dash\",\"ethereum-classic\",\"ethlend\",\"maker\",\"havven\",\"omisego\",\"celsius-degree-token\",\"ontology\",\"ftx-token\",\"true-usd\",\"digibyte\"],\"value\":{\"__ndarray__\":\"zQaZZORMGkB5knTN5DsTQC1DHOviNno/ctwpHaz/AUCLic3HtYEtQJgvL8A+OhtACoDxDBqaIkAOhGQBEzgWQICfceFAKB1AIVnABG7d/b8xsfm4NhQhwGtI3GPpQ3e/pfeNrz0z8j8ao3VUNWkyQBUA4xk0dPY/VIzzN6GQAkCXrfVFQhsUwKpla32RUPG/Qgkzbf8KFkDPg7uzdtvFP8MN+PwwsiPAYFlpUgo6GkB3+GuyRh0cwM2v5gDBHN0/jliLTwEwBUDWrZ6T3jeuP7pOIy2VNw7Am1Wfq60oMsAJM23/yioXQJfK2xFOSxrAQE0tW+uL4D9OucK7XET0v0SLbOf7mSPA/pqsUQ/R978vaYzWUZUqwDtT6LzGbirAvodLjjs9OEByUMJM2x8lwJ30vvG1Z8q/ZCMQr+sXvD+7D0BqE0cdwA==\",\"dtype\":\"float64\",\"order\":\"little\",\"shape\":[41]}},\"selected\":{\"id\":\"4471\"},\"selection_policy\":{\"id\":\"4489\"}},\"id\":\"4470\",\"type\":\"ColumnDataSource\"},{\"attributes\":{\"axis\":{\"id\":\"4404\"},\"coordinates\":null,\"dimension\":1,\"grid_line_color\":null,\"group\":null,\"ticker\":null},\"id\":\"4407\",\"type\":\"Grid\"},{\"attributes\":{\"line_alpha\":0.2,\"line_color\":\"#fc4f30\",\"line_width\":2,\"tags\":[\"apply_ranges\"],\"x\":{\"field\":\"coin_id\"},\"y\":{\"field\":\"value\"}},\"id\":\"4453\",\"type\":\"Line\"},{\"attributes\":{},\"id\":\"4579\",\"type\":\"Selection\"},{\"attributes\":{\"data\":{\"Variable\":[\"price_change_percentage_7d\",\"price_change_percentage_7d\",\"price_change_percentage_7d\",\"price_change_percentage_7d\",\"price_change_percentage_7d\",\"price_change_percentage_7d\",\"price_change_percentage_7d\",\"price_change_percentage_7d\",\"price_change_percentage_7d\",\"price_change_percentage_7d\",\"price_change_percentage_7d\",\"price_change_percentage_7d\",\"price_change_percentage_7d\",\"price_change_percentage_7d\",\"price_change_percentage_7d\",\"price_change_percentage_7d\",\"price_change_percentage_7d\",\"price_change_percentage_7d\",\"price_change_percentage_7d\",\"price_change_percentage_7d\",\"price_change_percentage_7d\",\"price_change_percentage_7d\",\"price_change_percentage_7d\",\"price_change_percentage_7d\",\"price_change_percentage_7d\",\"price_change_percentage_7d\",\"price_change_percentage_7d\",\"price_change_percentage_7d\",\"price_change_percentage_7d\",\"price_change_percentage_7d\",\"price_change_percentage_7d\",\"price_change_percentage_7d\",\"price_change_percentage_7d\",\"price_change_percentage_7d\",\"price_change_percentage_7d\",\"price_change_percentage_7d\",\"price_change_percentage_7d\",\"price_change_percentage_7d\",\"price_change_percentage_7d\",\"price_change_percentage_7d\",\"price_change_percentage_7d\"],\"coin_id\":[\"bitcoin\",\"ethereum\",\"tether\",\"ripple\",\"bitcoin-cash\",\"binancecoin\",\"chainlink\",\"cardano\",\"litecoin\",\"bitcoin-cash-sv\",\"crypto-com-chain\",\"usd-coin\",\"eos\",\"monero\",\"tron\",\"tezos\",\"okb\",\"stellar\",\"cosmos\",\"cdai\",\"neo\",\"wrapped-bitcoin\",\"leo-token\",\"huobi-token\",\"nem\",\"binance-usd\",\"iota\",\"vechain\",\"zcash\",\"theta-token\",\"dash\",\"ethereum-classic\",\"ethlend\",\"maker\",\"havven\",\"omisego\",\"celsius-degree-token\",\"ontology\",\"ftx-token\",\"true-usd\",\"digibyte\"],\"value\":{\"__ndarray__\":\"RbsKKT9pHkAzUBn/PsMkQL99HThnRKk/yVnY0w5/47/+JhQi4BgxQBL3WPrQtSlA7yB2ptCxNEA/jBAebfwrQPFL/bypaBpArKjBNAxfCkByv0NRoK8WwPlJtU/HY76/lPsdigL99L+n6Egu/5EvQE1KQbeX9BBA0m9fB87pIUBlU67wLjcSwKbtX1lpkgBAZwqd19gVMEBcIEHxY8ytP3wnZr0YigNAOh4zUBmfHUD3Hi457pT1vzNQGf8+4/k/kQ96Nqs+6781Y9F0djKoP2dEaW/wRRhAgXhdv2A3/L/8GHPXErIkQP8JLlbUYBjAVU0QdR9gFEDRlnMprmoIQGCrBIvD2RBAAiuHFtlOIECbG9MTllgRQKhXyjLEURtAqn06HjNQ4z+UvDrHgGzzvwltOZfiahxAsD2zJEBNxT8yj/zBwHPlPw==\",\"dtype\":\"float64\",\"order\":\"little\",\"shape\":[41]}},\"selected\":{\"id\":\"4449\"},\"selection_policy\":{\"id\":\"4465\"}},\"id\":\"4448\",\"type\":\"ColumnDataSource\"},{\"attributes\":{\"label\":{\"value\":\"price_change_percentage_1y\"},\"renderers\":[{\"id\":\"4584\"}]},\"id\":\"4608\",\"type\":\"LegendItem\"},{\"attributes\":{\"line_color\":\"#e5ae38\",\"line_width\":2,\"tags\":[\"apply_ranges\"],\"x\":{\"field\":\"coin_id\"},\"y\":{\"field\":\"value\"}},\"id\":\"4493\",\"type\":\"Line\"},{\"attributes\":{\"callback\":null,\"renderers\":[{\"id\":\"4433\"},{\"id\":\"4454\"},{\"id\":\"4476\"},{\"id\":\"4500\"},{\"id\":\"4526\"},{\"id\":\"4554\"},{\"id\":\"4584\"}],\"tags\":[\"hv_created\"],\"tooltips\":[[\"Variable\",\"@{Variable}\"],[\"coin_id\",\"@{coin_id}\"],[\"value\",\"@{value}\"]]},\"id\":\"4385\",\"type\":\"HoverTool\"},{\"attributes\":{\"coordinates\":null,\"data_source\":{\"id\":\"4448\"},\"glyph\":{\"id\":\"4451\"},\"group\":null,\"hover_glyph\":null,\"muted_glyph\":{\"id\":\"4453\"},\"name\":\"price_change_percentage_7d\",\"nonselection_glyph\":{\"id\":\"4452\"},\"selection_glyph\":{\"id\":\"4469\"},\"view\":{\"id\":\"4455\"}},\"id\":\"4454\",\"type\":\"GlyphRenderer\"},{\"attributes\":{\"source\":{\"id\":\"4470\"}},\"id\":\"4477\",\"type\":\"CDSView\"},{\"attributes\":{\"line_alpha\":0.1,\"line_color\":\"#fc4f30\",\"line_width\":2,\"tags\":[\"apply_ranges\"],\"x\":{\"field\":\"coin_id\"},\"y\":{\"field\":\"value\"}},\"id\":\"4452\",\"type\":\"Line\"},{\"attributes\":{\"label\":{\"value\":\"price_change_percentage_7d\"},\"renderers\":[{\"id\":\"4454\"}]},\"id\":\"4468\",\"type\":\"LegendItem\"},{\"attributes\":{\"line_color\":\"#6d904f\",\"line_width\":2,\"tags\":[\"apply_ranges\"],\"x\":{\"field\":\"coin_id\"},\"y\":{\"field\":\"value\"}},\"id\":\"4497\",\"type\":\"Line\"},{\"attributes\":{},\"id\":\"4428\",\"type\":\"Selection\"},{\"attributes\":{\"line_alpha\":0.2,\"line_color\":\"#6d904f\",\"line_width\":2,\"tags\":[\"apply_ranges\"],\"x\":{\"field\":\"coin_id\"},\"y\":{\"field\":\"value\"}},\"id\":\"4499\",\"type\":\"Line\"},{\"attributes\":{\"coordinates\":null,\"data_source\":{\"id\":\"4548\"},\"glyph\":{\"id\":\"4551\"},\"group\":null,\"hover_glyph\":null,\"muted_glyph\":{\"id\":\"4553\"},\"name\":\"price_change_percentage_200d\",\"nonselection_glyph\":{\"id\":\"4552\"},\"selection_glyph\":{\"id\":\"4577\"},\"view\":{\"id\":\"4555\"}},\"id\":\"4554\",\"type\":\"GlyphRenderer\"},{\"attributes\":{},\"id\":\"4449\",\"type\":\"Selection\"},{\"attributes\":{},\"id\":\"4442\",\"type\":\"UnionRenderers\"},{\"attributes\":{},\"id\":\"4405\",\"type\":\"BasicTicker\"},{\"attributes\":{},\"id\":\"4465\",\"type\":\"UnionRenderers\"},{\"attributes\":{\"below\":[{\"id\":\"4401\"}],\"center\":[{\"id\":\"4403\"},{\"id\":\"4407\"}],\"left\":[{\"id\":\"4404\"}],\"margin\":[5,5,5,5],\"min_border_bottom\":10,\"min_border_left\":10,\"min_border_right\":10,\"min_border_top\":10,\"output_backend\":\"webgl\",\"renderers\":[{\"id\":\"4433\"},{\"id\":\"4454\"},{\"id\":\"4476\"},{\"id\":\"4500\"},{\"id\":\"4526\"},{\"id\":\"4554\"},{\"id\":\"4584\"}],\"right\":[{\"id\":\"4445\"}],\"sizing_mode\":\"fixed\",\"title\":{\"id\":\"4393\"},\"toolbar\":{\"id\":\"4414\"},\"width\":1200,\"x_range\":{\"id\":\"4381\"},\"x_scale\":{\"id\":\"4399\"},\"y_range\":{\"id\":\"4382\"},\"y_scale\":{\"id\":\"4400\"}},\"id\":\"4392\",\"subtype\":\"Figure\",\"type\":\"Plot\"},{\"attributes\":{\"line_alpha\":0.1,\"line_color\":\"#17becf\",\"line_width\":2,\"tags\":[\"apply_ranges\"],\"x\":{\"field\":\"coin_id\"},\"y\":{\"field\":\"value\"}},\"id\":\"4552\",\"type\":\"Line\"},{\"attributes\":{\"coordinates\":null,\"data_source\":{\"id\":\"4494\"},\"glyph\":{\"id\":\"4497\"},\"group\":null,\"hover_glyph\":null,\"muted_glyph\":{\"id\":\"4499\"},\"name\":\"price_change_percentage_30d\",\"nonselection_glyph\":{\"id\":\"4498\"},\"selection_glyph\":{\"id\":\"4519\"},\"view\":{\"id\":\"4501\"}},\"id\":\"4500\",\"type\":\"GlyphRenderer\"},{\"attributes\":{},\"id\":\"4412\",\"type\":\"ResetTool\"},{\"attributes\":{\"line_alpha\":0.1,\"line_color\":\"#6d904f\",\"line_width\":2,\"tags\":[\"apply_ranges\"],\"x\":{\"field\":\"coin_id\"},\"y\":{\"field\":\"value\"}},\"id\":\"4498\",\"type\":\"Line\"},{\"attributes\":{\"data\":{\"Variable\":[\"price_change_percentage_30d\",\"price_change_percentage_30d\",\"price_change_percentage_30d\",\"price_change_percentage_30d\",\"price_change_percentage_30d\",\"price_change_percentage_30d\",\"price_change_percentage_30d\",\"price_change_percentage_30d\",\"price_change_percentage_30d\",\"price_change_percentage_30d\",\"price_change_percentage_30d\",\"price_change_percentage_30d\",\"price_change_percentage_30d\",\"price_change_percentage_30d\",\"price_change_percentage_30d\",\"price_change_percentage_30d\",\"price_change_percentage_30d\",\"price_change_percentage_30d\",\"price_change_percentage_30d\",\"price_change_percentage_30d\",\"price_change_percentage_30d\",\"price_change_percentage_30d\",\"price_change_percentage_30d\",\"price_change_percentage_30d\",\"price_change_percentage_30d\",\"price_change_percentage_30d\",\"price_change_percentage_30d\",\"price_change_percentage_30d\",\"price_change_percentage_30d\",\"price_change_percentage_30d\",\"price_change_percentage_30d\",\"price_change_percentage_30d\",\"price_change_percentage_30d\",\"price_change_percentage_30d\",\"price_change_percentage_30d\",\"price_change_percentage_30d\",\"price_change_percentage_30d\",\"price_change_percentage_30d\",\"price_change_percentage_30d\",\"price_change_percentage_30d\",\"price_change_percentage_30d\"],\"coin_id\":[\"bitcoin\",\"ethereum\",\"tether\",\"ripple\",\"bitcoin-cash\",\"binancecoin\",\"chainlink\",\"cardano\",\"litecoin\",\"bitcoin-cash-sv\",\"crypto-com-chain\",\"usd-coin\",\"eos\",\"monero\",\"tron\",\"tezos\",\"okb\",\"stellar\",\"cosmos\",\"cdai\",\"neo\",\"wrapped-bitcoin\",\"leo-token\",\"huobi-token\",\"nem\",\"binance-usd\",\"iota\",\"vechain\",\"zcash\",\"theta-token\",\"dash\",\"ethereum-classic\",\"ethlend\",\"maker\",\"havven\",\"omisego\",\"celsius-degree-token\",\"ontology\",\"ftx-token\",\"true-usd\",\"digibyte\"],\"value\":{\"__ndarray__\":\"VMa/z7iwHkAl6ZrJN9vAP/28qUiFsaW/L26jAbwFzj8dcjPcgH8vQPMf0m9fB64/5bhTOlhvJsBnfjUHCDYkQGWNeohGd/M/sCDNWDQdB0Cmft5UpHIxwJgvL8A+OsW/t0WZDTKJEsDeVKTC2HpDQEzD8BExNSnAjWK5pdVALMDjjcwjf+AkwIrIsIo3QiDAjliLTwFQEkAWpBmLpnMBwE3WqIdo9DXAVG8NbJWAHUAnMQisHJoIQGA8g4b+CQrACcTr+gU7DcCPpQ9dUN+SP80Bgjl6nBDA9S1zuixWLMBC7Eyh83odQEku/yH9bj9AtTf4wmQqH8Am/FI/byoHQNjYJaq3/j3A9GxWfa62MECdRloqb9c0wF4R/G8lOyLArK3YX3aZYUC1/SsrTVpBwP/PYb68ICXAFR3J5T+knz+ndLD+z4EqQA==\",\"dtype\":\"float64\",\"order\":\"little\",\"shape\":[41]}},\"selected\":{\"id\":\"4495\"},\"selection_policy\":{\"id\":\"4515\"}},\"id\":\"4494\",\"type\":\"ColumnDataSource\"},{\"attributes\":{\"line_color\":\"#8b8b8b\",\"line_width\":2,\"tags\":[\"apply_ranges\"],\"x\":{\"field\":\"coin_id\"},\"y\":{\"field\":\"value\"}},\"id\":\"4547\",\"type\":\"Line\"},{\"attributes\":{\"label\":{\"value\":\"price_change_percentage_30d\"},\"renderers\":[{\"id\":\"4500\"}]},\"id\":\"4518\",\"type\":\"LegendItem\"},{\"attributes\":{\"label\":{\"value\":\"price_change_percentage_200d\"},\"renderers\":[{\"id\":\"4554\"}]},\"id\":\"4576\",\"type\":\"LegendItem\"},{\"attributes\":{\"children\":[{\"id\":\"4392\"}],\"height\":600,\"margin\":[0,0,0,0],\"name\":\"Row04675\",\"sizing_mode\":\"fixed\",\"tags\":[\"embedded\"],\"width\":1200},\"id\":\"4380\",\"type\":\"Row\"},{\"attributes\":{},\"id\":\"4495\",\"type\":\"Selection\"},{\"attributes\":{\"factors\":[\"bitcoin\",\"ethereum\",\"tether\",\"ripple\",\"bitcoin-cash\",\"binancecoin\",\"chainlink\",\"cardano\",\"litecoin\",\"bitcoin-cash-sv\",\"crypto-com-chain\",\"usd-coin\",\"eos\",\"monero\",\"tron\",\"tezos\",\"okb\",\"stellar\",\"cosmos\",\"cdai\",\"neo\",\"wrapped-bitcoin\",\"leo-token\",\"huobi-token\",\"nem\",\"binance-usd\",\"iota\",\"vechain\",\"zcash\",\"theta-token\",\"dash\",\"ethereum-classic\",\"ethlend\",\"maker\",\"havven\",\"omisego\",\"celsius-degree-token\",\"ontology\",\"ftx-token\",\"true-usd\",\"digibyte\"],\"tags\":[[[\"coin_id\",\"coin_id\",null]],[]]},\"id\":\"4381\",\"type\":\"FactorRange\"},{\"attributes\":{\"line_color\":\"#17becf\",\"line_width\":2,\"tags\":[\"apply_ranges\"],\"x\":{\"field\":\"coin_id\"},\"y\":{\"field\":\"value\"}},\"id\":\"4551\",\"type\":\"Line\"},{\"attributes\":{},\"id\":\"4515\",\"type\":\"UnionRenderers\"},{\"attributes\":{\"bottom_units\":\"screen\",\"coordinates\":null,\"fill_alpha\":0.5,\"fill_color\":\"lightgrey\",\"group\":null,\"left_units\":\"screen\",\"level\":\"overlay\",\"line_alpha\":1.0,\"line_color\":\"black\",\"line_dash\":[4,4],\"line_width\":2,\"right_units\":\"screen\",\"syncable\":false,\"top_units\":\"screen\"},\"id\":\"4413\",\"type\":\"BoxAnnotation\"},{\"attributes\":{\"overlay\":{\"id\":\"4413\"}},\"id\":\"4411\",\"type\":\"BoxZoomTool\"},{\"attributes\":{\"coordinates\":null,\"group\":null,\"text_color\":\"black\",\"text_font_size\":\"12pt\"},\"id\":\"4393\",\"type\":\"Title\"},{\"attributes\":{},\"id\":\"4425\",\"type\":\"BasicTickFormatter\"},{\"attributes\":{\"source\":{\"id\":\"4548\"}},\"id\":\"4555\",\"type\":\"CDSView\"},{\"attributes\":{\"line_color\":\"#9467bd\",\"line_width\":2,\"tags\":[\"apply_ranges\"],\"x\":{\"field\":\"coin_id\"},\"y\":{\"field\":\"value\"}},\"id\":\"4609\",\"type\":\"Line\"},{\"attributes\":{\"data\":{\"Variable\":[\"price_change_percentage_24h\",\"price_change_percentage_24h\",\"price_change_percentage_24h\",\"price_change_percentage_24h\",\"price_change_percentage_24h\",\"price_change_percentage_24h\",\"price_change_percentage_24h\",\"price_change_percentage_24h\",\"price_change_percentage_24h\",\"price_change_percentage_24h\",\"price_change_percentage_24h\",\"price_change_percentage_24h\",\"price_change_percentage_24h\",\"price_change_percentage_24h\",\"price_change_percentage_24h\",\"price_change_percentage_24h\",\"price_change_percentage_24h\",\"price_change_percentage_24h\",\"price_change_percentage_24h\",\"price_change_percentage_24h\",\"price_change_percentage_24h\",\"price_change_percentage_24h\",\"price_change_percentage_24h\",\"price_change_percentage_24h\",\"price_change_percentage_24h\",\"price_change_percentage_24h\",\"price_change_percentage_24h\",\"price_change_percentage_24h\",\"price_change_percentage_24h\",\"price_change_percentage_24h\",\"price_change_percentage_24h\",\"price_change_percentage_24h\",\"price_change_percentage_24h\",\"price_change_percentage_24h\",\"price_change_percentage_24h\",\"price_change_percentage_24h\",\"price_change_percentage_24h\",\"price_change_percentage_24h\",\"price_change_percentage_24h\",\"price_change_percentage_24h\",\"price_change_percentage_24h\"],\"coin_id\":[\"bitcoin\",\"ethereum\",\"tether\",\"ripple\",\"bitcoin-cash\",\"binancecoin\",\"chainlink\",\"cardano\",\"litecoin\",\"bitcoin-cash-sv\",\"crypto-com-chain\",\"usd-coin\",\"eos\",\"monero\",\"tron\",\"tezos\",\"okb\",\"stellar\",\"cosmos\",\"cdai\",\"neo\",\"wrapped-bitcoin\",\"leo-token\",\"huobi-token\",\"nem\",\"binance-usd\",\"iota\",\"vechain\",\"zcash\",\"theta-token\",\"dash\",\"ethereum-classic\",\"ethlend\",\"maker\",\"havven\",\"omisego\",\"celsius-degree-token\",\"ontology\",\"ftx-token\",\"true-usd\",\"digibyte\"],\"value\":{\"__ndarray__\":\"nZ0MjpJX8T8MzXUaaanMP5mByvj3Gcu/wCZr1EM02L8ep+hILj8HQL0Yyol21QBAwhcmUwWjzr//CS5W1GBqP7JGPUSjO7C/QKTfvg6c7T8urYbEPZbjPzeJQWDl0Ma/1pC4x9KHwj87NgLxun7bP90HILWJk7M/JjYf14aK5b83iUFg5dAFwG3i5H6HIvC/5nlwd9Zu7r9i83FtqBjLP+iHEcKjjd8/M9yAzw+j8T/fGtgqweLAv+RmuAGfH9q/UdobfGEy678D7KNTVz67v8YzaOif4No/teBFX0Ga9D8G2Eenrnzjvx+duvJZPhLAoMN8eQH28L+cxCCwcmjdv667eapDDivAX5hMFYxK479EUaBP5EkQwAZkr3d/XBNA0JuKVBgbBEDqBDQRNrz1vxo09E9wseo/tI6qJoi6r79qMA3DR8QHQA==\",\"dtype\":\"float64\",\"order\":\"little\",\"shape\":[41]}},\"selected\":{\"id\":\"4428\"},\"selection_policy\":{\"id\":\"4442\"}},\"id\":\"4427\",\"type\":\"ColumnDataSource\"},{\"attributes\":{\"line_alpha\":0.2,\"line_color\":\"#17becf\",\"line_width\":2,\"tags\":[\"apply_ranges\"],\"x\":{\"field\":\"coin_id\"},\"y\":{\"field\":\"value\"}},\"id\":\"4553\",\"type\":\"Line\"},{\"attributes\":{},\"id\":\"4605\",\"type\":\"UnionRenderers\"},{\"attributes\":{},\"id\":\"4573\",\"type\":\"UnionRenderers\"},{\"attributes\":{\"data\":{\"Variable\":[\"price_change_percentage_1y\",\"price_change_percentage_1y\",\"price_change_percentage_1y\",\"price_change_percentage_1y\",\"price_change_percentage_1y\",\"price_change_percentage_1y\",\"price_change_percentage_1y\",\"price_change_percentage_1y\",\"price_change_percentage_1y\",\"price_change_percentage_1y\",\"price_change_percentage_1y\",\"price_change_percentage_1y\",\"price_change_percentage_1y\",\"price_change_percentage_1y\",\"price_change_percentage_1y\",\"price_change_percentage_1y\",\"price_change_percentage_1y\",\"price_change_percentage_1y\",\"price_change_percentage_1y\",\"price_change_percentage_1y\",\"price_change_percentage_1y\",\"price_change_percentage_1y\",\"price_change_percentage_1y\",\"price_change_percentage_1y\",\"price_change_percentage_1y\",\"price_change_percentage_1y\",\"price_change_percentage_1y\",\"price_change_percentage_1y\",\"price_change_percentage_1y\",\"price_change_percentage_1y\",\"price_change_percentage_1y\",\"price_change_percentage_1y\",\"price_change_percentage_1y\",\"price_change_percentage_1y\",\"price_change_percentage_1y\",\"price_change_percentage_1y\",\"price_change_percentage_1y\",\"price_change_percentage_1y\",\"price_change_percentage_1y\",\"price_change_percentage_1y\",\"price_change_percentage_1y\"],\"coin_id\":[\"bitcoin\",\"ethereum\",\"tether\",\"ripple\",\"bitcoin-cash\",\"binancecoin\",\"chainlink\",\"cardano\",\"litecoin\",\"bitcoin-cash-sv\",\"crypto-com-chain\",\"usd-coin\",\"eos\",\"monero\",\"tron\",\"tezos\",\"okb\",\"stellar\",\"cosmos\",\"cdai\",\"neo\",\"wrapped-bitcoin\",\"leo-token\",\"huobi-token\",\"nem\",\"binance-usd\",\"iota\",\"vechain\",\"zcash\",\"theta-token\",\"dash\",\"ethereum-classic\",\"ethlend\",\"maker\",\"havven\",\"omisego\",\"celsius-degree-token\",\"ontology\",\"ftx-token\",\"true-usd\",\"digibyte\"],\"value\":{\"__ndarray__\":\"kQpjC0HCQkDWqIdodH1ZQN/42jNLApQ/NXugFRiaMMDN6bKY2PwsQOcdp+hIbFFAaTo7GRxSdEC6LCY2H4NjQPnaM0sCVCnA0NA/wcVuV0CQvd798RBzQL4wmSoYlci/t39lpUmRMcDovMYuUaFhQEPKT6p9nk1A6PaSxmiAYUBdUN8yp75hQMzuycNCnStAw7ZFmQ2cVEAHsTOFzmvSvx/0bFZ9aWBAhhvw+WHEQkAN/RNcrAA1QN8Vwf9WkjhAS7A4nPkWaUAVUn5S7dPBPzUk7rH04Q/AIsMq3shbaUBf0hito7hUQPyMCwcC64VAzsKedvirA8Dwoq8gzTgmQHRGlPYWrL5Ayk+qfTpOJUDfiVkvRjaFQEfJq3MMC3RAnFCIgONmn0CsVib8Uk8pwNttF5rrC2VAyXGndLD+2T/ZfFwbKgxnQA==\",\"dtype\":\"float64\",\"order\":\"little\",\"shape\":[41]}},\"selected\":{\"id\":\"4579\"},\"selection_policy\":{\"id\":\"4605\"}},\"id\":\"4578\",\"type\":\"ColumnDataSource\"},{\"attributes\":{\"active_drag\":{\"id\":\"4409\"},\"active_scroll\":{\"id\":\"4410\"},\"tools\":[{\"id\":\"4385\"},{\"id\":\"4408\"},{\"id\":\"4409\"},{\"id\":\"4410\"},{\"id\":\"4411\"},{\"id\":\"4412\"}]},\"id\":\"4414\",\"type\":\"Toolbar\"},{\"attributes\":{},\"id\":\"4408\",\"type\":\"SaveTool\"},{\"attributes\":{},\"id\":\"4423\",\"type\":\"AllLabels\"},{\"attributes\":{\"axis_label\":\"\",\"coordinates\":null,\"formatter\":{\"id\":\"4425\"},\"group\":null,\"major_label_policy\":{\"id\":\"4426\"},\"ticker\":{\"id\":\"4405\"}},\"id\":\"4404\",\"type\":\"LinearAxis\"},{\"attributes\":{},\"id\":\"4422\",\"type\":\"CategoricalTickFormatter\"},{\"attributes\":{},\"id\":\"4549\",\"type\":\"Selection\"},{\"attributes\":{\"line_alpha\":0.1,\"line_color\":\"#9467bd\",\"line_width\":2,\"tags\":[\"apply_ranges\"],\"x\":{\"field\":\"coin_id\"},\"y\":{\"field\":\"value\"}},\"id\":\"4582\",\"type\":\"Line\"},{\"attributes\":{\"line_color\":\"#fc4f30\",\"line_width\":2,\"tags\":[\"apply_ranges\"],\"x\":{\"field\":\"coin_id\"},\"y\":{\"field\":\"value\"}},\"id\":\"4469\",\"type\":\"Line\"},{\"attributes\":{},\"id\":\"4426\",\"type\":\"AllLabels\"}],\"root_ids\":[\"4380\"]},\"title\":\"Bokeh Application\",\"version\":\"2.4.3\"}};\n",
       "    var render_items = [{\"docid\":\"0f384f6a-1659-4d8c-aed1-698396ed48bf\",\"root_ids\":[\"4380\"],\"roots\":{\"4380\":\"0fd0afc7-7d39-4106-a32c-10de630a7789\"}}];\n",
       "    root.Bokeh.embed.embed_items_notebook(docs_json, render_items);\n",
       "    for (const render_item of render_items) {\n",
       "      for (const root_id of render_item.root_ids) {\n",
       "\tconst id_el = document.getElementById(root_id)\n",
       "\tif (id_el.children.length && (id_el.children[0].className === 'bk-root')) {\n",
       "\t  const root_el = id_el.children[0]\n",
       "\t  root_el.id = root_el.id + '-rendered'\n",
       "\t}\n",
       "      }\n",
       "    }\n",
       "  }\n",
       "  if (root.Bokeh !== undefined && root.Bokeh.Panel !== undefined) {\n",
       "    embed_document(root);\n",
       "  } else {\n",
       "    var attempts = 0;\n",
       "    var timer = setInterval(function(root) {\n",
       "      if (root.Bokeh !== undefined && root.Bokeh.Panel !== undefined) {\n",
       "        clearInterval(timer);\n",
       "        embed_document(root);\n",
       "      } else if (document.readyState == \"complete\") {\n",
       "        attempts++;\n",
       "        if (attempts > 200) {\n",
       "          clearInterval(timer);\n",
       "          console.log(\"Bokeh: ERROR: Unable to run BokehJS code because BokehJS library is missing\");\n",
       "        }\n",
       "      }\n",
       "    }, 25, root)\n",
       "  }\n",
       "})(window);</script>"
      ],
      "text/plain": [
       ":NdOverlay   [Variable]\n",
       "   :Curve   [coin_id]   (value)"
      ]
     },
     "execution_count": 91,
     "metadata": {
      "application/vnd.holoviews_exec.v0+json": {
       "id": "4380"
      }
     },
     "output_type": "execute_result"
    }
   ],
   "source": [
    "\n",
    "#\n",
    "# Plot your data to see what's in your DataFrame\n",
    "#\n",
    "print('Plotting Data',datetime.now())\n",
    "df_Source_Data.hvplot.line(width=1200,height=600,rot=90)\n"
   ]
  },
  {
   "attachments": {},
   "cell_type": "markdown",
   "metadata": {},
   "source": [
    "---"
   ]
  },
  {
   "attachments": {},
   "cell_type": "markdown",
   "metadata": {},
   "source": [
    "### Prepare the Data"
   ]
  },
  {
   "cell_type": "code",
   "execution_count": 92,
   "metadata": {},
   "outputs": [
    {
     "name": "stdout",
     "output_type": "stream",
     "text": [
      "Normalizing Data 2023-08-27 17:19:47.945307\n",
      "[[ 5.08529366e-01  4.93193071e-01  7.72200433e-01  2.35459633e-01\n",
      "  -6.74950963e-02 -3.55953481e-01 -2.51636882e-01]\n",
      " [ 1.85445894e-01  9.34445040e-01  5.58692121e-01 -5.43409317e-02\n",
      "  -2.73482725e-01 -1.15759474e-01 -1.99352110e-01]\n",
      " [ 2.17739616e-02 -7.06336853e-01 -2.16804207e-02 -6.10301536e-02\n",
      "   8.00452481e-03 -5.50246924e-01 -2.82060506e-01]\n",
      " [-4.07643829e-02 -8.10928066e-01  2.49457974e-01 -5.03879651e-02\n",
      "  -3.73164019e-01 -4.58258816e-01 -2.95546142e-01]\n",
      " [ 1.19303608e+00  2.00095907e+00  1.76061001e+00  5.45842065e-01\n",
      "  -2.91202870e-01 -4.99847761e-01 -2.70316950e-01]\n",
      " [ 8.91870708e-01  1.32729453e+00  8.00214184e-01 -5.71478992e-02\n",
      "   7.78653106e-01 -1.88231917e-01 -2.25532605e-01]\n",
      " [ 1.13972400e-02  2.57225091e+00  1.10164693e+00 -4.90495415e-01\n",
      "  -9.31954023e-01  3.87758986e-01 -1.82843995e-02]\n",
      " [ 1.02529802e-01  1.50800146e+00  6.48885061e-01  3.28959245e-01\n",
      "  -4.86348899e-01  6.50796233e-02 -1.55428416e-01]\n",
      " [ 7.74971820e-02  3.34296562e-01  8.58519864e-01 -1.26464730e-02\n",
      "  -3.66476990e-01 -4.86265591e-01 -2.92351214e-01]\n",
      " [ 4.48951505e-01 -1.90684278e-01 -2.48043224e-01  5.16340055e-02\n",
      "  -5.29666139e-01 -5.32960809e-01 -2.06028947e-01]\n",
      " [ 3.31279783e-01 -1.61484369e+00 -1.05452114e+00 -7.29931204e-01\n",
      "  -3.50155382e-01 -2.28656819e-02 -3.45702165e-02]\n",
      " [ 3.43522614e-02 -7.33025788e-01 -2.31403893e-02 -6.57751738e-02\n",
      "   2.92464871e-03 -5.50599321e-01 -2.82232177e-01]\n",
      " [ 1.55709561e-01 -9.22490861e-01  1.15023636e-01 -2.37488260e-01\n",
      "  -6.42836699e-01 -5.08220490e-01 -2.96329571e-01]\n",
      " [ 2.62722790e-01  1.79260243e+00  2.20266503e+00  1.43784246e+00\n",
      "   8.93864936e-01 -1.55892797e-01 -1.67644252e-01]\n",
      " [ 1.30049529e-01 -4.10175729e-02  1.47155030e-01 -5.43776301e-01\n",
      "   1.20115762e-01 -2.41118188e-01 -2.34014125e-01]\n",
      " [-1.51583411e-01  7.08195735e-01  2.58012326e-01 -6.02296039e-01\n",
      "  -9.56048701e-01 -4.49210952e-01 -1.68478608e-01]\n",
      " [-9.23202741e-01 -1.43735894e+00 -6.29962775e-01 -4.60558015e-01\n",
      "  -5.85038908e-02 -4.57282624e-01 -1.66900457e-01]\n",
      " [-2.77542986e-01 -3.85208910e-01 -1.53243165e-01 -3.71816490e-01\n",
      "  -6.56403341e-01 -3.53387283e-01 -2.70874088e-01]\n",
      " [-2.55978040e-01  1.84027440e+00  6.43564878e-01  1.16538212e-01\n",
      "  -1.51912822e-01 -1.17565353e-01 -2.15190977e-01]\n",
      " [ 1.80851132e-01 -7.04931420e-01 -1.81614685e-03 -1.43236947e-01\n",
      "   1.60603798e-02 -5.51146420e-01 -2.82309887e-01]\n",
      " [ 2.86545668e-01 -3.26301416e-01 -1.21267030e+00 -9.03133859e-01\n",
      "   2.90969825e-01 -1.81187334e-01 -1.75550428e-01]\n",
      " [ 5.15453442e-01  4.61843180e-01  7.69975432e-01  2.24045375e-01\n",
      "  -7.46741671e-02 -3.55053705e-01 -2.51623389e-01]\n",
      " [ 5.17582538e-02 -9.28380975e-01 -8.71917511e-01  5.87817038e-02\n",
      "  -1.59249637e-01 -5.12070892e-01 -2.65036119e-01]\n",
      " [-5.20315039e-02 -4.57229014e-01  3.25221197e-02 -1.84488686e-01\n",
      "  -7.08090069e-02 -4.51982345e-01 -2.62140444e-01]\n",
      " [-2.17983910e-01 -8.49381348e-01  2.97632101e-01 -1.99820170e-01\n",
      "   1.77312724e+00 -4.73610984e-02 -1.19226165e-01]\n",
      " [ 6.13385000e-02 -7.06668758e-01 -1.53208558e-02 -5.86935760e-02\n",
      "   4.01731582e-03 -5.50002649e-01 -2.81963356e-01]\n",
      " [ 2.59097324e-01  2.49508456e-01 -4.78952718e-01 -2.18996632e-01\n",
      "  -7.35815146e-01 -3.29179315e-01 -2.85309811e-01]\n",
      " [ 5.85088683e-01 -9.94231467e-01 -2.21710811e+00 -6.03897825e-01\n",
      "  -9.30422964e-01  7.71490396e-02 -1.17481544e-01]\n",
      " [-1.27467490e-01  9.29118687e-01  6.77532109e-01  2.23834007e-01\n",
      "  -4.37067731e-01 -2.65163438e-01 -2.14828585e-01]\n",
      " [-1.61218775e+00 -1.68202656e+00 -8.16920931e-01  1.14860683e+00\n",
      "   1.71264110e+00  1.50299207e+00  2.86976907e-01]\n",
      " [-2.96940167e-01  9.47631360e-02  4.00395074e-02 -3.58829654e-01\n",
      "  -5.58527342e-01 -5.35731946e-01 -2.84071416e-01]\n",
      " [-7.13122190e-02 -2.29483757e-01 -1.75543942e-01  5.18822668e-02\n",
      "  -5.51759945e-01 -5.26060334e-01 -2.73061627e-01]\n",
      " [-4.98104189e+00 -4.51782898e-02 -1.20695612e+00 -1.21212587e+00\n",
      "   4.77355426e-02  4.63238025e+00  6.08862545e+00]\n",
      " [-1.25168231e-01  5.80730108e-01 -2.02356361e-01  5.82911022e-01\n",
      "  -3.95923001e-01 -3.58240047e-01 -2.73433342e-01]\n",
      " [-1.42857388e+00 -2.55101681e-02 -1.62885923e+00 -8.60353737e-01\n",
      "  -8.40713540e-01  8.98815486e-01  2.68647377e-01]\n",
      " [ 1.91981234e+00  3.70447157e-01 -1.61976101e+00 -4.09716316e-01\n",
      "   1.69648044e+00  8.11206969e-01 -2.18878129e-02]\n",
      " [ 1.04553034e+00 -6.18328162e-01  2.90705393e+00  5.35145461e+00\n",
      "   4.76991278e+00  3.14887546e+00  1.34848839e+00]\n",
      " [-4.09044076e-01 -9.06962812e-01 -1.29898610e+00 -1.39315260e+00\n",
      "  -6.96936973e-01 -4.22834707e-01 -2.92343790e-01]\n",
      " [ 4.14710578e-01  4.14044166e-01 -4.73857773e-02 -4.65379896e-01\n",
      "   1.28184655e-01 -4.16502012e-01 -1.45469278e-01]\n",
      " [ 7.80381841e-02 -6.87745436e-01 -9.19092169e-03 -5.82143470e-02\n",
      "   7.38829646e-03 -5.50440743e-01 -2.81746818e-01]\n",
      " [ 1.21745256e+00 -6.07713570e-01 -9.07065528e-01  4.49939006e-01\n",
      "  -6.62529501e-01  5.72366557e-01 -1.32481673e-01]]\n",
      "Data Normalized 2023-08-27 17:19:47.947779\n"
     ]
    }
   ],
   "source": [
    "#\n",
    "# Use the `StandardScaler()` module from scikit-learn to normalize the data from the CSV file\n",
    "# According to the graph above, at least one cryptocurrency is in the thousands, while the rest are in the hundreds.\n",
    "# This means that the data is skewed and needs to be normalized.\n",
    "# \n",
    "print('Normalizing Data',datetime.now())\n",
    "crypto_Scaled_Array = StandardScaler().fit_transform(df_Source_Data)\n",
    "print(crypto_Scaled_Array)\n",
    "print('Data Normalized',datetime.now())"
   ]
  },
  {
   "cell_type": "code",
   "execution_count": 93,
   "metadata": {},
   "outputs": [
    {
     "name": "stdout",
     "output_type": "stream",
     "text": [
      "Before DataFrame transformation 2023-08-27 17:20:45.406000\n",
      "    price_change_percentage_24h  price_change_percentage_7d  \\\n",
      "0                      0.508529                    0.493193   \n",
      "1                      0.185446                    0.934445   \n",
      "2                      0.021774                   -0.706337   \n",
      "3                     -0.040764                   -0.810928   \n",
      "4                      1.193036                    2.000959   \n",
      "5                      0.891871                    1.327295   \n",
      "6                      0.011397                    2.572251   \n",
      "7                      0.102530                    1.508001   \n",
      "8                      0.077497                    0.334297   \n",
      "9                      0.448952                   -0.190684   \n",
      "10                     0.331280                   -1.614844   \n",
      "11                     0.034352                   -0.733026   \n",
      "12                     0.155710                   -0.922491   \n",
      "13                     0.262723                    1.792602   \n",
      "14                     0.130050                   -0.041018   \n",
      "15                    -0.151583                    0.708196   \n",
      "16                    -0.923203                   -1.437359   \n",
      "17                    -0.277543                   -0.385209   \n",
      "18                    -0.255978                    1.840274   \n",
      "19                     0.180851                   -0.704931   \n",
      "20                     0.286546                   -0.326301   \n",
      "21                     0.515453                    0.461843   \n",
      "22                     0.051758                   -0.928381   \n",
      "23                    -0.052032                   -0.457229   \n",
      "24                    -0.217984                   -0.849381   \n",
      "25                     0.061339                   -0.706669   \n",
      "26                     0.259097                    0.249508   \n",
      "27                     0.585089                   -0.994231   \n",
      "28                    -0.127467                    0.929119   \n",
      "29                    -1.612188                   -1.682027   \n",
      "30                    -0.296940                    0.094763   \n",
      "31                    -0.071312                   -0.229484   \n",
      "32                    -4.981042                   -0.045178   \n",
      "33                    -0.125168                    0.580730   \n",
      "34                    -1.428574                   -0.025510   \n",
      "35                     1.919812                    0.370447   \n",
      "36                     1.045530                   -0.618328   \n",
      "37                    -0.409044                   -0.906963   \n",
      "38                     0.414711                    0.414044   \n",
      "39                     0.078038                   -0.687745   \n",
      "40                     1.217453                   -0.607714   \n",
      "\n",
      "    price_change_percentage_14d  price_change_percentage_30d  \\\n",
      "0                      0.772200                     0.235460   \n",
      "1                      0.558692                    -0.054341   \n",
      "2                     -0.021680                    -0.061030   \n",
      "3                      0.249458                    -0.050388   \n",
      "4                      1.760610                     0.545842   \n",
      "5                      0.800214                    -0.057148   \n",
      "6                      1.101647                    -0.490495   \n",
      "7                      0.648885                     0.328959   \n",
      "8                      0.858520                    -0.012646   \n",
      "9                     -0.248043                     0.051634   \n",
      "10                    -1.054521                    -0.729931   \n",
      "11                    -0.023140                    -0.065775   \n",
      "12                     0.115024                    -0.237488   \n",
      "13                     2.202665                     1.437842   \n",
      "14                     0.147155                    -0.543776   \n",
      "15                     0.258012                    -0.602296   \n",
      "16                    -0.629963                    -0.460558   \n",
      "17                    -0.153243                    -0.371816   \n",
      "18                     0.643565                     0.116538   \n",
      "19                    -0.001816                    -0.143237   \n",
      "20                    -1.212670                    -0.903134   \n",
      "21                     0.769975                     0.224045   \n",
      "22                    -0.871918                     0.058782   \n",
      "23                     0.032522                    -0.184489   \n",
      "24                     0.297632                    -0.199820   \n",
      "25                    -0.015321                    -0.058694   \n",
      "26                    -0.478953                    -0.218997   \n",
      "27                    -2.217108                    -0.603898   \n",
      "28                     0.677532                     0.223834   \n",
      "29                    -0.816921                     1.148607   \n",
      "30                     0.040040                    -0.358830   \n",
      "31                    -0.175544                     0.051882   \n",
      "32                    -1.206956                    -1.212126   \n",
      "33                    -0.202356                     0.582911   \n",
      "34                    -1.628859                    -0.860354   \n",
      "35                    -1.619761                    -0.409716   \n",
      "36                     2.907054                     5.351455   \n",
      "37                    -1.298986                    -1.393153   \n",
      "38                    -0.047386                    -0.465380   \n",
      "39                    -0.009191                    -0.058214   \n",
      "40                    -0.907066                     0.449939   \n",
      "\n",
      "    price_change_percentage_60d  price_change_percentage_200d  \\\n",
      "0                     -0.067495                     -0.355953   \n",
      "1                     -0.273483                     -0.115759   \n",
      "2                      0.008005                     -0.550247   \n",
      "3                     -0.373164                     -0.458259   \n",
      "4                     -0.291203                     -0.499848   \n",
      "5                      0.778653                     -0.188232   \n",
      "6                     -0.931954                      0.387759   \n",
      "7                     -0.486349                      0.065080   \n",
      "8                     -0.366477                     -0.486266   \n",
      "9                     -0.529666                     -0.532961   \n",
      "10                    -0.350155                     -0.022866   \n",
      "11                     0.002925                     -0.550599   \n",
      "12                    -0.642837                     -0.508220   \n",
      "13                     0.893865                     -0.155893   \n",
      "14                     0.120116                     -0.241118   \n",
      "15                    -0.956049                     -0.449211   \n",
      "16                    -0.058504                     -0.457283   \n",
      "17                    -0.656403                     -0.353387   \n",
      "18                    -0.151913                     -0.117565   \n",
      "19                     0.016060                     -0.551146   \n",
      "20                     0.290970                     -0.181187   \n",
      "21                    -0.074674                     -0.355054   \n",
      "22                    -0.159250                     -0.512071   \n",
      "23                    -0.070809                     -0.451982   \n",
      "24                     1.773127                     -0.047361   \n",
      "25                     0.004017                     -0.550003   \n",
      "26                    -0.735815                     -0.329179   \n",
      "27                    -0.930423                      0.077149   \n",
      "28                    -0.437068                     -0.265163   \n",
      "29                     1.712641                      1.502992   \n",
      "30                    -0.558527                     -0.535732   \n",
      "31                    -0.551760                     -0.526060   \n",
      "32                     0.047736                      4.632380   \n",
      "33                    -0.395923                     -0.358240   \n",
      "34                    -0.840714                      0.898815   \n",
      "35                     1.696480                      0.811207   \n",
      "36                     4.769913                      3.148875   \n",
      "37                    -0.696937                     -0.422835   \n",
      "38                     0.128185                     -0.416502   \n",
      "39                     0.007388                     -0.550441   \n",
      "40                    -0.662530                      0.572367   \n",
      "\n",
      "    price_change_percentage_1y  \n",
      "0                    -0.251637  \n",
      "1                    -0.199352  \n",
      "2                    -0.282061  \n",
      "3                    -0.295546  \n",
      "4                    -0.270317  \n",
      "5                    -0.225533  \n",
      "6                    -0.018284  \n",
      "7                    -0.155428  \n",
      "8                    -0.292351  \n",
      "9                    -0.206029  \n",
      "10                   -0.034570  \n",
      "11                   -0.282232  \n",
      "12                   -0.296330  \n",
      "13                   -0.167644  \n",
      "14                   -0.234014  \n",
      "15                   -0.168479  \n",
      "16                   -0.166900  \n",
      "17                   -0.270874  \n",
      "18                   -0.215191  \n",
      "19                   -0.282310  \n",
      "20                   -0.175550  \n",
      "21                   -0.251623  \n",
      "22                   -0.265036  \n",
      "23                   -0.262140  \n",
      "24                   -0.119226  \n",
      "25                   -0.281963  \n",
      "26                   -0.285310  \n",
      "27                   -0.117482  \n",
      "28                   -0.214829  \n",
      "29                    0.286977  \n",
      "30                   -0.284071  \n",
      "31                   -0.273062  \n",
      "32                    6.088625  \n",
      "33                   -0.273433  \n",
      "34                    0.268647  \n",
      "35                   -0.021888  \n",
      "36                    1.348488  \n",
      "37                   -0.292344  \n",
      "38                   -0.145469  \n",
      "39                   -0.281747  \n",
      "40                   -0.132482  \n",
      "['bitcoin', 'ethereum', 'tether', 'ripple', 'bitcoin-cash', 'binancecoin', 'chainlink', 'cardano', 'litecoin', 'bitcoin-cash-sv', 'crypto-com-chain', 'usd-coin', 'eos', 'monero', 'tron', 'tezos', 'okb', 'stellar', 'cosmos', 'cdai', 'neo', 'wrapped-bitcoin', 'leo-token', 'huobi-token', 'nem', 'binance-usd', 'iota', 'vechain', 'zcash', 'theta-token', 'dash', 'ethereum-classic', 'ethlend', 'maker', 'havven', 'omisego', 'celsius-degree-token', 'ontology', 'ftx-token', 'true-usd', 'digibyte']\n",
      "                      price_change_percentage_24h  price_change_percentage_7d  \\\n",
      "coin_id                                                                         \n",
      "bitcoin                                  0.508529                    0.493193   \n",
      "ethereum                                 0.185446                    0.934445   \n",
      "tether                                   0.021774                   -0.706337   \n",
      "ripple                                  -0.040764                   -0.810928   \n",
      "bitcoin-cash                             1.193036                    2.000959   \n",
      "binancecoin                              0.891871                    1.327295   \n",
      "chainlink                                0.011397                    2.572251   \n",
      "cardano                                  0.102530                    1.508001   \n",
      "litecoin                                 0.077497                    0.334297   \n",
      "bitcoin-cash-sv                          0.448952                   -0.190684   \n",
      "crypto-com-chain                         0.331280                   -1.614844   \n",
      "usd-coin                                 0.034352                   -0.733026   \n",
      "eos                                      0.155710                   -0.922491   \n",
      "monero                                   0.262723                    1.792602   \n",
      "tron                                     0.130050                   -0.041018   \n",
      "tezos                                   -0.151583                    0.708196   \n",
      "okb                                     -0.923203                   -1.437359   \n",
      "stellar                                 -0.277543                   -0.385209   \n",
      "cosmos                                  -0.255978                    1.840274   \n",
      "cdai                                     0.180851                   -0.704931   \n",
      "neo                                      0.286546                   -0.326301   \n",
      "wrapped-bitcoin                          0.515453                    0.461843   \n",
      "leo-token                                0.051758                   -0.928381   \n",
      "huobi-token                             -0.052032                   -0.457229   \n",
      "nem                                     -0.217984                   -0.849381   \n",
      "binance-usd                              0.061339                   -0.706669   \n",
      "iota                                     0.259097                    0.249508   \n",
      "vechain                                  0.585089                   -0.994231   \n",
      "zcash                                   -0.127467                    0.929119   \n",
      "theta-token                             -1.612188                   -1.682027   \n",
      "dash                                    -0.296940                    0.094763   \n",
      "ethereum-classic                        -0.071312                   -0.229484   \n",
      "ethlend                                 -4.981042                   -0.045178   \n",
      "maker                                   -0.125168                    0.580730   \n",
      "havven                                  -1.428574                   -0.025510   \n",
      "omisego                                  1.919812                    0.370447   \n",
      "celsius-degree-token                     1.045530                   -0.618328   \n",
      "ontology                                -0.409044                   -0.906963   \n",
      "ftx-token                                0.414711                    0.414044   \n",
      "true-usd                                 0.078038                   -0.687745   \n",
      "digibyte                                 1.217453                   -0.607714   \n",
      "\n",
      "                      price_change_percentage_14d  \\\n",
      "coin_id                                             \n",
      "bitcoin                                  0.772200   \n",
      "ethereum                                 0.558692   \n",
      "tether                                  -0.021680   \n",
      "ripple                                   0.249458   \n",
      "bitcoin-cash                             1.760610   \n",
      "binancecoin                              0.800214   \n",
      "chainlink                                1.101647   \n",
      "cardano                                  0.648885   \n",
      "litecoin                                 0.858520   \n",
      "bitcoin-cash-sv                         -0.248043   \n",
      "crypto-com-chain                        -1.054521   \n",
      "usd-coin                                -0.023140   \n",
      "eos                                      0.115024   \n",
      "monero                                   2.202665   \n",
      "tron                                     0.147155   \n",
      "tezos                                    0.258012   \n",
      "okb                                     -0.629963   \n",
      "stellar                                 -0.153243   \n",
      "cosmos                                   0.643565   \n",
      "cdai                                    -0.001816   \n",
      "neo                                     -1.212670   \n",
      "wrapped-bitcoin                          0.769975   \n",
      "leo-token                               -0.871918   \n",
      "huobi-token                              0.032522   \n",
      "nem                                      0.297632   \n",
      "binance-usd                             -0.015321   \n",
      "iota                                    -0.478953   \n",
      "vechain                                 -2.217108   \n",
      "zcash                                    0.677532   \n",
      "theta-token                             -0.816921   \n",
      "dash                                     0.040040   \n",
      "ethereum-classic                        -0.175544   \n",
      "ethlend                                 -1.206956   \n",
      "maker                                   -0.202356   \n",
      "havven                                  -1.628859   \n",
      "omisego                                 -1.619761   \n",
      "celsius-degree-token                     2.907054   \n",
      "ontology                                -1.298986   \n",
      "ftx-token                               -0.047386   \n",
      "true-usd                                -0.009191   \n",
      "digibyte                                -0.907066   \n",
      "\n",
      "                      price_change_percentage_30d  \\\n",
      "coin_id                                             \n",
      "bitcoin                                  0.235460   \n",
      "ethereum                                -0.054341   \n",
      "tether                                  -0.061030   \n",
      "ripple                                  -0.050388   \n",
      "bitcoin-cash                             0.545842   \n",
      "binancecoin                             -0.057148   \n",
      "chainlink                               -0.490495   \n",
      "cardano                                  0.328959   \n",
      "litecoin                                -0.012646   \n",
      "bitcoin-cash-sv                          0.051634   \n",
      "crypto-com-chain                        -0.729931   \n",
      "usd-coin                                -0.065775   \n",
      "eos                                     -0.237488   \n",
      "monero                                   1.437842   \n",
      "tron                                    -0.543776   \n",
      "tezos                                   -0.602296   \n",
      "okb                                     -0.460558   \n",
      "stellar                                 -0.371816   \n",
      "cosmos                                   0.116538   \n",
      "cdai                                    -0.143237   \n",
      "neo                                     -0.903134   \n",
      "wrapped-bitcoin                          0.224045   \n",
      "leo-token                                0.058782   \n",
      "huobi-token                             -0.184489   \n",
      "nem                                     -0.199820   \n",
      "binance-usd                             -0.058694   \n",
      "iota                                    -0.218997   \n",
      "vechain                                 -0.603898   \n",
      "zcash                                    0.223834   \n",
      "theta-token                              1.148607   \n",
      "dash                                    -0.358830   \n",
      "ethereum-classic                         0.051882   \n",
      "ethlend                                 -1.212126   \n",
      "maker                                    0.582911   \n",
      "havven                                  -0.860354   \n",
      "omisego                                 -0.409716   \n",
      "celsius-degree-token                     5.351455   \n",
      "ontology                                -1.393153   \n",
      "ftx-token                               -0.465380   \n",
      "true-usd                                -0.058214   \n",
      "digibyte                                 0.449939   \n",
      "\n",
      "                      price_change_percentage_60d  \\\n",
      "coin_id                                             \n",
      "bitcoin                                 -0.067495   \n",
      "ethereum                                -0.273483   \n",
      "tether                                   0.008005   \n",
      "ripple                                  -0.373164   \n",
      "bitcoin-cash                            -0.291203   \n",
      "binancecoin                              0.778653   \n",
      "chainlink                               -0.931954   \n",
      "cardano                                 -0.486349   \n",
      "litecoin                                -0.366477   \n",
      "bitcoin-cash-sv                         -0.529666   \n",
      "crypto-com-chain                        -0.350155   \n",
      "usd-coin                                 0.002925   \n",
      "eos                                     -0.642837   \n",
      "monero                                   0.893865   \n",
      "tron                                     0.120116   \n",
      "tezos                                   -0.956049   \n",
      "okb                                     -0.058504   \n",
      "stellar                                 -0.656403   \n",
      "cosmos                                  -0.151913   \n",
      "cdai                                     0.016060   \n",
      "neo                                      0.290970   \n",
      "wrapped-bitcoin                         -0.074674   \n",
      "leo-token                               -0.159250   \n",
      "huobi-token                             -0.070809   \n",
      "nem                                      1.773127   \n",
      "binance-usd                              0.004017   \n",
      "iota                                    -0.735815   \n",
      "vechain                                 -0.930423   \n",
      "zcash                                   -0.437068   \n",
      "theta-token                              1.712641   \n",
      "dash                                    -0.558527   \n",
      "ethereum-classic                        -0.551760   \n",
      "ethlend                                  0.047736   \n",
      "maker                                   -0.395923   \n",
      "havven                                  -0.840714   \n",
      "omisego                                  1.696480   \n",
      "celsius-degree-token                     4.769913   \n",
      "ontology                                -0.696937   \n",
      "ftx-token                                0.128185   \n",
      "true-usd                                 0.007388   \n",
      "digibyte                                -0.662530   \n",
      "\n",
      "                      price_change_percentage_200d  price_change_percentage_1y  \n",
      "coin_id                                                                         \n",
      "bitcoin                                  -0.355953                   -0.251637  \n",
      "ethereum                                 -0.115759                   -0.199352  \n",
      "tether                                   -0.550247                   -0.282061  \n",
      "ripple                                   -0.458259                   -0.295546  \n",
      "bitcoin-cash                             -0.499848                   -0.270317  \n",
      "binancecoin                              -0.188232                   -0.225533  \n",
      "chainlink                                 0.387759                   -0.018284  \n",
      "cardano                                   0.065080                   -0.155428  \n",
      "litecoin                                 -0.486266                   -0.292351  \n",
      "bitcoin-cash-sv                          -0.532961                   -0.206029  \n",
      "crypto-com-chain                         -0.022866                   -0.034570  \n",
      "usd-coin                                 -0.550599                   -0.282232  \n",
      "eos                                      -0.508220                   -0.296330  \n",
      "monero                                   -0.155893                   -0.167644  \n",
      "tron                                     -0.241118                   -0.234014  \n",
      "tezos                                    -0.449211                   -0.168479  \n",
      "okb                                      -0.457283                   -0.166900  \n",
      "stellar                                  -0.353387                   -0.270874  \n",
      "cosmos                                   -0.117565                   -0.215191  \n",
      "cdai                                     -0.551146                   -0.282310  \n",
      "neo                                      -0.181187                   -0.175550  \n",
      "wrapped-bitcoin                          -0.355054                   -0.251623  \n",
      "leo-token                                -0.512071                   -0.265036  \n",
      "huobi-token                              -0.451982                   -0.262140  \n",
      "nem                                      -0.047361                   -0.119226  \n",
      "binance-usd                              -0.550003                   -0.281963  \n",
      "iota                                     -0.329179                   -0.285310  \n",
      "vechain                                   0.077149                   -0.117482  \n",
      "zcash                                    -0.265163                   -0.214829  \n",
      "theta-token                               1.502992                    0.286977  \n",
      "dash                                     -0.535732                   -0.284071  \n",
      "ethereum-classic                         -0.526060                   -0.273062  \n",
      "ethlend                                   4.632380                    6.088625  \n",
      "maker                                    -0.358240                   -0.273433  \n",
      "havven                                    0.898815                    0.268647  \n",
      "omisego                                   0.811207                   -0.021888  \n",
      "celsius-degree-token                      3.148875                    1.348488  \n",
      "ontology                                 -0.422835                   -0.292344  \n",
      "ftx-token                                -0.416502                   -0.145469  \n",
      "true-usd                                 -0.550441                   -0.281747  \n",
      "digibyte                                  0.572367                   -0.132482  \n"
     ]
    }
   ],
   "source": [
    "#\n",
    "# Create a DataFrame with the scaled data\n",
    "#\n",
    "print('Before DataFrame transformation',datetime.now())\n",
    "crypto_Transformed = pd.DataFrame(crypto_Scaled_Array, columns=['price_change_percentage_24h', \n",
    "                                                                'price_change_percentage_7d',\n",
    "                                                                'price_change_percentage_14d', \n",
    "                                                                'price_change_percentage_30d', \n",
    "                                                                'price_change_percentage_60d', \n",
    "                                                                'price_change_percentage_200d',\t\n",
    "                                                                'price_change_percentage_1y'])\n",
    "print(crypto_Transformed)\n",
    "#\n",
    "# Copy the crypto names from the original data\n",
    "#\n",
    "coins_Names                   = list(dfSourceData.index) #create a list of the coins names\n",
    "print(coins_Names)\n",
    "#\n",
    "# Set the coinid column as index\n",
    "#\n",
    "crypto_Transformed['coin_id'] = coins_Names                             #create a new column with the coin names\n",
    "crypto_Transformed            = crypto_Transformed.set_index('coin_id') #set the coin names as index\n",
    "#\n",
    "# Display sample data\n",
    "#\n",
    "#print('After DataFrame transformation',datetime.now())\n",
    "print(crypto_Transformed)\n"
   ]
  },
  {
   "attachments": {},
   "cell_type": "markdown",
   "metadata": {},
   "source": [
    "---"
   ]
  },
  {
   "attachments": {},
   "cell_type": "markdown",
   "metadata": {},
   "source": [
    "### Find the Best Value for k Using the Original Data."
   ]
  },
  {
   "cell_type": "code",
   "execution_count": 94,
   "metadata": {},
   "outputs": [
    {
     "name": "stdout",
     "output_type": "stream",
     "text": [
      "Values of k [1, 2, 3, 4, 5, 6, 7, 8, 9, 10, 11]\n"
     ]
    }
   ],
   "source": [
    "# Create a list with the number of k-values from 1 to 11\n",
    "k = list(range(1,12))\n",
    "print('Values of k',k)"
   ]
  },
  {
   "cell_type": "code",
   "execution_count": 95,
   "metadata": {},
   "outputs": [
    {
     "name": "stdout",
     "output_type": "stream",
     "text": [
      "Values of Inertia  [287.0, 195.82021818036043, 123.19048183836958, 79.02243535120977, 63.85866780584266, 53.05778846567061, 44.4067905846164, 37.07823336746088, 32.83218742836354, 28.165433305979256, 24.964637877542405]\n"
     ]
    }
   ],
   "source": [
    "#\n",
    "# Create an empty list to store the inertia values\n",
    "#\n",
    "inertia_1 = []\n",
    "\n",
    "# Create a for loop to compute the inertia with each possible value of k\n",
    "# Inside the loop:\n",
    "# 1. Create a KMeans model using the loop counter for the n_clusters\n",
    "# 2. Fit the model to the data using `df_market_data_scaled`\n",
    "# 3. Append the model.inertia_ to the inertia list\n",
    "for i in k:\n",
    "    k_model = KMeans(n_clusters=i, random_state=1,n_init=10,max_iter=1000) #n_init=10,max_iter=1000 provided to avoid depcrecation warning\n",
    "    k_model.fit(cryptoTransformed)\n",
    "    inertia_1.append(k_model.inertia_)\n",
    "print('Values of Inertia ',inertia_1)"
   ]
  },
  {
   "cell_type": "code",
   "execution_count": 124,
   "metadata": {},
   "outputs": [
    {
     "name": "stdout",
     "output_type": "stream",
     "text": [
      "Creating Elbow Curve 2023-08-27 17:32:11.736754\n"
     ]
    },
    {
     "data": {
      "text/html": [
       "<div>\n",
       "<style scoped>\n",
       "    .dataframe tbody tr th:only-of-type {\n",
       "        vertical-align: middle;\n",
       "    }\n",
       "\n",
       "    .dataframe tbody tr th {\n",
       "        vertical-align: top;\n",
       "    }\n",
       "\n",
       "    .dataframe thead th {\n",
       "        text-align: right;\n",
       "    }\n",
       "</style>\n",
       "<table border=\"1\" class=\"dataframe\">\n",
       "  <thead>\n",
       "    <tr style=\"text-align: right;\">\n",
       "      <th></th>\n",
       "      <th>k</th>\n",
       "      <th>inertia</th>\n",
       "    </tr>\n",
       "  </thead>\n",
       "  <tbody>\n",
       "    <tr>\n",
       "      <th>0</th>\n",
       "      <td>1</td>\n",
       "      <td>287.000000</td>\n",
       "    </tr>\n",
       "    <tr>\n",
       "      <th>1</th>\n",
       "      <td>2</td>\n",
       "      <td>195.820218</td>\n",
       "    </tr>\n",
       "    <tr>\n",
       "      <th>2</th>\n",
       "      <td>3</td>\n",
       "      <td>123.190482</td>\n",
       "    </tr>\n",
       "    <tr>\n",
       "      <th>3</th>\n",
       "      <td>4</td>\n",
       "      <td>79.022435</td>\n",
       "    </tr>\n",
       "    <tr>\n",
       "      <th>4</th>\n",
       "      <td>5</td>\n",
       "      <td>63.858668</td>\n",
       "    </tr>\n",
       "    <tr>\n",
       "      <th>5</th>\n",
       "      <td>6</td>\n",
       "      <td>53.057788</td>\n",
       "    </tr>\n",
       "    <tr>\n",
       "      <th>6</th>\n",
       "      <td>7</td>\n",
       "      <td>44.406791</td>\n",
       "    </tr>\n",
       "    <tr>\n",
       "      <th>7</th>\n",
       "      <td>8</td>\n",
       "      <td>37.078233</td>\n",
       "    </tr>\n",
       "    <tr>\n",
       "      <th>8</th>\n",
       "      <td>9</td>\n",
       "      <td>32.832187</td>\n",
       "    </tr>\n",
       "    <tr>\n",
       "      <th>9</th>\n",
       "      <td>10</td>\n",
       "      <td>28.165433</td>\n",
       "    </tr>\n",
       "    <tr>\n",
       "      <th>10</th>\n",
       "      <td>11</td>\n",
       "      <td>24.964638</td>\n",
       "    </tr>\n",
       "  </tbody>\n",
       "</table>\n",
       "</div>"
      ],
      "text/plain": [
       "     k     inertia\n",
       "0    1  287.000000\n",
       "1    2  195.820218\n",
       "2    3  123.190482\n",
       "3    4   79.022435\n",
       "4    5   63.858668\n",
       "5    6   53.057788\n",
       "6    7   44.406791\n",
       "7    8   37.078233\n",
       "8    9   32.832187\n",
       "9   10   28.165433\n",
       "10  11   24.964638"
      ]
     },
     "execution_count": 124,
     "metadata": {},
     "output_type": "execute_result"
    }
   ],
   "source": [
    "# Create a dictionary with the data to plot the Elbow curve\n",
    "print('Creating Elbow Curve',datetime.now())\n",
    "elbow_Data_1 = {\"k\": k, \"inertia\": inertia_1}\n",
    "\n",
    "\n",
    "# Create a DataFrame with the data to plot the Elbow curve\n",
    "elbow_DF_1 = pd.DataFrame(elbow_Data_1)\n",
    "elbow_DF_1"
   ]
  },
  {
   "cell_type": "code",
   "execution_count": 125,
   "metadata": {},
   "outputs": [
    {
     "name": "stdout",
     "output_type": "stream",
     "text": [
      "Plotting Elbow Curve 2023-08-27 17:32:18.907535\n"
     ]
    },
    {
     "data": {},
     "metadata": {},
     "output_type": "display_data"
    },
    {
     "data": {
      "application/vnd.holoviews_exec.v0+json": "",
      "text/html": [
       "<div id='5451'>\n",
       "  <div class=\"bk-root\" id=\"3e5138d9-b3b4-4ef0-bfea-5e173a30a404\" data-root-id=\"5451\"></div>\n",
       "</div>\n",
       "<script type=\"application/javascript\">(function(root) {\n",
       "  function embed_document(root) {\n",
       "    var docs_json = {\"eeb0a9b6-33d3-47bf-a43b-9327055c8e9e\":{\"defs\":[{\"extends\":null,\"module\":null,\"name\":\"ReactiveHTML1\",\"overrides\":[],\"properties\":[]},{\"extends\":null,\"module\":null,\"name\":\"FlexBox1\",\"overrides\":[],\"properties\":[{\"default\":\"flex-start\",\"kind\":null,\"name\":\"align_content\"},{\"default\":\"flex-start\",\"kind\":null,\"name\":\"align_items\"},{\"default\":\"row\",\"kind\":null,\"name\":\"flex_direction\"},{\"default\":\"wrap\",\"kind\":null,\"name\":\"flex_wrap\"},{\"default\":\"flex-start\",\"kind\":null,\"name\":\"justify_content\"}]},{\"extends\":null,\"module\":null,\"name\":\"GridStack1\",\"overrides\":[],\"properties\":[{\"default\":\"warn\",\"kind\":null,\"name\":\"mode\"},{\"default\":null,\"kind\":null,\"name\":\"ncols\"},{\"default\":null,\"kind\":null,\"name\":\"nrows\"},{\"default\":true,\"kind\":null,\"name\":\"allow_resize\"},{\"default\":true,\"kind\":null,\"name\":\"allow_drag\"},{\"default\":[],\"kind\":null,\"name\":\"state\"}]},{\"extends\":null,\"module\":null,\"name\":\"click1\",\"overrides\":[],\"properties\":[{\"default\":\"\",\"kind\":null,\"name\":\"terminal_output\"},{\"default\":\"\",\"kind\":null,\"name\":\"debug_name\"},{\"default\":0,\"kind\":null,\"name\":\"clears\"}]},{\"extends\":null,\"module\":null,\"name\":\"NotificationAreaBase1\",\"overrides\":[],\"properties\":[{\"default\":\"bottom-right\",\"kind\":null,\"name\":\"position\"},{\"default\":0,\"kind\":null,\"name\":\"_clear\"}]},{\"extends\":null,\"module\":null,\"name\":\"NotificationArea1\",\"overrides\":[],\"properties\":[{\"default\":[],\"kind\":null,\"name\":\"notifications\"},{\"default\":\"bottom-right\",\"kind\":null,\"name\":\"position\"},{\"default\":0,\"kind\":null,\"name\":\"_clear\"},{\"default\":[{\"background\":\"#ffc107\",\"icon\":{\"className\":\"fas fa-exclamation-triangle\",\"color\":\"white\",\"tagName\":\"i\"},\"type\":\"warning\"},{\"background\":\"#007bff\",\"icon\":{\"className\":\"fas fa-info-circle\",\"color\":\"white\",\"tagName\":\"i\"},\"type\":\"info\"}],\"kind\":null,\"name\":\"types\"}]},{\"extends\":null,\"module\":null,\"name\":\"Notification\",\"overrides\":[],\"properties\":[{\"default\":null,\"kind\":null,\"name\":\"background\"},{\"default\":3000,\"kind\":null,\"name\":\"duration\"},{\"default\":null,\"kind\":null,\"name\":\"icon\"},{\"default\":\"\",\"kind\":null,\"name\":\"message\"},{\"default\":null,\"kind\":null,\"name\":\"notification_type\"},{\"default\":false,\"kind\":null,\"name\":\"_destroyed\"}]},{\"extends\":null,\"module\":null,\"name\":\"TemplateActions1\",\"overrides\":[],\"properties\":[{\"default\":0,\"kind\":null,\"name\":\"open_modal\"},{\"default\":0,\"kind\":null,\"name\":\"close_modal\"}]},{\"extends\":null,\"module\":null,\"name\":\"MaterialTemplateActions1\",\"overrides\":[],\"properties\":[{\"default\":0,\"kind\":null,\"name\":\"open_modal\"},{\"default\":0,\"kind\":null,\"name\":\"close_modal\"}]}],\"roots\":{\"references\":[{\"attributes\":{\"axis\":{\"id\":\"5470\"},\"coordinates\":null,\"dimension\":1,\"grid_line_color\":null,\"group\":null,\"ticker\":null},\"id\":\"5473\",\"type\":\"Grid\"},{\"attributes\":{},\"id\":\"5471\",\"type\":\"BasicTicker\"},{\"attributes\":{},\"id\":\"5499\",\"type\":\"AllLabels\"},{\"attributes\":{\"end\":11.0,\"reset_end\":11.0,\"reset_start\":1.0,\"start\":1.0,\"tags\":[[[\"k\",\"k\",null]],[]]},\"id\":\"5452\",\"type\":\"Range1d\"},{\"attributes\":{},\"id\":\"5476\",\"type\":\"WheelZoomTool\"},{\"attributes\":{},\"id\":\"5475\",\"type\":\"PanTool\"},{\"attributes\":{\"line_color\":\"#30a2da\",\"line_width\":2,\"tags\":[\"apply_ranges\"],\"x\":{\"field\":\"k\"},\"y\":{\"field\":\"inertia\"}},\"id\":\"5495\",\"type\":\"Line\"},{\"attributes\":{},\"id\":\"5474\",\"type\":\"SaveTool\"},{\"attributes\":{\"overlay\":{\"id\":\"5479\"}},\"id\":\"5477\",\"type\":\"BoxZoomTool\"},{\"attributes\":{\"end\":313.20353621224575,\"reset_end\":313.20353621224575,\"reset_start\":-1.2388983347033538,\"start\":-1.2388983347033538,\"tags\":[[[\"inertia\",\"inertia\",null]],{\"autorange\":false,\"invert_yaxis\":false}]},\"id\":\"5453\",\"type\":\"Range1d\"},{\"attributes\":{},\"id\":\"5478\",\"type\":\"ResetTool\"},{\"attributes\":{},\"id\":\"5498\",\"type\":\"BasicTickFormatter\"},{\"attributes\":{\"bottom_units\":\"screen\",\"coordinates\":null,\"fill_alpha\":0.5,\"fill_color\":\"lightgrey\",\"group\":null,\"left_units\":\"screen\",\"level\":\"overlay\",\"line_alpha\":1.0,\"line_color\":\"black\",\"line_dash\":[4,4],\"line_width\":2,\"right_units\":\"screen\",\"syncable\":false,\"top_units\":\"screen\"},\"id\":\"5479\",\"type\":\"BoxAnnotation\"},{\"attributes\":{\"line_color\":\"#30a2da\",\"line_width\":2,\"tags\":[\"apply_ranges\"],\"x\":{\"field\":\"k\"},\"y\":{\"field\":\"inertia\"}},\"id\":\"5490\",\"type\":\"Line\"},{\"attributes\":{\"ticks\":[1,2,3,4,5,6,7,8,9,10,11]},\"id\":\"5496\",\"type\":\"FixedTicker\"},{\"attributes\":{\"active_drag\":{\"id\":\"5475\"},\"active_scroll\":{\"id\":\"5476\"},\"tools\":[{\"id\":\"5456\"},{\"id\":\"5474\"},{\"id\":\"5475\"},{\"id\":\"5476\"},{\"id\":\"5477\"},{\"id\":\"5478\"}]},\"id\":\"5480\",\"type\":\"Toolbar\"},{\"attributes\":{\"line_alpha\":0.1,\"line_color\":\"#30a2da\",\"line_width\":2,\"tags\":[\"apply_ranges\"],\"x\":{\"field\":\"k\"},\"y\":{\"field\":\"inertia\"}},\"id\":\"5491\",\"type\":\"Line\"},{\"attributes\":{},\"id\":\"5464\",\"type\":\"LinearScale\"},{\"attributes\":{\"children\":[{\"id\":\"5457\"}],\"height\":600,\"margin\":[0,0,0,0],\"name\":\"Row05640\",\"sizing_mode\":\"fixed\",\"tags\":[\"embedded\"],\"width\":1200},\"id\":\"5451\",\"type\":\"Row\"},{\"attributes\":{},\"id\":\"5488\",\"type\":\"Selection\"},{\"attributes\":{\"below\":[{\"id\":\"5466\"}],\"center\":[{\"id\":\"5469\"},{\"id\":\"5473\"}],\"left\":[{\"id\":\"5470\"}],\"margin\":[5,5,5,5],\"min_border_bottom\":10,\"min_border_left\":10,\"min_border_right\":10,\"min_border_top\":10,\"output_backend\":\"webgl\",\"renderers\":[{\"id\":\"5493\"}],\"sizing_mode\":\"fixed\",\"title\":{\"id\":\"5458\"},\"toolbar\":{\"id\":\"5480\"},\"width\":1200,\"x_range\":{\"id\":\"5452\"},\"x_scale\":{\"id\":\"5464\"},\"y_range\":{\"id\":\"5453\"},\"y_scale\":{\"id\":\"5465\"}},\"id\":\"5457\",\"subtype\":\"Figure\",\"type\":\"Plot\"},{\"attributes\":{},\"id\":\"5515\",\"type\":\"UnionRenderers\"},{\"attributes\":{\"data\":{\"inertia\":{\"__ndarray__\":\"AAAAAADwcUByhzI6P3poQOCRvNowzF5AGO6ulG/BU0B0HKDT6O1PQBYSyZxlh0pAxJ/AthE0RkCoWQ2NA4pCQFx7Hh6FakBAntlO1lkqPEAJhwiC8vY4QA==\",\"dtype\":\"float64\",\"order\":\"little\",\"shape\":[11]},\"k\":[1,2,3,4,5,6,7,8,9,10,11]},\"selected\":{\"id\":\"5488\"},\"selection_policy\":{\"id\":\"5515\"}},\"id\":\"5487\",\"type\":\"ColumnDataSource\"},{\"attributes\":{\"callback\":null,\"renderers\":[{\"id\":\"5493\"}],\"tags\":[\"hv_created\"],\"tooltips\":[[\"k\",\"@{k}\"],[\"inertia\",\"@{inertia}\"]]},\"id\":\"5456\",\"type\":\"HoverTool\"},{\"attributes\":{\"line_alpha\":0.2,\"line_color\":\"#30a2da\",\"line_width\":2,\"tags\":[\"apply_ranges\"],\"x\":{\"field\":\"k\"},\"y\":{\"field\":\"inertia\"}},\"id\":\"5492\",\"type\":\"Line\"},{\"attributes\":{\"coordinates\":null,\"data_source\":{\"id\":\"5487\"},\"glyph\":{\"id\":\"5490\"},\"group\":null,\"hover_glyph\":null,\"muted_glyph\":{\"id\":\"5492\"},\"nonselection_glyph\":{\"id\":\"5491\"},\"selection_glyph\":{\"id\":\"5495\"},\"view\":{\"id\":\"5494\"}},\"id\":\"5493\",\"type\":\"GlyphRenderer\"},{\"attributes\":{\"coordinates\":null,\"group\":null,\"text\":\"Elbow Curve\",\"text_color\":\"black\",\"text_font_size\":\"12pt\"},\"id\":\"5458\",\"type\":\"Title\"},{\"attributes\":{\"axis_label\":\"k\",\"coordinates\":null,\"formatter\":{\"id\":\"5498\"},\"group\":null,\"major_label_policy\":{\"id\":\"5499\"},\"ticker\":{\"id\":\"5496\"}},\"id\":\"5466\",\"type\":\"LinearAxis\"},{\"attributes\":{\"source\":{\"id\":\"5487\"}},\"id\":\"5494\",\"type\":\"CDSView\"},{\"attributes\":{\"axis\":{\"id\":\"5466\"},\"coordinates\":null,\"grid_line_color\":null,\"group\":null,\"ticker\":null},\"id\":\"5469\",\"type\":\"Grid\"},{\"attributes\":{},\"id\":\"5504\",\"type\":\"AllLabels\"},{\"attributes\":{},\"id\":\"5503\",\"type\":\"BasicTickFormatter\"},{\"attributes\":{},\"id\":\"5465\",\"type\":\"LinearScale\"},{\"attributes\":{\"axis_label\":\"inertia\",\"coordinates\":null,\"formatter\":{\"id\":\"5503\"},\"group\":null,\"major_label_policy\":{\"id\":\"5504\"},\"ticker\":{\"id\":\"5471\"}},\"id\":\"5470\",\"type\":\"LinearAxis\"}],\"root_ids\":[\"5451\"]},\"title\":\"Bokeh Application\",\"version\":\"2.4.3\"}};\n",
       "    var render_items = [{\"docid\":\"eeb0a9b6-33d3-47bf-a43b-9327055c8e9e\",\"root_ids\":[\"5451\"],\"roots\":{\"5451\":\"3e5138d9-b3b4-4ef0-bfea-5e173a30a404\"}}];\n",
       "    root.Bokeh.embed.embed_items_notebook(docs_json, render_items);\n",
       "    for (const render_item of render_items) {\n",
       "      for (const root_id of render_item.root_ids) {\n",
       "\tconst id_el = document.getElementById(root_id)\n",
       "\tif (id_el.children.length && (id_el.children[0].className === 'bk-root')) {\n",
       "\t  const root_el = id_el.children[0]\n",
       "\t  root_el.id = root_el.id + '-rendered'\n",
       "\t}\n",
       "      }\n",
       "    }\n",
       "  }\n",
       "  if (root.Bokeh !== undefined && root.Bokeh.Panel !== undefined) {\n",
       "    embed_document(root);\n",
       "  } else {\n",
       "    var attempts = 0;\n",
       "    var timer = setInterval(function(root) {\n",
       "      if (root.Bokeh !== undefined && root.Bokeh.Panel !== undefined) {\n",
       "        clearInterval(timer);\n",
       "        embed_document(root);\n",
       "      } else if (document.readyState == \"complete\") {\n",
       "        attempts++;\n",
       "        if (attempts > 200) {\n",
       "          clearInterval(timer);\n",
       "          console.log(\"Bokeh: ERROR: Unable to run BokehJS code because BokehJS library is missing\");\n",
       "        }\n",
       "      }\n",
       "    }, 25, root)\n",
       "  }\n",
       "})(window);</script>"
      ],
      "text/plain": [
       ":Curve   [k]   (inertia)"
      ]
     },
     "execution_count": 125,
     "metadata": {
      "application/vnd.holoviews_exec.v0+json": {
       "id": "5451"
      }
     },
     "output_type": "execute_result"
    }
   ],
   "source": [
    "# Plot a line chart with all the inertia values computed with \n",
    "# the different values of k to visually identify the optimal value for k.\n",
    "print('Plotting Elbow Curve',datetime.now())\n",
    "elbow_DF_1.hvplot.line(x=\"k\",y=\"inertia\",title= \"Elbow Curve\",xticks=k,width=1200,height=600)"
   ]
  },
  {
   "attachments": {},
   "cell_type": "markdown",
   "metadata": {},
   "source": [
    "#### Answer the following question: \n",
    "\n",
    "**Question:** What is the best value for `k`?\n",
    "\n",
    "**Answer:** The best value for 'k' is **4**"
   ]
  },
  {
   "attachments": {},
   "cell_type": "markdown",
   "metadata": {},
   "source": [
    "---"
   ]
  },
  {
   "attachments": {},
   "cell_type": "markdown",
   "metadata": {},
   "source": [
    "### Cluster Cryptocurrencies with K-means Using the Original Data"
   ]
  },
  {
   "cell_type": "code",
   "execution_count": 126,
   "metadata": {},
   "outputs": [
    {
     "name": "stdout",
     "output_type": "stream",
     "text": [
      "Initializing K-Means Model 2023-08-27 17:32:23.246257\n",
      "K-Means Model Initialized  2023-08-27 17:32:23.246338\n"
     ]
    }
   ],
   "source": [
    "# Initialize the K-Means model using the best value for k\n",
    "print('Initializing K-Means Model',datetime.now())\n",
    "model = KMeans(n_clusters=4, random_state=1)\n",
    "print('K-Means Model Initialized ',datetime.now())"
   ]
  },
  {
   "cell_type": "code",
   "execution_count": 127,
   "metadata": {},
   "outputs": [
    {
     "name": "stdout",
     "output_type": "stream",
     "text": [
      "Fitting K-Means Model 2023-08-27 17:32:25.897469\n",
      "K-Means Model Fitted  2023-08-27 17:32:25.907527\n"
     ]
    }
   ],
   "source": [
    "# Fit the K-Means model using the scaled data\n",
    "print('Fitting K-Means Model',datetime.now())\n",
    "model.fit(crypto_Transformed)\n",
    "print('K-Means Model Fitted ',datetime.now())"
   ]
  },
  {
   "cell_type": "code",
   "execution_count": 128,
   "metadata": {},
   "outputs": [
    {
     "name": "stdout",
     "output_type": "stream",
     "text": [
      "Predicting Clusters 2023-08-27 17:32:27.783720\n",
      "[2 2 0 0 2 2 2 2 2 0 0 0 0 2 0 2 0 0 2 0 0 2 0 0 0 0 0 0 2 0 0 0 3 2 0 0 1\n",
      " 0 0 0 0]\n",
      "Clusters Predicted  2023-08-27 17:32:27.785690\n"
     ]
    }
   ],
   "source": [
    "#\n",
    "# Predict the clusters to group the cryptocurrencies using the scaled data\n",
    "#\n",
    "print('Predicting Clusters',datetime.now())\n",
    "k4 = model.predict(crypto_Transformed)\n",
    "\n",
    "#\n",
    "# Print the resulting array of cluster values.\n",
    "#\n",
    "\n",
    "print(k4)\n",
    "print('Clusters Predicted ',datetime.now())\n"
   ]
  },
  {
   "cell_type": "code",
   "execution_count": 129,
   "metadata": {},
   "outputs": [
    {
     "name": "stdout",
     "output_type": "stream",
     "text": [
      "Creating copy of DataFrame 2023-08-27 17:32:34.407124\n",
      "Copy of DataFrame Created  2023-08-27 17:32:34.407342\n"
     ]
    }
   ],
   "source": [
    "# Create a copy of the DataFrame\n",
    "print('Creating copy of DataFrame',datetime.now())\n",
    "clusters_Predicted = crypto_Transformed.copy()\n",
    "print('Copy of DataFrame Created ',datetime.now())"
   ]
  },
  {
   "cell_type": "code",
   "execution_count": 130,
   "metadata": {},
   "outputs": [
    {
     "name": "stdout",
     "output_type": "stream",
     "text": [
      "Adding Predicted Clusters 2023-08-27 17:32:37.876367\n",
      "              price_change_percentage_24h  price_change_percentage_7d  \\\n",
      "coin_id                                                                 \n",
      "bitcoin                          0.508529                    0.493193   \n",
      "ethereum                         0.185446                    0.934445   \n",
      "tether                           0.021774                   -0.706337   \n",
      "ripple                          -0.040764                   -0.810928   \n",
      "bitcoin-cash                     1.193036                    2.000959   \n",
      "\n",
      "              price_change_percentage_14d  price_change_percentage_30d  \\\n",
      "coin_id                                                                  \n",
      "bitcoin                          0.772200                     0.235460   \n",
      "ethereum                         0.558692                    -0.054341   \n",
      "tether                          -0.021680                    -0.061030   \n",
      "ripple                           0.249458                    -0.050388   \n",
      "bitcoin-cash                     1.760610                     0.545842   \n",
      "\n",
      "              price_change_percentage_60d  price_change_percentage_200d  \\\n",
      "coin_id                                                                   \n",
      "bitcoin                         -0.067495                     -0.355953   \n",
      "ethereum                        -0.273483                     -0.115759   \n",
      "tether                           0.008005                     -0.550247   \n",
      "ripple                          -0.373164                     -0.458259   \n",
      "bitcoin-cash                    -0.291203                     -0.499848   \n",
      "\n",
      "              price_change_percentage_1y  predicted_cluster  \n",
      "coin_id                                                      \n",
      "bitcoin                        -0.251637                  2  \n",
      "ethereum                       -0.199352                  2  \n",
      "tether                         -0.282061                  0  \n",
      "ripple                         -0.295546                  0  \n",
      "bitcoin-cash                   -0.270317                  2  \n",
      "Predicted Clusters Added 2023-08-27 17:32:37.878220\n"
     ]
    }
   ],
   "source": [
    "# Add a new column to the DataFrame with the predicted clusters\n",
    "print('Adding Predicted Clusters',datetime.now())\n",
    "clusters_Predicted['predicted_cluster'] = k4\n",
    "\n",
    "# Display sample data\n",
    "print(clusters_Predicted.head())\n",
    "print('Predicted Clusters Added',datetime.now())"
   ]
  },
  {
   "cell_type": "code",
   "execution_count": 131,
   "metadata": {},
   "outputs": [
    {
     "name": "stdout",
     "output_type": "stream",
     "text": [
      "Plotting Predicted Clusters 2023-08-27 17:32:42.069615\n"
     ]
    },
    {
     "data": {},
     "metadata": {},
     "output_type": "display_data"
    },
    {
     "data": {
      "application/vnd.holoviews_exec.v0+json": "",
      "text/html": [
       "<div id='5564'>\n",
       "  <div class=\"bk-root\" id=\"03186125-d246-4509-9f21-edbf5237d3d4\" data-root-id=\"5564\"></div>\n",
       "</div>\n",
       "<script type=\"application/javascript\">(function(root) {\n",
       "  function embed_document(root) {\n",
       "    var docs_json = {\"ca975fb4-32b0-4747-8059-6988b35898ab\":{\"defs\":[{\"extends\":null,\"module\":null,\"name\":\"ReactiveHTML1\",\"overrides\":[],\"properties\":[]},{\"extends\":null,\"module\":null,\"name\":\"FlexBox1\",\"overrides\":[],\"properties\":[{\"default\":\"flex-start\",\"kind\":null,\"name\":\"align_content\"},{\"default\":\"flex-start\",\"kind\":null,\"name\":\"align_items\"},{\"default\":\"row\",\"kind\":null,\"name\":\"flex_direction\"},{\"default\":\"wrap\",\"kind\":null,\"name\":\"flex_wrap\"},{\"default\":\"flex-start\",\"kind\":null,\"name\":\"justify_content\"}]},{\"extends\":null,\"module\":null,\"name\":\"GridStack1\",\"overrides\":[],\"properties\":[{\"default\":\"warn\",\"kind\":null,\"name\":\"mode\"},{\"default\":null,\"kind\":null,\"name\":\"ncols\"},{\"default\":null,\"kind\":null,\"name\":\"nrows\"},{\"default\":true,\"kind\":null,\"name\":\"allow_resize\"},{\"default\":true,\"kind\":null,\"name\":\"allow_drag\"},{\"default\":[],\"kind\":null,\"name\":\"state\"}]},{\"extends\":null,\"module\":null,\"name\":\"click1\",\"overrides\":[],\"properties\":[{\"default\":\"\",\"kind\":null,\"name\":\"terminal_output\"},{\"default\":\"\",\"kind\":null,\"name\":\"debug_name\"},{\"default\":0,\"kind\":null,\"name\":\"clears\"}]},{\"extends\":null,\"module\":null,\"name\":\"NotificationAreaBase1\",\"overrides\":[],\"properties\":[{\"default\":\"bottom-right\",\"kind\":null,\"name\":\"position\"},{\"default\":0,\"kind\":null,\"name\":\"_clear\"}]},{\"extends\":null,\"module\":null,\"name\":\"NotificationArea1\",\"overrides\":[],\"properties\":[{\"default\":[],\"kind\":null,\"name\":\"notifications\"},{\"default\":\"bottom-right\",\"kind\":null,\"name\":\"position\"},{\"default\":0,\"kind\":null,\"name\":\"_clear\"},{\"default\":[{\"background\":\"#ffc107\",\"icon\":{\"className\":\"fas fa-exclamation-triangle\",\"color\":\"white\",\"tagName\":\"i\"},\"type\":\"warning\"},{\"background\":\"#007bff\",\"icon\":{\"className\":\"fas fa-info-circle\",\"color\":\"white\",\"tagName\":\"i\"},\"type\":\"info\"}],\"kind\":null,\"name\":\"types\"}]},{\"extends\":null,\"module\":null,\"name\":\"Notification\",\"overrides\":[],\"properties\":[{\"default\":null,\"kind\":null,\"name\":\"background\"},{\"default\":3000,\"kind\":null,\"name\":\"duration\"},{\"default\":null,\"kind\":null,\"name\":\"icon\"},{\"default\":\"\",\"kind\":null,\"name\":\"message\"},{\"default\":null,\"kind\":null,\"name\":\"notification_type\"},{\"default\":false,\"kind\":null,\"name\":\"_destroyed\"}]},{\"extends\":null,\"module\":null,\"name\":\"TemplateActions1\",\"overrides\":[],\"properties\":[{\"default\":0,\"kind\":null,\"name\":\"open_modal\"},{\"default\":0,\"kind\":null,\"name\":\"close_modal\"}]},{\"extends\":null,\"module\":null,\"name\":\"MaterialTemplateActions1\",\"overrides\":[],\"properties\":[{\"default\":0,\"kind\":null,\"name\":\"open_modal\"},{\"default\":0,\"kind\":null,\"name\":\"close_modal\"}]}],\"roots\":{\"references\":[{\"attributes\":{\"coordinates\":null,\"data_source\":{\"id\":\"5630\"},\"glyph\":{\"id\":\"5633\"},\"group\":null,\"hover_glyph\":null,\"muted_glyph\":{\"id\":\"5635\"},\"name\":\"1\",\"nonselection_glyph\":{\"id\":\"5634\"},\"selection_glyph\":{\"id\":\"5651\"},\"view\":{\"id\":\"5637\"}},\"id\":\"5636\",\"type\":\"GlyphRenderer\"},{\"attributes\":{},\"id\":\"5581\",\"type\":\"LinearScale\"},{\"attributes\":{},\"id\":\"5671\",\"type\":\"UnionRenderers\"},{\"attributes\":{},\"id\":\"5583\",\"type\":\"BasicTicker\"},{\"attributes\":{\"axis\":{\"id\":\"5582\"},\"coordinates\":null,\"grid_line_color\":null,\"group\":null,\"ticker\":null},\"id\":\"5585\",\"type\":\"Grid\"},{\"attributes\":{\"source\":{\"id\":\"5630\"}},\"id\":\"5637\",\"type\":\"CDSView\"},{\"attributes\":{\"axis_label\":\"price_change_percentage_7d\",\"coordinates\":null,\"formatter\":{\"id\":\"5607\"},\"group\":null,\"major_label_policy\":{\"id\":\"5608\"},\"ticker\":{\"id\":\"5587\"}},\"id\":\"5586\",\"type\":\"LinearAxis\"},{\"attributes\":{\"axis\":{\"id\":\"5586\"},\"coordinates\":null,\"dimension\":1,\"grid_line_color\":null,\"group\":null,\"ticker\":null},\"id\":\"5589\",\"type\":\"Grid\"},{\"attributes\":{\"angle\":{\"value\":0.0},\"fill_alpha\":{\"value\":1.0},\"fill_color\":{\"value\":\"#e5ae38\"},\"hatch_alpha\":{\"value\":1.0},\"hatch_color\":{\"value\":\"#e5ae38\"},\"hatch_scale\":{\"value\":12.0},\"hatch_weight\":{\"value\":1.0},\"line_alpha\":{\"value\":1.0},\"line_cap\":{\"value\":\"butt\"},\"line_color\":{\"value\":\"#e5ae38\"},\"line_dash\":{\"value\":[]},\"line_dash_offset\":{\"value\":0},\"line_join\":{\"value\":\"bevel\"},\"line_width\":{\"value\":1},\"marker\":{\"value\":\"circle\"},\"size\":{\"value\":5.477225575051661},\"tags\":[\"apply_ranges\"],\"x\":{\"field\":\"price_change_percentage_24h\"},\"y\":{\"field\":\"price_change_percentage_7d\"}},\"id\":\"5675\",\"type\":\"Scatter\"},{\"attributes\":{\"angle\":{\"value\":0.0},\"fill_alpha\":{\"value\":1.0},\"fill_color\":{\"value\":\"#6d904f\"},\"hatch_alpha\":{\"value\":1.0},\"hatch_color\":{\"value\":\"#6d904f\"},\"hatch_scale\":{\"value\":12.0},\"hatch_weight\":{\"value\":1.0},\"line_alpha\":{\"value\":1.0},\"line_cap\":{\"value\":\"butt\"},\"line_color\":{\"value\":\"#6d904f\"},\"line_dash\":{\"value\":[]},\"line_dash_offset\":{\"value\":0},\"line_join\":{\"value\":\"bevel\"},\"line_width\":{\"value\":1},\"marker\":{\"value\":\"circle\"},\"size\":{\"value\":5.477225575051661},\"tags\":[\"apply_ranges\"],\"x\":{\"field\":\"price_change_percentage_24h\"},\"y\":{\"field\":\"price_change_percentage_7d\"}},\"id\":\"5701\",\"type\":\"Scatter\"},{\"attributes\":{},\"id\":\"5587\",\"type\":\"BasicTicker\"},{\"attributes\":{},\"id\":\"5592\",\"type\":\"WheelZoomTool\"},{\"attributes\":{},\"id\":\"5591\",\"type\":\"PanTool\"},{\"attributes\":{},\"id\":\"5590\",\"type\":\"SaveTool\"},{\"attributes\":{},\"id\":\"5647\",\"type\":\"UnionRenderers\"},{\"attributes\":{\"overlay\":{\"id\":\"5595\"}},\"id\":\"5593\",\"type\":\"BoxZoomTool\"},{\"attributes\":{},\"id\":\"5594\",\"type\":\"ResetTool\"},{\"attributes\":{\"fill_color\":{\"value\":\"#fc4f30\"},\"hatch_color\":{\"value\":\"#fc4f30\"},\"line_color\":{\"value\":\"#fc4f30\"},\"size\":{\"value\":5.477225575051661},\"tags\":[\"apply_ranges\"],\"x\":{\"field\":\"price_change_percentage_24h\"},\"y\":{\"field\":\"price_change_percentage_7d\"}},\"id\":\"5633\",\"type\":\"Scatter\"},{\"attributes\":{\"bottom_units\":\"screen\",\"coordinates\":null,\"fill_alpha\":0.5,\"fill_color\":\"lightgrey\",\"group\":null,\"left_units\":\"screen\",\"level\":\"overlay\",\"line_alpha\":1.0,\"line_color\":\"black\",\"line_dash\":[4,4],\"line_width\":2,\"right_units\":\"screen\",\"syncable\":false,\"top_units\":\"screen\"},\"id\":\"5595\",\"type\":\"BoxAnnotation\"},{\"attributes\":{\"label\":{\"value\":\"1\"},\"renderers\":[{\"id\":\"5636\"}]},\"id\":\"5650\",\"type\":\"LegendItem\"},{\"attributes\":{\"fill_color\":{\"value\":\"#30a2da\"},\"hatch_color\":{\"value\":\"#30a2da\"},\"line_color\":{\"value\":\"#30a2da\"},\"size\":{\"value\":5.477225575051661},\"tags\":[\"apply_ranges\"],\"x\":{\"field\":\"price_change_percentage_24h\"},\"y\":{\"field\":\"price_change_percentage_7d\"}},\"id\":\"5612\",\"type\":\"Scatter\"},{\"attributes\":{\"active_drag\":{\"id\":\"5591\"},\"active_scroll\":{\"id\":\"5592\"},\"tools\":[{\"id\":\"5569\"},{\"id\":\"5590\"},{\"id\":\"5591\"},{\"id\":\"5592\"},{\"id\":\"5593\"},{\"id\":\"5594\"}]},\"id\":\"5596\",\"type\":\"Toolbar\"},{\"attributes\":{\"fill_alpha\":{\"value\":0.1},\"fill_color\":{\"value\":\"#30a2da\"},\"hatch_alpha\":{\"value\":0.1},\"hatch_color\":{\"value\":\"#30a2da\"},\"line_alpha\":{\"value\":0.1},\"line_color\":{\"value\":\"#30a2da\"},\"size\":{\"value\":5.477225575051661},\"tags\":[\"apply_ranges\"],\"x\":{\"field\":\"price_change_percentage_24h\"},\"y\":{\"field\":\"price_change_percentage_7d\"}},\"id\":\"5613\",\"type\":\"Scatter\"},{\"attributes\":{},\"id\":\"5607\",\"type\":\"BasicTickFormatter\"},{\"attributes\":{},\"id\":\"5604\",\"type\":\"BasicTickFormatter\"},{\"attributes\":{},\"id\":\"5608\",\"type\":\"AllLabels\"},{\"attributes\":{},\"id\":\"5677\",\"type\":\"Selection\"},{\"attributes\":{},\"id\":\"5631\",\"type\":\"Selection\"},{\"attributes\":{\"coordinates\":null,\"data_source\":{\"id\":\"5652\"},\"glyph\":{\"id\":\"5655\"},\"group\":null,\"hover_glyph\":null,\"muted_glyph\":{\"id\":\"5657\"},\"name\":\"2\",\"nonselection_glyph\":{\"id\":\"5656\"},\"selection_glyph\":{\"id\":\"5675\"},\"view\":{\"id\":\"5659\"}},\"id\":\"5658\",\"type\":\"GlyphRenderer\"},{\"attributes\":{\"fill_alpha\":{\"value\":0.1},\"fill_color\":{\"value\":\"#6d904f\"},\"hatch_alpha\":{\"value\":0.1},\"hatch_color\":{\"value\":\"#6d904f\"},\"line_alpha\":{\"value\":0.1},\"line_color\":{\"value\":\"#6d904f\"},\"size\":{\"value\":5.477225575051661},\"tags\":[\"apply_ranges\"],\"x\":{\"field\":\"price_change_percentage_24h\"},\"y\":{\"field\":\"price_change_percentage_7d\"}},\"id\":\"5680\",\"type\":\"Scatter\"},{\"attributes\":{\"fill_alpha\":{\"value\":0.2},\"fill_color\":{\"value\":\"#6d904f\"},\"hatch_alpha\":{\"value\":0.2},\"hatch_color\":{\"value\":\"#6d904f\"},\"line_alpha\":{\"value\":0.2},\"line_color\":{\"value\":\"#6d904f\"},\"size\":{\"value\":5.477225575051661},\"tags\":[\"apply_ranges\"],\"x\":{\"field\":\"price_change_percentage_24h\"},\"y\":{\"field\":\"price_change_percentage_7d\"}},\"id\":\"5681\",\"type\":\"Scatter\"},{\"attributes\":{\"click_policy\":\"mute\",\"coordinates\":null,\"group\":null,\"items\":[{\"id\":\"5628\"},{\"id\":\"5650\"},{\"id\":\"5674\"},{\"id\":\"5700\"}],\"title\":\"predicted_cluster\"},\"id\":\"5627\",\"type\":\"Legend\"},{\"attributes\":{\"angle\":{\"value\":0.0},\"fill_alpha\":{\"value\":1.0},\"fill_color\":{\"value\":\"#fc4f30\"},\"hatch_alpha\":{\"value\":1.0},\"hatch_color\":{\"value\":\"#fc4f30\"},\"hatch_scale\":{\"value\":12.0},\"hatch_weight\":{\"value\":1.0},\"line_alpha\":{\"value\":1.0},\"line_cap\":{\"value\":\"butt\"},\"line_color\":{\"value\":\"#fc4f30\"},\"line_dash\":{\"value\":[]},\"line_dash_offset\":{\"value\":0},\"line_join\":{\"value\":\"bevel\"},\"line_width\":{\"value\":1},\"marker\":{\"value\":\"circle\"},\"size\":{\"value\":5.477225575051661},\"tags\":[\"apply_ranges\"],\"x\":{\"field\":\"price_change_percentage_24h\"},\"y\":{\"field\":\"price_change_percentage_7d\"}},\"id\":\"5651\",\"type\":\"Scatter\"},{\"attributes\":{\"fill_alpha\":{\"value\":0.1},\"fill_color\":{\"value\":\"#fc4f30\"},\"hatch_alpha\":{\"value\":0.1},\"hatch_color\":{\"value\":\"#fc4f30\"},\"line_alpha\":{\"value\":0.1},\"line_color\":{\"value\":\"#fc4f30\"},\"size\":{\"value\":5.477225575051661},\"tags\":[\"apply_ranges\"],\"x\":{\"field\":\"price_change_percentage_24h\"},\"y\":{\"field\":\"price_change_percentage_7d\"}},\"id\":\"5634\",\"type\":\"Scatter\"},{\"attributes\":{\"coordinates\":null,\"data_source\":{\"id\":\"5676\"},\"glyph\":{\"id\":\"5679\"},\"group\":null,\"hover_glyph\":null,\"muted_glyph\":{\"id\":\"5681\"},\"name\":\"3\",\"nonselection_glyph\":{\"id\":\"5680\"},\"selection_glyph\":{\"id\":\"5701\"},\"view\":{\"id\":\"5683\"}},\"id\":\"5682\",\"type\":\"GlyphRenderer\"},{\"attributes\":{},\"id\":\"5610\",\"type\":\"Selection\"},{\"attributes\":{\"data\":{\"coin_id\":[\"bitcoin\",\"ethereum\",\"bitcoin-cash\",\"binancecoin\",\"chainlink\",\"cardano\",\"litecoin\",\"monero\",\"tezos\",\"cosmos\",\"wrapped-bitcoin\",\"zcash\",\"maker\"],\"predicted_cluster\":[2,2,2,2,2,2,2,2,2,2,2,2,2],\"price_change_percentage_24h\":{\"__ndarray__\":\"DdlqYN9F4D86azDosLzHPzALIwCtFvM/9w6McDSK7D/VDHOpb1eHPzMEvaFkP7o/Sds39trWsz9Epj8/c9DQP4xAeNEVZ8O/qq8st/Fh0L8FWWk3mH7gP6wo083aUMC//ACFOIMFwL8=\",\"dtype\":\"float64\",\"order\":\"little\",\"shape\":[13]},\"price_change_percentage_7d\":{\"__ndarray__\":\"U1k8q3mQ3z9yoPpI+ebtPzAB2dP2AQBAgmkOMZk89T8FNulI+JMEQCZRaSLGIPg/84wjaB1l1T8rMp3jf678P2VmURqKqeY/XK6ZksNx/T9DfMqy1o7dPyTPDB1Xu+0/srW7TleV4j8=\",\"dtype\":\"float64\",\"order\":\"little\",\"shape\":[13]}},\"selected\":{\"id\":\"5653\"},\"selection_policy\":{\"id\":\"5671\"}},\"id\":\"5652\",\"type\":\"ColumnDataSource\"},{\"attributes\":{\"fill_alpha\":{\"value\":0.2},\"fill_color\":{\"value\":\"#30a2da\"},\"hatch_alpha\":{\"value\":0.2},\"hatch_color\":{\"value\":\"#30a2da\"},\"line_alpha\":{\"value\":0.2},\"line_color\":{\"value\":\"#30a2da\"},\"size\":{\"value\":5.477225575051661},\"tags\":[\"apply_ranges\"],\"x\":{\"field\":\"price_change_percentage_24h\"},\"y\":{\"field\":\"price_change_percentage_7d\"}},\"id\":\"5614\",\"type\":\"Scatter\"},{\"attributes\":{\"source\":{\"id\":\"5676\"}},\"id\":\"5683\",\"type\":\"CDSView\"},{\"attributes\":{\"source\":{\"id\":\"5609\"}},\"id\":\"5616\",\"type\":\"CDSView\"},{\"attributes\":{\"coordinates\":null,\"data_source\":{\"id\":\"5609\"},\"glyph\":{\"id\":\"5612\"},\"group\":null,\"hover_glyph\":null,\"muted_glyph\":{\"id\":\"5614\"},\"name\":\"0\",\"nonselection_glyph\":{\"id\":\"5613\"},\"selection_glyph\":{\"id\":\"5629\"},\"view\":{\"id\":\"5616\"}},\"id\":\"5615\",\"type\":\"GlyphRenderer\"},{\"attributes\":{\"data\":{\"coin_id\":[\"tether\",\"ripple\",\"bitcoin-cash-sv\",\"crypto-com-chain\",\"usd-coin\",\"eos\",\"tron\",\"okb\",\"stellar\",\"cdai\",\"neo\",\"leo-token\",\"huobi-token\",\"nem\",\"binance-usd\",\"iota\",\"vechain\",\"theta-token\",\"dash\",\"ethereum-classic\",\"havven\",\"omisego\",\"ontology\",\"ftx-token\",\"true-usd\",\"digibyte\"],\"predicted_cluster\":[0,0,0,0,0,0,0,0,0,0,0,0,0,0,0,0,0,0,0,0,0,0,0,0,0,0],\"price_change_percentage_24h\":{\"__ndarray__\":\"mCJF1OlLlj/mJRG3Ed+kv1qZGRifu9w//rJXHrAz1T/yMTqenpahPx9kk3dK7sM/GTRehHalwD90fnl54Irtv9XPDahDw9G/+VOWQSEmxz+kpbukw1bSP6eM4M4OgKo/BcMOj9+jqr/Chq6S5ebLv2h3TIfCZ68/weEQ8QyV0D/KmZTmC7niP1YH9WGFy/m/N7JuVBEB07/EU4GAhEGyv8Ocf0hw2/a/lrPBJY23/j/IKcQzxy3av5WrmDyeito/Bf22eE/6sz9Y362Ir3rzPw==\",\"dtype\":\"float64\",\"order\":\"little\",\"shape\":[26]},\"price_change_percentage_7d\":{\"__ndarray__\":\"bZSIvk+a5r9RujxqH/Ppvw2U7adXaMi/d+r7VGbW+b9EGSx/8nTnv4rfBo4Lhe2/BEBwXEEApb8Udj8VbP/2vySelkVDp9i/7SZvVsyO5r8uu+JVH+LUvziN+gRMte2/o2qlez1D3b/CtPLKIS7rvyYjaswHnea/US6joeTvzz/dRmuCvtDvv/9TV66U6fq/ZWX+mWVCuD8GJ0pHuV/Nv8nIE2ZWH5q/TTxj/me11z+Htdvf1gXtv2Avihmzf9o/e31xtwIC5r/STlu6Y3Ljvw==\",\"dtype\":\"float64\",\"order\":\"little\",\"shape\":[26]}},\"selected\":{\"id\":\"5610\"},\"selection_policy\":{\"id\":\"5624\"}},\"id\":\"5609\",\"type\":\"ColumnDataSource\"},{\"attributes\":{},\"id\":\"5697\",\"type\":\"UnionRenderers\"},{\"attributes\":{\"end\":2.2648550545806607,\"reset_end\":2.2648550545806607,\"reset_start\":-5.326084597816067,\"start\":-5.326084597816067,\"tags\":[[[\"price_change_percentage_24h\",\"price_change_percentage_24h\",null]],[]]},\"id\":\"5565\",\"type\":\"Range1d\"},{\"attributes\":{\"fill_alpha\":{\"value\":0.1},\"fill_color\":{\"value\":\"#e5ae38\"},\"hatch_alpha\":{\"value\":0.1},\"hatch_color\":{\"value\":\"#e5ae38\"},\"line_alpha\":{\"value\":0.1},\"line_color\":{\"value\":\"#e5ae38\"},\"size\":{\"value\":5.477225575051661},\"tags\":[\"apply_ranges\"],\"x\":{\"field\":\"price_change_percentage_24h\"},\"y\":{\"field\":\"price_change_percentage_7d\"}},\"id\":\"5656\",\"type\":\"Scatter\"},{\"attributes\":{\"callback\":null,\"renderers\":[{\"id\":\"5615\"},{\"id\":\"5636\"},{\"id\":\"5658\"},{\"id\":\"5682\"}],\"tags\":[\"hv_created\"],\"tooltips\":[[\"predicted_cluster\",\"@{predicted_cluster}\"],[\"price_change_percentage_24h\",\"@{price_change_percentage_24h}\"],[\"price_change_percentage_7d\",\"@{price_change_percentage_7d}\"],[\"coin_id\",\"@{coin_id}\"]]},\"id\":\"5569\",\"type\":\"HoverTool\"},{\"attributes\":{\"fill_color\":{\"value\":\"#6d904f\"},\"hatch_color\":{\"value\":\"#6d904f\"},\"line_color\":{\"value\":\"#6d904f\"},\"size\":{\"value\":5.477225575051661},\"tags\":[\"apply_ranges\"],\"x\":{\"field\":\"price_change_percentage_24h\"},\"y\":{\"field\":\"price_change_percentage_7d\"}},\"id\":\"5679\",\"type\":\"Scatter\"},{\"attributes\":{\"end\":2.997678656273595,\"reset_end\":2.997678656273595,\"reset_start\":-2.107454305728652,\"start\":-2.107454305728652,\"tags\":[[[\"price_change_percentage_7d\",\"price_change_percentage_7d\",null]],{\"autorange\":false,\"invert_yaxis\":false}]},\"id\":\"5566\",\"type\":\"Range1d\"},{\"attributes\":{\"label\":{\"value\":\"3\"},\"renderers\":[{\"id\":\"5682\"}]},\"id\":\"5700\",\"type\":\"LegendItem\"},{\"attributes\":{\"label\":{\"value\":\"2\"},\"renderers\":[{\"id\":\"5658\"}]},\"id\":\"5674\",\"type\":\"LegendItem\"},{\"attributes\":{\"children\":[{\"id\":\"5573\"}],\"height\":600,\"margin\":[0,0,0,0],\"name\":\"Row05817\",\"sizing_mode\":\"fixed\",\"tags\":[\"embedded\"],\"width\":1200},\"id\":\"5564\",\"type\":\"Row\"},{\"attributes\":{\"angle\":{\"value\":0.0},\"fill_alpha\":{\"value\":1.0},\"fill_color\":{\"value\":\"#30a2da\"},\"hatch_alpha\":{\"value\":1.0},\"hatch_color\":{\"value\":\"#30a2da\"},\"hatch_scale\":{\"value\":12.0},\"hatch_weight\":{\"value\":1.0},\"line_alpha\":{\"value\":1.0},\"line_cap\":{\"value\":\"butt\"},\"line_color\":{\"value\":\"#30a2da\"},\"line_dash\":{\"value\":[]},\"line_dash_offset\":{\"value\":0},\"line_join\":{\"value\":\"bevel\"},\"line_width\":{\"value\":1},\"marker\":{\"value\":\"circle\"},\"size\":{\"value\":5.477225575051661},\"tags\":[\"apply_ranges\"],\"x\":{\"field\":\"price_change_percentage_24h\"},\"y\":{\"field\":\"price_change_percentage_7d\"}},\"id\":\"5629\",\"type\":\"Scatter\"},{\"attributes\":{\"label\":{\"value\":\"0\"},\"renderers\":[{\"id\":\"5615\"}]},\"id\":\"5628\",\"type\":\"LegendItem\"},{\"attributes\":{},\"id\":\"5653\",\"type\":\"Selection\"},{\"attributes\":{\"fill_alpha\":{\"value\":0.2},\"fill_color\":{\"value\":\"#fc4f30\"},\"hatch_alpha\":{\"value\":0.2},\"hatch_color\":{\"value\":\"#fc4f30\"},\"line_alpha\":{\"value\":0.2},\"line_color\":{\"value\":\"#fc4f30\"},\"size\":{\"value\":5.477225575051661},\"tags\":[\"apply_ranges\"],\"x\":{\"field\":\"price_change_percentage_24h\"},\"y\":{\"field\":\"price_change_percentage_7d\"}},\"id\":\"5635\",\"type\":\"Scatter\"},{\"attributes\":{\"fill_alpha\":{\"value\":0.2},\"fill_color\":{\"value\":\"#e5ae38\"},\"hatch_alpha\":{\"value\":0.2},\"hatch_color\":{\"value\":\"#e5ae38\"},\"line_alpha\":{\"value\":0.2},\"line_color\":{\"value\":\"#e5ae38\"},\"size\":{\"value\":5.477225575051661},\"tags\":[\"apply_ranges\"],\"x\":{\"field\":\"price_change_percentage_24h\"},\"y\":{\"field\":\"price_change_percentage_7d\"}},\"id\":\"5657\",\"type\":\"Scatter\"},{\"attributes\":{\"fill_color\":{\"value\":\"#e5ae38\"},\"hatch_color\":{\"value\":\"#e5ae38\"},\"line_color\":{\"value\":\"#e5ae38\"},\"size\":{\"value\":5.477225575051661},\"tags\":[\"apply_ranges\"],\"x\":{\"field\":\"price_change_percentage_24h\"},\"y\":{\"field\":\"price_change_percentage_7d\"}},\"id\":\"5655\",\"type\":\"Scatter\"},{\"attributes\":{\"data\":{\"coin_id\":[\"celsius-degree-token\"],\"predicted_cluster\":[1],\"price_change_percentage_24h\":{\"__ndarray__\":\"VLqXBn668D8=\",\"dtype\":\"float64\",\"order\":\"little\",\"shape\":[1]},\"price_change_percentage_7d\":{\"__ndarray__\":\"Nv03JFjJ478=\",\"dtype\":\"float64\",\"order\":\"little\",\"shape\":[1]}},\"selected\":{\"id\":\"5631\"},\"selection_policy\":{\"id\":\"5647\"}},\"id\":\"5630\",\"type\":\"ColumnDataSource\"},{\"attributes\":{},\"id\":\"5580\",\"type\":\"LinearScale\"},{\"attributes\":{\"source\":{\"id\":\"5652\"}},\"id\":\"5659\",\"type\":\"CDSView\"},{\"attributes\":{},\"id\":\"5605\",\"type\":\"AllLabels\"},{\"attributes\":{\"axis_label\":\"price_change_percentage_24h\",\"coordinates\":null,\"formatter\":{\"id\":\"5604\"},\"group\":null,\"major_label_policy\":{\"id\":\"5605\"},\"ticker\":{\"id\":\"5583\"}},\"id\":\"5582\",\"type\":\"LinearAxis\"},{\"attributes\":{\"data\":{\"coin_id\":[\"ethlend\"],\"predicted_cluster\":[3],\"price_change_percentage_24h\":{\"__ndarray__\":\"3WeHPpbsE8A=\",\"dtype\":\"float64\",\"order\":\"little\",\"shape\":[1]},\"price_change_percentage_7d\":{\"__ndarray__\":\"dIWi2pshp78=\",\"dtype\":\"float64\",\"order\":\"little\",\"shape\":[1]}},\"selected\":{\"id\":\"5677\"},\"selection_policy\":{\"id\":\"5697\"}},\"id\":\"5676\",\"type\":\"ColumnDataSource\"},{\"attributes\":{},\"id\":\"5624\",\"type\":\"UnionRenderers\"},{\"attributes\":{\"coordinates\":null,\"group\":null,\"text_color\":\"black\",\"text_font_size\":\"12pt\"},\"id\":\"5574\",\"type\":\"Title\"},{\"attributes\":{\"below\":[{\"id\":\"5582\"}],\"center\":[{\"id\":\"5585\"},{\"id\":\"5589\"},{\"id\":\"5627\"}],\"left\":[{\"id\":\"5586\"}],\"margin\":[5,5,5,5],\"min_border_bottom\":10,\"min_border_left\":10,\"min_border_right\":10,\"min_border_top\":10,\"output_backend\":\"webgl\",\"renderers\":[{\"id\":\"5615\"},{\"id\":\"5636\"},{\"id\":\"5658\"},{\"id\":\"5682\"}],\"sizing_mode\":\"fixed\",\"title\":{\"id\":\"5574\"},\"toolbar\":{\"id\":\"5596\"},\"width\":1200,\"x_range\":{\"id\":\"5565\"},\"x_scale\":{\"id\":\"5580\"},\"y_range\":{\"id\":\"5566\"},\"y_scale\":{\"id\":\"5581\"}},\"id\":\"5573\",\"subtype\":\"Figure\",\"type\":\"Plot\"}],\"root_ids\":[\"5564\"]},\"title\":\"Bokeh Application\",\"version\":\"2.4.3\"}};\n",
       "    var render_items = [{\"docid\":\"ca975fb4-32b0-4747-8059-6988b35898ab\",\"root_ids\":[\"5564\"],\"roots\":{\"5564\":\"03186125-d246-4509-9f21-edbf5237d3d4\"}}];\n",
       "    root.Bokeh.embed.embed_items_notebook(docs_json, render_items);\n",
       "    for (const render_item of render_items) {\n",
       "      for (const root_id of render_item.root_ids) {\n",
       "\tconst id_el = document.getElementById(root_id)\n",
       "\tif (id_el.children.length && (id_el.children[0].className === 'bk-root')) {\n",
       "\t  const root_el = id_el.children[0]\n",
       "\t  root_el.id = root_el.id + '-rendered'\n",
       "\t}\n",
       "      }\n",
       "    }\n",
       "  }\n",
       "  if (root.Bokeh !== undefined && root.Bokeh.Panel !== undefined) {\n",
       "    embed_document(root);\n",
       "  } else {\n",
       "    var attempts = 0;\n",
       "    var timer = setInterval(function(root) {\n",
       "      if (root.Bokeh !== undefined && root.Bokeh.Panel !== undefined) {\n",
       "        clearInterval(timer);\n",
       "        embed_document(root);\n",
       "      } else if (document.readyState == \"complete\") {\n",
       "        attempts++;\n",
       "        if (attempts > 200) {\n",
       "          clearInterval(timer);\n",
       "          console.log(\"Bokeh: ERROR: Unable to run BokehJS code because BokehJS library is missing\");\n",
       "        }\n",
       "      }\n",
       "    }, 25, root)\n",
       "  }\n",
       "})(window);</script>"
      ],
      "text/plain": [
       ":NdOverlay   [predicted_cluster]\n",
       "   :Scatter   [price_change_percentage_24h]   (price_change_percentage_7d,coin_id)"
      ]
     },
     "execution_count": 131,
     "metadata": {
      "application/vnd.holoviews_exec.v0+json": {
       "id": "5564"
      }
     },
     "output_type": "execute_result"
    }
   ],
   "source": [
    "# Create a scatter plot using hvPlot by setting \n",
    "# `x=\"price_change_percentage_24h\"` and `y=\"price_change_percentage_7d\"`. \n",
    "# Color the graph points with the labels found using K-Means and \n",
    "# add the crypto name in the `hover_cols` parameter to identify \n",
    "# the cryptocurrency represented by each data point.\n",
    "print('Plotting Predicted Clusters',datetime.now())\n",
    "clusters_Predicted.hvplot.scatter(x='price_change_percentage_24h',y='price_change_percentage_7d',\n",
    "                                 by='predicted_cluster',hover_cols = 'coin_id',legend='top_right',width=1200,height=600)"
   ]
  },
  {
   "attachments": {},
   "cell_type": "markdown",
   "metadata": {},
   "source": [
    "---"
   ]
  },
  {
   "attachments": {},
   "cell_type": "markdown",
   "metadata": {},
   "source": [
    "### Optimize Clusters with Principal Component Analysis."
   ]
  },
  {
   "cell_type": "code",
   "execution_count": 132,
   "metadata": {},
   "outputs": [
    {
     "name": "stdout",
     "output_type": "stream",
     "text": [
      "Creating PCA Model 2023-08-27 17:32:46.054390\n",
      "PCA Model Created  2023-08-27 17:32:46.054463\n"
     ]
    }
   ],
   "source": [
    "# Create a PCA model instance and set `n_components=3`.\n",
    "print('Creating PCA Model',datetime.now())\n",
    "pca = PCA(n_components=3)\n",
    "print('PCA Model Created ',datetime.now())  "
   ]
  },
  {
   "cell_type": "code",
   "execution_count": 133,
   "metadata": {},
   "outputs": [
    {
     "name": "stdout",
     "output_type": "stream",
     "text": [
      "Fitting PCA Model 2023-08-27 17:32:50.354175\n",
      "PCA Model Fitted  2023-08-27 17:32:50.355331\n"
     ]
    },
    {
     "data": {
      "text/plain": [
       "array([[ 0.44890795, -1.24537573, -0.8506404 ],\n",
       "       [ 0.49536709, -0.899823  , -1.31755943],\n",
       "       [-0.81884571,  0.07189909,  0.69501507],\n",
       "       [-0.84035711,  0.08005407,  0.54435952],\n",
       "       [ 0.81324004, -2.66952035, -1.64332113]])"
      ]
     },
     "execution_count": 133,
     "metadata": {},
     "output_type": "execute_result"
    }
   ],
   "source": [
    "#\n",
    "# Use the PCA model with `fit_transform` to reduce to three principal components.\n",
    "#\n",
    "print('Fitting PCA Model',datetime.now())   \n",
    "clusters_PCA = pca.fit_transform(clustersPredicted)\n",
    "print('PCA Model Fitted ',datetime.now())\n",
    "#\n",
    "# View the first five rows of the DataFrame. \n",
    "#\n",
    "clusters_PCA[:5]"
   ]
  },
  {
   "cell_type": "code",
   "execution_count": 134,
   "metadata": {},
   "outputs": [
    {
     "name": "stdout",
     "output_type": "stream",
     "text": [
      "Explained Variance 2023-08-27 17:32:54.141265\n"
     ]
    },
    {
     "data": {
      "text/plain": [
       "array([0.34871677, 0.31363391, 0.22627118])"
      ]
     },
     "execution_count": 134,
     "metadata": {},
     "output_type": "execute_result"
    }
   ],
   "source": [
    "# Retrieve the explained variance to determine how much information \n",
    "# can be attributed to each principal component.\n",
    "print('Explained Variance',datetime.now())  \n",
    "pca.explained_variance_ratio_"
   ]
  },
  {
   "cell_type": "code",
   "execution_count": 135,
   "metadata": {},
   "outputs": [
    {
     "name": "stdout",
     "output_type": "stream",
     "text": [
      "Total Explained Variance 2023-08-27 17:32:56.449623\n"
     ]
    },
    {
     "data": {
      "text/plain": [
       "0.8886218549859446"
      ]
     },
     "execution_count": 135,
     "metadata": {},
     "output_type": "execute_result"
    }
   ],
   "source": [
    "#calculate the Total Explained Variance by summing all 3 Explained Variance Ratios\n",
    "print('Total Explained Variance',datetime.now())\n",
    "sum(pca.explained_variance_ratio_)"
   ]
  },
  {
   "attachments": {},
   "cell_type": "markdown",
   "metadata": {},
   "source": [
    "#### Answer the following question: \n",
    "\n",
    "**Question:** What is the total explained variance of the three principal components?\n",
    "\n",
    "**Answer:** 0.34871677 + 0.31363391 + 0.22627118 = 0.88862186\n",
    "\n",
    "**Answer may change depending on re-execution of the whole code**"
   ]
  },
  {
   "cell_type": "code",
   "execution_count": 136,
   "metadata": {},
   "outputs": [
    {
     "name": "stdout",
     "output_type": "stream",
     "text": [
      "Creating PCA DataFrame 2023-08-27 17:32:59.282607\n",
      "        PCA1      PCA2      PCA3\n",
      "0   0.448908 -1.245376 -0.850640\n",
      "1   0.495367 -0.899823 -1.317559\n",
      "2  -0.818846  0.071899  0.695015\n",
      "3  -0.840357  0.080054  0.544360\n",
      "4   0.813240 -2.669520 -1.643321\n",
      "5   0.822871 -1.682096 -0.905203\n",
      "6   0.913868 -1.128684 -2.730038\n",
      "7   0.811102 -1.113378 -1.598655\n",
      "8   0.258728 -0.946884 -1.103560\n",
      "9  -1.003921 -0.119410  0.278564\n",
      "10 -1.363289  1.245349  0.950712\n",
      "11 -0.830643  0.077047  0.707661\n",
      "12 -1.135458  0.171401  0.441569\n",
      "13  2.084978 -2.688979 -0.776469\n",
      "14 -0.633198 -0.016911  0.249426\n",
      "15 -0.161908 -0.310904 -1.818521\n",
      "16 -0.996987  1.292574  0.793701\n",
      "17 -0.990512  0.449877  0.052002\n",
      "18  0.878129 -1.093136 -1.774115\n",
      "19 -0.874815  0.008933  0.694993\n",
      "20 -1.135199  0.792113  0.499484\n",
      "21  0.434801 -1.232506 -0.839794\n",
      "22 -1.110348  0.540593  0.854934\n",
      "23 -0.758629  0.094085  0.466658\n",
      "24  0.222636  0.083977  1.584956\n",
      "25 -0.826142  0.049070  0.700753\n",
      "26 -1.059844  0.097044 -0.149781\n",
      "27 -1.808829  1.520236  0.527335\n",
      "28  0.558082 -0.920479 -1.377145\n",
      "29  1.452903  1.756424  2.506866\n",
      "30 -0.897830  0.134758 -0.197015\n",
      "31 -0.908899  0.095612  0.194364\n",
      "32  6.049082  7.033268 -2.235723\n",
      "33  0.307206 -0.565760 -0.968488\n",
      "34 -0.507111  2.407910 -0.392697\n",
      "35 -0.236488 -0.071399  1.445063\n",
      "36  6.454065 -2.823519  4.810646\n",
      "37 -1.823588  1.561754  0.000663\n",
      "38 -0.689158 -0.253900  0.073233\n",
      "39 -0.823298  0.031016  0.694746\n",
      "40 -0.770668  0.187671  0.911020\n",
      "        PCA1      PCA2      PCA3               coin_id\n",
      "0   0.448908 -1.245376 -0.850640               bitcoin\n",
      "1   0.495367 -0.899823 -1.317559              ethereum\n",
      "2  -0.818846  0.071899  0.695015                tether\n",
      "3  -0.840357  0.080054  0.544360                ripple\n",
      "4   0.813240 -2.669520 -1.643321          bitcoin-cash\n",
      "5   0.822871 -1.682096 -0.905203           binancecoin\n",
      "6   0.913868 -1.128684 -2.730038             chainlink\n",
      "7   0.811102 -1.113378 -1.598655               cardano\n",
      "8   0.258728 -0.946884 -1.103560              litecoin\n",
      "9  -1.003921 -0.119410  0.278564       bitcoin-cash-sv\n",
      "10 -1.363289  1.245349  0.950712      crypto-com-chain\n",
      "11 -0.830643  0.077047  0.707661              usd-coin\n",
      "12 -1.135458  0.171401  0.441569                   eos\n",
      "13  2.084978 -2.688979 -0.776469                monero\n",
      "14 -0.633198 -0.016911  0.249426                  tron\n",
      "15 -0.161908 -0.310904 -1.818521                 tezos\n",
      "16 -0.996987  1.292574  0.793701                   okb\n",
      "17 -0.990512  0.449877  0.052002               stellar\n",
      "18  0.878129 -1.093136 -1.774115                cosmos\n",
      "19 -0.874815  0.008933  0.694993                  cdai\n",
      "20 -1.135199  0.792113  0.499484                   neo\n",
      "21  0.434801 -1.232506 -0.839794       wrapped-bitcoin\n",
      "22 -1.110348  0.540593  0.854934             leo-token\n",
      "23 -0.758629  0.094085  0.466658           huobi-token\n",
      "24  0.222636  0.083977  1.584956                   nem\n",
      "25 -0.826142  0.049070  0.700753           binance-usd\n",
      "26 -1.059844  0.097044 -0.149781                  iota\n",
      "27 -1.808829  1.520236  0.527335               vechain\n",
      "28  0.558082 -0.920479 -1.377145                 zcash\n",
      "29  1.452903  1.756424  2.506866           theta-token\n",
      "30 -0.897830  0.134758 -0.197015                  dash\n",
      "31 -0.908899  0.095612  0.194364      ethereum-classic\n",
      "32  6.049082  7.033268 -2.235723               ethlend\n",
      "33  0.307206 -0.565760 -0.968488                 maker\n",
      "34 -0.507111  2.407910 -0.392697                havven\n",
      "35 -0.236488 -0.071399  1.445063               omisego\n",
      "36  6.454065 -2.823519  4.810646  celsius-degree-token\n",
      "37 -1.823588  1.561754  0.000663              ontology\n",
      "38 -0.689158 -0.253900  0.073233             ftx-token\n",
      "39 -0.823298  0.031016  0.694746              true-usd\n",
      "40 -0.770668  0.187671  0.911020              digibyte\n",
      "                          PCA1      PCA2      PCA3\n",
      "coin_id                                           \n",
      "bitcoin               0.448908 -1.245376 -0.850640\n",
      "ethereum              0.495367 -0.899823 -1.317559\n",
      "tether               -0.818846  0.071899  0.695015\n",
      "ripple               -0.840357  0.080054  0.544360\n",
      "bitcoin-cash          0.813240 -2.669520 -1.643321\n",
      "binancecoin           0.822871 -1.682096 -0.905203\n",
      "chainlink             0.913868 -1.128684 -2.730038\n",
      "cardano               0.811102 -1.113378 -1.598655\n",
      "litecoin              0.258728 -0.946884 -1.103560\n",
      "bitcoin-cash-sv      -1.003921 -0.119410  0.278564\n",
      "crypto-com-chain     -1.363289  1.245349  0.950712\n",
      "usd-coin             -0.830643  0.077047  0.707661\n",
      "eos                  -1.135458  0.171401  0.441569\n",
      "monero                2.084978 -2.688979 -0.776469\n",
      "tron                 -0.633198 -0.016911  0.249426\n",
      "tezos                -0.161908 -0.310904 -1.818521\n",
      "okb                  -0.996987  1.292574  0.793701\n",
      "stellar              -0.990512  0.449877  0.052002\n",
      "cosmos                0.878129 -1.093136 -1.774115\n",
      "cdai                 -0.874815  0.008933  0.694993\n",
      "neo                  -1.135199  0.792113  0.499484\n",
      "wrapped-bitcoin       0.434801 -1.232506 -0.839794\n",
      "leo-token            -1.110348  0.540593  0.854934\n",
      "huobi-token          -0.758629  0.094085  0.466658\n",
      "nem                   0.222636  0.083977  1.584956\n",
      "binance-usd          -0.826142  0.049070  0.700753\n",
      "iota                 -1.059844  0.097044 -0.149781\n",
      "vechain              -1.808829  1.520236  0.527335\n",
      "zcash                 0.558082 -0.920479 -1.377145\n",
      "theta-token           1.452903  1.756424  2.506866\n",
      "dash                 -0.897830  0.134758 -0.197015\n",
      "ethereum-classic     -0.908899  0.095612  0.194364\n",
      "ethlend               6.049082  7.033268 -2.235723\n",
      "maker                 0.307206 -0.565760 -0.968488\n",
      "havven               -0.507111  2.407910 -0.392697\n",
      "omisego              -0.236488 -0.071399  1.445063\n",
      "celsius-degree-token  6.454065 -2.823519  4.810646\n",
      "ontology             -1.823588  1.561754  0.000663\n",
      "ftx-token            -0.689158 -0.253900  0.073233\n",
      "true-usd             -0.823298  0.031016  0.694746\n",
      "digibyte             -0.770668  0.187671  0.911020\n",
      "PCA DataFrame Created  2023-08-27 17:32:59.287863\n"
     ]
    }
   ],
   "source": [
    "# Create a new DataFrame with the PCA data.\n",
    "print('Creating PCA DataFrame',datetime.now())  \n",
    "cluster_PCA_df = pd.DataFrame(clusters_PCA,columns = [\"PCA1\", \"PCA2\", \"PCA3\"])\n",
    "print(cluster_PCA_df)\n",
    "\n",
    "# Copy the crypto names from the original data\n",
    "cluster_PCA_df['coin_id'] = list(clusters_Predicted.index)\n",
    "print(cluster_PCA_df)\n",
    "\n",
    "# Set the coinid column as index\n",
    "cluster_PCA_df = cluster_PCA_df.set_index('coin_id')\n",
    "\n",
    "# Display sample data\n",
    "print(cluster_PCA_df)\n",
    "print('PCA DataFrame Created ',datetime.now())\n"
   ]
  },
  {
   "attachments": {},
   "cell_type": "markdown",
   "metadata": {},
   "source": [
    "---"
   ]
  },
  {
   "attachments": {},
   "cell_type": "markdown",
   "metadata": {},
   "source": [
    "### Find the Best Value for k Using the PCA Data"
   ]
  },
  {
   "cell_type": "code",
   "execution_count": 137,
   "metadata": {},
   "outputs": [
    {
     "name": "stdout",
     "output_type": "stream",
     "text": [
      "k-values  [1, 2, 3, 4, 5, 6, 7, 8, 9, 10, 11]\n"
     ]
    }
   ],
   "source": [
    "# Create a list with the number of k-values from 1 to 11\n",
    "k = list(range(1,12))\n",
    "print('k-values ',k)"
   ]
  },
  {
   "cell_type": "code",
   "execution_count": 138,
   "metadata": {},
   "outputs": [
    {
     "name": "stdout",
     "output_type": "stream",
     "text": [
      "Values of Inertia 2  [290.6226939879639, 203.5797257883004, 112.854846058156, 44.13060225321705, 33.217427255152344, 23.37167668829717, 17.17220012359737, 13.593410892098134, 11.155098209251477, 8.958913480156944, 7.345260405169598]\n"
     ]
    }
   ],
   "source": [
    "# Create an empty list to store the inertia values\n",
    "inertia_2 = []\n",
    "\n",
    "# Create a for loop to compute the inertia with each possible value of k\n",
    "# Inside the loop:\n",
    "# 1. Create a KMeans model using the loop counter for the n_clusters\n",
    "# 2. Fit the model to the data using `df_market_data_pca`\n",
    "# 3. Append the model.inertia_ to the inertia list\n",
    "for i in k:\n",
    "    k_model = KMeans(n_clusters=i, random_state=1,n_init=10,max_iter=1000)\n",
    "    k_model.fit(cluster_PCA_df)\n",
    "    inertia_2.append(k_model.inertia_)\n",
    "print('Values of Inertia 2 ', inertia_2)"
   ]
  },
  {
   "cell_type": "code",
   "execution_count": 139,
   "metadata": {},
   "outputs": [
    {
     "name": "stdout",
     "output_type": "stream",
     "text": [
      "Creating Elbow Curve 2 2023-08-27 17:33:13.803813\n",
      "     k     inertia\n",
      "0    1  290.622694\n",
      "1    2  203.579726\n",
      "2    3  112.854846\n",
      "3    4   44.130602\n",
      "4    5   33.217427\n",
      "5    6   23.371677\n",
      "6    7   17.172200\n",
      "7    8   13.593411\n",
      "8    9   11.155098\n",
      "9   10    8.958913\n",
      "10  11    7.345260\n",
      "Elbow Curve 2 Created  2023-08-27 17:33:13.804939\n"
     ]
    }
   ],
   "source": [
    "# Create a dictionary with the data to plot the Elbow curve\n",
    "print('Creating Elbow Curve 2',datetime.now())  \n",
    "elbow_Data_2 = {\"k\": k, \"inertia\": inertia_2}\n",
    "# Create a DataFrame with the data to plot the Elbow curve\n",
    "elbow_DF_2 = pd.DataFrame(elbow_Data_2)\n",
    "print(elbow_DF_2)\n",
    "print('Elbow Curve 2 Created ',datetime.now())"
   ]
  },
  {
   "cell_type": "code",
   "execution_count": 140,
   "metadata": {},
   "outputs": [
    {
     "name": "stdout",
     "output_type": "stream",
     "text": [
      "Plotting Elbow Curve 2 2023-08-27 17:33:16.777651\n"
     ]
    },
    {
     "data": {},
     "metadata": {},
     "output_type": "display_data"
    },
    {
     "data": {
      "application/vnd.holoviews_exec.v0+json": "",
      "text/html": [
       "<div id='5803'>\n",
       "  <div class=\"bk-root\" id=\"401398bb-2bd5-4734-b08b-c1bc8d530a63\" data-root-id=\"5803\"></div>\n",
       "</div>\n",
       "<script type=\"application/javascript\">(function(root) {\n",
       "  function embed_document(root) {\n",
       "    var docs_json = {\"9210be31-3637-45ee-a2e0-a50267fbe8c0\":{\"defs\":[{\"extends\":null,\"module\":null,\"name\":\"ReactiveHTML1\",\"overrides\":[],\"properties\":[]},{\"extends\":null,\"module\":null,\"name\":\"FlexBox1\",\"overrides\":[],\"properties\":[{\"default\":\"flex-start\",\"kind\":null,\"name\":\"align_content\"},{\"default\":\"flex-start\",\"kind\":null,\"name\":\"align_items\"},{\"default\":\"row\",\"kind\":null,\"name\":\"flex_direction\"},{\"default\":\"wrap\",\"kind\":null,\"name\":\"flex_wrap\"},{\"default\":\"flex-start\",\"kind\":null,\"name\":\"justify_content\"}]},{\"extends\":null,\"module\":null,\"name\":\"GridStack1\",\"overrides\":[],\"properties\":[{\"default\":\"warn\",\"kind\":null,\"name\":\"mode\"},{\"default\":null,\"kind\":null,\"name\":\"ncols\"},{\"default\":null,\"kind\":null,\"name\":\"nrows\"},{\"default\":true,\"kind\":null,\"name\":\"allow_resize\"},{\"default\":true,\"kind\":null,\"name\":\"allow_drag\"},{\"default\":[],\"kind\":null,\"name\":\"state\"}]},{\"extends\":null,\"module\":null,\"name\":\"click1\",\"overrides\":[],\"properties\":[{\"default\":\"\",\"kind\":null,\"name\":\"terminal_output\"},{\"default\":\"\",\"kind\":null,\"name\":\"debug_name\"},{\"default\":0,\"kind\":null,\"name\":\"clears\"}]},{\"extends\":null,\"module\":null,\"name\":\"NotificationAreaBase1\",\"overrides\":[],\"properties\":[{\"default\":\"bottom-right\",\"kind\":null,\"name\":\"position\"},{\"default\":0,\"kind\":null,\"name\":\"_clear\"}]},{\"extends\":null,\"module\":null,\"name\":\"NotificationArea1\",\"overrides\":[],\"properties\":[{\"default\":[],\"kind\":null,\"name\":\"notifications\"},{\"default\":\"bottom-right\",\"kind\":null,\"name\":\"position\"},{\"default\":0,\"kind\":null,\"name\":\"_clear\"},{\"default\":[{\"background\":\"#ffc107\",\"icon\":{\"className\":\"fas fa-exclamation-triangle\",\"color\":\"white\",\"tagName\":\"i\"},\"type\":\"warning\"},{\"background\":\"#007bff\",\"icon\":{\"className\":\"fas fa-info-circle\",\"color\":\"white\",\"tagName\":\"i\"},\"type\":\"info\"}],\"kind\":null,\"name\":\"types\"}]},{\"extends\":null,\"module\":null,\"name\":\"Notification\",\"overrides\":[],\"properties\":[{\"default\":null,\"kind\":null,\"name\":\"background\"},{\"default\":3000,\"kind\":null,\"name\":\"duration\"},{\"default\":null,\"kind\":null,\"name\":\"icon\"},{\"default\":\"\",\"kind\":null,\"name\":\"message\"},{\"default\":null,\"kind\":null,\"name\":\"notification_type\"},{\"default\":false,\"kind\":null,\"name\":\"_destroyed\"}]},{\"extends\":null,\"module\":null,\"name\":\"TemplateActions1\",\"overrides\":[],\"properties\":[{\"default\":0,\"kind\":null,\"name\":\"open_modal\"},{\"default\":0,\"kind\":null,\"name\":\"close_modal\"}]},{\"extends\":null,\"module\":null,\"name\":\"MaterialTemplateActions1\",\"overrides\":[],\"properties\":[{\"default\":0,\"kind\":null,\"name\":\"open_modal\"},{\"default\":0,\"kind\":null,\"name\":\"close_modal\"}]}],\"roots\":{\"references\":[{\"attributes\":{\"line_color\":\"#30a2da\",\"line_width\":2,\"tags\":[\"apply_ranges\"],\"x\":{\"field\":\"k\"},\"y\":{\"field\":\"inertia\"}},\"id\":\"5847\",\"type\":\"Line\"},{\"attributes\":{\"below\":[{\"id\":\"5818\"}],\"center\":[{\"id\":\"5821\"},{\"id\":\"5825\"}],\"left\":[{\"id\":\"5822\"}],\"margin\":[5,5,5,5],\"min_border_bottom\":10,\"min_border_left\":10,\"min_border_right\":10,\"min_border_top\":10,\"output_backend\":\"webgl\",\"renderers\":[{\"id\":\"5845\"}],\"sizing_mode\":\"fixed\",\"title\":{\"id\":\"5810\"},\"toolbar\":{\"id\":\"5832\"},\"width\":1200,\"x_range\":{\"id\":\"5804\"},\"x_scale\":{\"id\":\"5816\"},\"y_range\":{\"id\":\"5805\"},\"y_scale\":{\"id\":\"5817\"}},\"id\":\"5809\",\"subtype\":\"Figure\",\"type\":\"Plot\"},{\"attributes\":{},\"id\":\"5850\",\"type\":\"BasicTickFormatter\"},{\"attributes\":{},\"id\":\"5856\",\"type\":\"AllLabels\"},{\"attributes\":{\"callback\":null,\"renderers\":[{\"id\":\"5845\"}],\"tags\":[\"hv_created\"],\"tooltips\":[[\"k\",\"@{k}\"],[\"inertia\",\"@{inertia}\"]]},\"id\":\"5808\",\"type\":\"HoverTool\"},{\"attributes\":{},\"id\":\"5867\",\"type\":\"UnionRenderers\"},{\"attributes\":{\"coordinates\":null,\"group\":null,\"text\":\"Elbow Curve\",\"text_color\":\"black\",\"text_font_size\":\"12pt\"},\"id\":\"5810\",\"type\":\"Title\"},{\"attributes\":{\"axis_label\":\"k\",\"coordinates\":null,\"formatter\":{\"id\":\"5850\"},\"group\":null,\"major_label_policy\":{\"id\":\"5851\"},\"ticker\":{\"id\":\"5848\"}},\"id\":\"5818\",\"type\":\"LinearAxis\"},{\"attributes\":{\"coordinates\":null,\"data_source\":{\"id\":\"5839\"},\"glyph\":{\"id\":\"5842\"},\"group\":null,\"hover_glyph\":null,\"muted_glyph\":{\"id\":\"5844\"},\"nonselection_glyph\":{\"id\":\"5843\"},\"selection_glyph\":{\"id\":\"5847\"},\"view\":{\"id\":\"5846\"}},\"id\":\"5845\",\"type\":\"GlyphRenderer\"},{\"attributes\":{\"source\":{\"id\":\"5839\"}},\"id\":\"5846\",\"type\":\"CDSView\"},{\"attributes\":{\"line_alpha\":0.1,\"line_color\":\"#30a2da\",\"line_width\":2,\"tags\":[\"apply_ranges\"],\"x\":{\"field\":\"k\"},\"y\":{\"field\":\"inertia\"}},\"id\":\"5843\",\"type\":\"Line\"},{\"attributes\":{\"axis\":{\"id\":\"5818\"},\"coordinates\":null,\"grid_line_color\":null,\"group\":null,\"ticker\":null},\"id\":\"5821\",\"type\":\"Grid\"},{\"attributes\":{},\"id\":\"5855\",\"type\":\"BasicTickFormatter\"},{\"attributes\":{},\"id\":\"5851\",\"type\":\"AllLabels\"},{\"attributes\":{},\"id\":\"5817\",\"type\":\"LinearScale\"},{\"attributes\":{\"axis_label\":\"inertia\",\"coordinates\":null,\"formatter\":{\"id\":\"5855\"},\"group\":null,\"major_label_policy\":{\"id\":\"5856\"},\"ticker\":{\"id\":\"5823\"}},\"id\":\"5822\",\"type\":\"LinearAxis\"},{\"attributes\":{\"axis\":{\"id\":\"5822\"},\"coordinates\":null,\"dimension\":1,\"grid_line_color\":null,\"group\":null,\"ticker\":null},\"id\":\"5825\",\"type\":\"Grid\"},{\"attributes\":{},\"id\":\"5823\",\"type\":\"BasicTicker\"},{\"attributes\":{\"end\":11.0,\"reset_end\":11.0,\"reset_start\":1.0,\"start\":1.0,\"tags\":[[[\"k\",\"k\",null]],[]]},\"id\":\"5804\",\"type\":\"Range1d\"},{\"attributes\":{},\"id\":\"5828\",\"type\":\"WheelZoomTool\"},{\"attributes\":{},\"id\":\"5827\",\"type\":\"PanTool\"},{\"attributes\":{},\"id\":\"5826\",\"type\":\"SaveTool\"},{\"attributes\":{\"line_alpha\":0.2,\"line_color\":\"#30a2da\",\"line_width\":2,\"tags\":[\"apply_ranges\"],\"x\":{\"field\":\"k\"},\"y\":{\"field\":\"inertia\"}},\"id\":\"5844\",\"type\":\"Line\"},{\"attributes\":{\"overlay\":{\"id\":\"5831\"}},\"id\":\"5829\",\"type\":\"BoxZoomTool\"},{\"attributes\":{\"end\":318.9504373462433,\"reset_end\":318.9504373462433,\"reset_start\":-20.982482953109834,\"start\":-20.982482953109834,\"tags\":[[[\"inertia\",\"inertia\",null]],{\"autorange\":false,\"invert_yaxis\":false}]},\"id\":\"5805\",\"type\":\"Range1d\"},{\"attributes\":{},\"id\":\"5830\",\"type\":\"ResetTool\"},{\"attributes\":{\"children\":[{\"id\":\"5809\"}],\"height\":600,\"margin\":[0,0,0,0],\"name\":\"Row05992\",\"sizing_mode\":\"fixed\",\"tags\":[\"embedded\"],\"width\":1200},\"id\":\"5803\",\"type\":\"Row\"},{\"attributes\":{\"bottom_units\":\"screen\",\"coordinates\":null,\"fill_alpha\":0.5,\"fill_color\":\"lightgrey\",\"group\":null,\"left_units\":\"screen\",\"level\":\"overlay\",\"line_alpha\":1.0,\"line_color\":\"black\",\"line_dash\":[4,4],\"line_width\":2,\"right_units\":\"screen\",\"syncable\":false,\"top_units\":\"screen\"},\"id\":\"5831\",\"type\":\"BoxAnnotation\"},{\"attributes\":{\"active_drag\":{\"id\":\"5827\"},\"active_scroll\":{\"id\":\"5828\"},\"tools\":[{\"id\":\"5808\"},{\"id\":\"5826\"},{\"id\":\"5827\"},{\"id\":\"5828\"},{\"id\":\"5829\"},{\"id\":\"5830\"}]},\"id\":\"5832\",\"type\":\"Toolbar\"},{\"attributes\":{\"data\":{\"inertia\":{\"__ndarray__\":\"iJv4jfYpckC9rBgdjXJpQEC5Pcy1NlxA8iwbk7cQRkC2EQOo1JtAQATsFDQmXzdAxjerThUsMUCoTW2N0y8rQHjOUAhpTyZAbO8ptfbqIUCBOpPxi2EdQA==\",\"dtype\":\"float64\",\"order\":\"little\",\"shape\":[11]},\"k\":[1,2,3,4,5,6,7,8,9,10,11]},\"selected\":{\"id\":\"5840\"},\"selection_policy\":{\"id\":\"5867\"}},\"id\":\"5839\",\"type\":\"ColumnDataSource\"},{\"attributes\":{\"ticks\":[1,2,3,4,5,6,7,8,9,10,11]},\"id\":\"5848\",\"type\":\"FixedTicker\"},{\"attributes\":{\"line_color\":\"#30a2da\",\"line_width\":2,\"tags\":[\"apply_ranges\"],\"x\":{\"field\":\"k\"},\"y\":{\"field\":\"inertia\"}},\"id\":\"5842\",\"type\":\"Line\"},{\"attributes\":{},\"id\":\"5816\",\"type\":\"LinearScale\"},{\"attributes\":{},\"id\":\"5840\",\"type\":\"Selection\"}],\"root_ids\":[\"5803\"]},\"title\":\"Bokeh Application\",\"version\":\"2.4.3\"}};\n",
       "    var render_items = [{\"docid\":\"9210be31-3637-45ee-a2e0-a50267fbe8c0\",\"root_ids\":[\"5803\"],\"roots\":{\"5803\":\"401398bb-2bd5-4734-b08b-c1bc8d530a63\"}}];\n",
       "    root.Bokeh.embed.embed_items_notebook(docs_json, render_items);\n",
       "    for (const render_item of render_items) {\n",
       "      for (const root_id of render_item.root_ids) {\n",
       "\tconst id_el = document.getElementById(root_id)\n",
       "\tif (id_el.children.length && (id_el.children[0].className === 'bk-root')) {\n",
       "\t  const root_el = id_el.children[0]\n",
       "\t  root_el.id = root_el.id + '-rendered'\n",
       "\t}\n",
       "      }\n",
       "    }\n",
       "  }\n",
       "  if (root.Bokeh !== undefined && root.Bokeh.Panel !== undefined) {\n",
       "    embed_document(root);\n",
       "  } else {\n",
       "    var attempts = 0;\n",
       "    var timer = setInterval(function(root) {\n",
       "      if (root.Bokeh !== undefined && root.Bokeh.Panel !== undefined) {\n",
       "        clearInterval(timer);\n",
       "        embed_document(root);\n",
       "      } else if (document.readyState == \"complete\") {\n",
       "        attempts++;\n",
       "        if (attempts > 200) {\n",
       "          clearInterval(timer);\n",
       "          console.log(\"Bokeh: ERROR: Unable to run BokehJS code because BokehJS library is missing\");\n",
       "        }\n",
       "      }\n",
       "    }, 25, root)\n",
       "  }\n",
       "})(window);</script>"
      ],
      "text/plain": [
       ":Curve   [k]   (inertia)"
      ]
     },
     "execution_count": 140,
     "metadata": {
      "application/vnd.holoviews_exec.v0+json": {
       "id": "5803"
      }
     },
     "output_type": "execute_result"
    }
   ],
   "source": [
    "# Plot a line chart with all the inertia values computed with \n",
    "# the different values of k to visually identify the optimal value for k.\n",
    "print('Plotting Elbow Curve 2',datetime.now())\n",
    "elbow_DF_2.hvplot.line(x=\"k\", title=\"Elbow Curve\", xticks=k,width=1200,height=600)\n"
   ]
  },
  {
   "attachments": {},
   "cell_type": "markdown",
   "metadata": {},
   "source": [
    "#### Answer the following questions: \n",
    "\n",
    "* **Question:** What is the best value for `k` when using the PCA data?\n",
    "\n",
    "  * **Answer:** The best k-value is  `k=4` when using PCA data\n",
    "\n",
    "\n",
    "* **Question:** Does it differ from the best k value found using the original data?\n",
    "\n",
    "  * **Answer:** No, it is the same `k` value as found using the original data"
   ]
  },
  {
   "attachments": {},
   "cell_type": "markdown",
   "metadata": {},
   "source": [
    "### Cluster Cryptocurrencies with K-means Using the PCA Data"
   ]
  },
  {
   "cell_type": "code",
   "execution_count": 141,
   "metadata": {},
   "outputs": [
    {
     "name": "stdout",
     "output_type": "stream",
     "text": [
      "Initializing K-Means Model 2 2023-08-27 17:33:20.441508\n",
      "K-Means Model 2 Initialized  2023-08-27 17:33:20.441583\n"
     ]
    }
   ],
   "source": [
    "# Initialize the K-Means model using the best value for k\n",
    "print('Initializing K-Means Model 2',datetime.now())    \n",
    "model = KMeans(n_clusters=4, random_state=1)\n",
    "print('K-Means Model 2 Initialized ',datetime.now())"
   ]
  },
  {
   "cell_type": "code",
   "execution_count": 142,
   "metadata": {},
   "outputs": [
    {
     "name": "stdout",
     "output_type": "stream",
     "text": [
      "Fitting K-Means Model 2 2023-08-27 17:33:22.240866\n",
      "K-Means Model 2 Fitted  2023-08-27 17:33:22.250480\n"
     ]
    }
   ],
   "source": [
    "# Fit the K-Means model using the PCA data\n",
    "print('Fitting K-Means Model 2',datetime.now())\n",
    "model.fit(cluster_PCA_df)\n",
    "print('K-Means Model 2 Fitted ',datetime.now())"
   ]
  },
  {
   "cell_type": "code",
   "execution_count": 143,
   "metadata": {},
   "outputs": [
    {
     "data": {
      "text/plain": [
       "array([1, 1, 0, 0, 1, 1, 1, 1, 1, 0, 0, 0, 0, 1, 0, 1, 0, 0, 1, 0, 0, 1,\n",
       "       0, 0, 0, 0, 0, 0, 1, 0, 0, 0, 3, 1, 0, 0, 2, 0, 0, 0, 0],\n",
       "      dtype=int32)"
      ]
     },
     "execution_count": 143,
     "metadata": {},
     "output_type": "execute_result"
    }
   ],
   "source": [
    "# Predict the clusters to group the cryptocurrencies using the PCA data\n",
    "k4 = model.predict(cluster_PCA_df)\n",
    "# Print the resulting array of cluster values.\n",
    "k4"
   ]
  },
  {
   "cell_type": "code",
   "execution_count": 144,
   "metadata": {},
   "outputs": [
    {
     "name": "stdout",
     "output_type": "stream",
     "text": [
      "Creating copy of DataFrame with PCA data 2023-08-27 17:33:28.766337\n",
      "                          PCA1      PCA2      PCA3  predicted_cluster\n",
      "coin_id                                                              \n",
      "bitcoin               0.448908 -1.245376 -0.850640                  1\n",
      "ethereum              0.495367 -0.899823 -1.317559                  1\n",
      "tether               -0.818846  0.071899  0.695015                  0\n",
      "ripple               -0.840357  0.080054  0.544360                  0\n",
      "bitcoin-cash          0.813240 -2.669520 -1.643321                  1\n",
      "binancecoin           0.822871 -1.682096 -0.905203                  1\n",
      "chainlink             0.913868 -1.128684 -2.730038                  1\n",
      "cardano               0.811102 -1.113378 -1.598655                  1\n",
      "litecoin              0.258728 -0.946884 -1.103560                  1\n",
      "bitcoin-cash-sv      -1.003921 -0.119410  0.278564                  0\n",
      "crypto-com-chain     -1.363289  1.245349  0.950712                  0\n",
      "usd-coin             -0.830643  0.077047  0.707661                  0\n",
      "eos                  -1.135458  0.171401  0.441569                  0\n",
      "monero                2.084978 -2.688979 -0.776469                  1\n",
      "tron                 -0.633198 -0.016911  0.249426                  0\n",
      "tezos                -0.161908 -0.310904 -1.818521                  1\n",
      "okb                  -0.996987  1.292574  0.793701                  0\n",
      "stellar              -0.990512  0.449877  0.052002                  0\n",
      "cosmos                0.878129 -1.093136 -1.774115                  1\n",
      "cdai                 -0.874815  0.008933  0.694993                  0\n",
      "neo                  -1.135199  0.792113  0.499484                  0\n",
      "wrapped-bitcoin       0.434801 -1.232506 -0.839794                  1\n",
      "leo-token            -1.110348  0.540593  0.854934                  0\n",
      "huobi-token          -0.758629  0.094085  0.466658                  0\n",
      "nem                   0.222636  0.083977  1.584956                  0\n",
      "binance-usd          -0.826142  0.049070  0.700753                  0\n",
      "iota                 -1.059844  0.097044 -0.149781                  0\n",
      "vechain              -1.808829  1.520236  0.527335                  0\n",
      "zcash                 0.558082 -0.920479 -1.377145                  1\n",
      "theta-token           1.452903  1.756424  2.506866                  0\n",
      "dash                 -0.897830  0.134758 -0.197015                  0\n",
      "ethereum-classic     -0.908899  0.095612  0.194364                  0\n",
      "ethlend               6.049082  7.033268 -2.235723                  3\n",
      "maker                 0.307206 -0.565760 -0.968488                  1\n",
      "havven               -0.507111  2.407910 -0.392697                  0\n",
      "omisego              -0.236488 -0.071399  1.445063                  0\n",
      "celsius-degree-token  6.454065 -2.823519  4.810646                  2\n",
      "ontology             -1.823588  1.561754  0.000663                  0\n",
      "ftx-token            -0.689158 -0.253900  0.073233                  0\n",
      "true-usd             -0.823298  0.031016  0.694746                  0\n",
      "digibyte             -0.770668  0.187671  0.911020                  0\n",
      "Copy of DataFrame with PCA data Created  2023-08-27 17:33:28.768529\n"
     ]
    }
   ],
   "source": [
    "# Create a copy of the DataFrame with the PCA data\n",
    "print('Creating copy of DataFrame with PCA data',datetime.now())    \n",
    "copy_Cluster_PCA_df= cluster_PCA_df.copy()\n",
    "\n",
    "# Add a new column to the DataFrame with the predicted clusters\n",
    "copy_Cluster_PCA_df['predicted_cluster'] = k4\n",
    "\n",
    "# Display sample data\n",
    "print(copy_Cluster_PCA_df)\n",
    "print('Copy of DataFrame with PCA data Created ',datetime.now())"
   ]
  },
  {
   "cell_type": "code",
   "execution_count": 145,
   "metadata": {},
   "outputs": [
    {
     "name": "stdout",
     "output_type": "stream",
     "text": [
      "Plotting Predicted Clusters 2 2023-08-27 17:33:32.682675\n"
     ]
    },
    {
     "data": {},
     "metadata": {},
     "output_type": "display_data"
    },
    {
     "data": {
      "application/vnd.holoviews_exec.v0+json": "",
      "text/html": [
       "<div id='5916'>\n",
       "  <div class=\"bk-root\" id=\"6c5f5cba-7056-4fbf-a9f5-534d0caa0de8\" data-root-id=\"5916\"></div>\n",
       "</div>\n",
       "<script type=\"application/javascript\">(function(root) {\n",
       "  function embed_document(root) {\n",
       "    var docs_json = {\"e32f5a5b-0833-4bf6-89f5-da1ff1ea1627\":{\"defs\":[{\"extends\":null,\"module\":null,\"name\":\"ReactiveHTML1\",\"overrides\":[],\"properties\":[]},{\"extends\":null,\"module\":null,\"name\":\"FlexBox1\",\"overrides\":[],\"properties\":[{\"default\":\"flex-start\",\"kind\":null,\"name\":\"align_content\"},{\"default\":\"flex-start\",\"kind\":null,\"name\":\"align_items\"},{\"default\":\"row\",\"kind\":null,\"name\":\"flex_direction\"},{\"default\":\"wrap\",\"kind\":null,\"name\":\"flex_wrap\"},{\"default\":\"flex-start\",\"kind\":null,\"name\":\"justify_content\"}]},{\"extends\":null,\"module\":null,\"name\":\"GridStack1\",\"overrides\":[],\"properties\":[{\"default\":\"warn\",\"kind\":null,\"name\":\"mode\"},{\"default\":null,\"kind\":null,\"name\":\"ncols\"},{\"default\":null,\"kind\":null,\"name\":\"nrows\"},{\"default\":true,\"kind\":null,\"name\":\"allow_resize\"},{\"default\":true,\"kind\":null,\"name\":\"allow_drag\"},{\"default\":[],\"kind\":null,\"name\":\"state\"}]},{\"extends\":null,\"module\":null,\"name\":\"click1\",\"overrides\":[],\"properties\":[{\"default\":\"\",\"kind\":null,\"name\":\"terminal_output\"},{\"default\":\"\",\"kind\":null,\"name\":\"debug_name\"},{\"default\":0,\"kind\":null,\"name\":\"clears\"}]},{\"extends\":null,\"module\":null,\"name\":\"NotificationAreaBase1\",\"overrides\":[],\"properties\":[{\"default\":\"bottom-right\",\"kind\":null,\"name\":\"position\"},{\"default\":0,\"kind\":null,\"name\":\"_clear\"}]},{\"extends\":null,\"module\":null,\"name\":\"NotificationArea1\",\"overrides\":[],\"properties\":[{\"default\":[],\"kind\":null,\"name\":\"notifications\"},{\"default\":\"bottom-right\",\"kind\":null,\"name\":\"position\"},{\"default\":0,\"kind\":null,\"name\":\"_clear\"},{\"default\":[{\"background\":\"#ffc107\",\"icon\":{\"className\":\"fas fa-exclamation-triangle\",\"color\":\"white\",\"tagName\":\"i\"},\"type\":\"warning\"},{\"background\":\"#007bff\",\"icon\":{\"className\":\"fas fa-info-circle\",\"color\":\"white\",\"tagName\":\"i\"},\"type\":\"info\"}],\"kind\":null,\"name\":\"types\"}]},{\"extends\":null,\"module\":null,\"name\":\"Notification\",\"overrides\":[],\"properties\":[{\"default\":null,\"kind\":null,\"name\":\"background\"},{\"default\":3000,\"kind\":null,\"name\":\"duration\"},{\"default\":null,\"kind\":null,\"name\":\"icon\"},{\"default\":\"\",\"kind\":null,\"name\":\"message\"},{\"default\":null,\"kind\":null,\"name\":\"notification_type\"},{\"default\":false,\"kind\":null,\"name\":\"_destroyed\"}]},{\"extends\":null,\"module\":null,\"name\":\"TemplateActions1\",\"overrides\":[],\"properties\":[{\"default\":0,\"kind\":null,\"name\":\"open_modal\"},{\"default\":0,\"kind\":null,\"name\":\"close_modal\"}]},{\"extends\":null,\"module\":null,\"name\":\"MaterialTemplateActions1\",\"overrides\":[],\"properties\":[{\"default\":0,\"kind\":null,\"name\":\"open_modal\"},{\"default\":0,\"kind\":null,\"name\":\"close_modal\"}]}],\"roots\":{\"references\":[{\"attributes\":{},\"id\":\"5976\",\"type\":\"UnionRenderers\"},{\"attributes\":{},\"id\":\"6049\",\"type\":\"UnionRenderers\"},{\"attributes\":{\"label\":{\"value\":\"0\"},\"renderers\":[{\"id\":\"5967\"}]},\"id\":\"5980\",\"type\":\"LegendItem\"},{\"attributes\":{\"fill_alpha\":{\"value\":0.1},\"fill_color\":{\"value\":\"#e5ae38\"},\"hatch_alpha\":{\"value\":0.1},\"hatch_color\":{\"value\":\"#e5ae38\"},\"line_alpha\":{\"value\":0.1},\"line_color\":{\"value\":\"#e5ae38\"},\"size\":{\"value\":5.477225575051661},\"tags\":[\"apply_ranges\"],\"x\":{\"field\":\"PCA1\"},\"y\":{\"field\":\"PCA2\"}},\"id\":\"6008\",\"type\":\"Scatter\"},{\"attributes\":{\"angle\":{\"value\":0.0},\"fill_alpha\":{\"value\":1.0},\"fill_color\":{\"value\":\"#30a2da\"},\"hatch_alpha\":{\"value\":1.0},\"hatch_color\":{\"value\":\"#30a2da\"},\"hatch_scale\":{\"value\":12.0},\"hatch_weight\":{\"value\":1.0},\"line_alpha\":{\"value\":1.0},\"line_cap\":{\"value\":\"butt\"},\"line_color\":{\"value\":\"#30a2da\"},\"line_dash\":{\"value\":[]},\"line_dash_offset\":{\"value\":0},\"line_join\":{\"value\":\"bevel\"},\"line_width\":{\"value\":1},\"marker\":{\"value\":\"circle\"},\"size\":{\"value\":5.477225575051661},\"tags\":[\"apply_ranges\"],\"x\":{\"field\":\"PCA1\"},\"y\":{\"field\":\"PCA2\"}},\"id\":\"5981\",\"type\":\"Scatter\"},{\"attributes\":{\"fill_alpha\":{\"value\":0.2},\"fill_color\":{\"value\":\"#e5ae38\"},\"hatch_alpha\":{\"value\":0.2},\"hatch_color\":{\"value\":\"#e5ae38\"},\"line_alpha\":{\"value\":0.2},\"line_color\":{\"value\":\"#e5ae38\"},\"size\":{\"value\":5.477225575051661},\"tags\":[\"apply_ranges\"],\"x\":{\"field\":\"PCA1\"},\"y\":{\"field\":\"PCA2\"}},\"id\":\"6009\",\"type\":\"Scatter\"},{\"attributes\":{},\"id\":\"5932\",\"type\":\"LinearScale\"},{\"attributes\":{\"fill_color\":{\"value\":\"#e5ae38\"},\"hatch_color\":{\"value\":\"#e5ae38\"},\"line_color\":{\"value\":\"#e5ae38\"},\"size\":{\"value\":5.477225575051661},\"tags\":[\"apply_ranges\"],\"x\":{\"field\":\"PCA1\"},\"y\":{\"field\":\"PCA2\"}},\"id\":\"6007\",\"type\":\"Scatter\"},{\"attributes\":{\"coordinates\":null,\"data_source\":{\"id\":\"6004\"},\"glyph\":{\"id\":\"6007\"},\"group\":null,\"hover_glyph\":null,\"muted_glyph\":{\"id\":\"6009\"},\"name\":\"2\",\"nonselection_glyph\":{\"id\":\"6008\"},\"selection_glyph\":{\"id\":\"6027\"},\"view\":{\"id\":\"6011\"}},\"id\":\"6010\",\"type\":\"GlyphRenderer\"},{\"attributes\":{},\"id\":\"5957\",\"type\":\"AllLabels\"},{\"attributes\":{\"axis_label\":\"PCA1\",\"coordinates\":null,\"formatter\":{\"id\":\"5956\"},\"group\":null,\"major_label_policy\":{\"id\":\"5957\"},\"ticker\":{\"id\":\"5935\"}},\"id\":\"5934\",\"type\":\"LinearAxis\"},{\"attributes\":{\"fill_alpha\":{\"value\":0.2},\"fill_color\":{\"value\":\"#fc4f30\"},\"hatch_alpha\":{\"value\":0.2},\"hatch_color\":{\"value\":\"#fc4f30\"},\"line_alpha\":{\"value\":0.2},\"line_color\":{\"value\":\"#fc4f30\"},\"size\":{\"value\":5.477225575051661},\"tags\":[\"apply_ranges\"],\"x\":{\"field\":\"PCA1\"},\"y\":{\"field\":\"PCA2\"}},\"id\":\"5987\",\"type\":\"Scatter\"},{\"attributes\":{\"coordinates\":null,\"group\":null,\"text_color\":\"black\",\"text_font_size\":\"12pt\"},\"id\":\"5926\",\"type\":\"Title\"},{\"attributes\":{\"below\":[{\"id\":\"5934\"}],\"center\":[{\"id\":\"5937\"},{\"id\":\"5941\"},{\"id\":\"5979\"}],\"left\":[{\"id\":\"5938\"}],\"margin\":[5,5,5,5],\"min_border_bottom\":10,\"min_border_left\":10,\"min_border_right\":10,\"min_border_top\":10,\"output_backend\":\"webgl\",\"renderers\":[{\"id\":\"5967\"},{\"id\":\"5988\"},{\"id\":\"6010\"},{\"id\":\"6034\"}],\"sizing_mode\":\"fixed\",\"title\":{\"id\":\"5926\"},\"toolbar\":{\"id\":\"5948\"},\"width\":1200,\"x_range\":{\"id\":\"5917\"},\"x_scale\":{\"id\":\"5932\"},\"y_range\":{\"id\":\"5918\"},\"y_scale\":{\"id\":\"5933\"}},\"id\":\"5925\",\"subtype\":\"Figure\",\"type\":\"Plot\"},{\"attributes\":{},\"id\":\"6005\",\"type\":\"Selection\"},{\"attributes\":{},\"id\":\"5933\",\"type\":\"LinearScale\"},{\"attributes\":{\"fill_color\":{\"value\":\"#fc4f30\"},\"hatch_color\":{\"value\":\"#fc4f30\"},\"line_color\":{\"value\":\"#fc4f30\"},\"size\":{\"value\":5.477225575051661},\"tags\":[\"apply_ranges\"],\"x\":{\"field\":\"PCA1\"},\"y\":{\"field\":\"PCA2\"}},\"id\":\"5985\",\"type\":\"Scatter\"},{\"attributes\":{\"source\":{\"id\":\"6004\"}},\"id\":\"6011\",\"type\":\"CDSView\"},{\"attributes\":{},\"id\":\"5935\",\"type\":\"BasicTicker\"},{\"attributes\":{\"axis\":{\"id\":\"5934\"},\"coordinates\":null,\"grid_line_color\":null,\"group\":null,\"ticker\":null},\"id\":\"5937\",\"type\":\"Grid\"},{\"attributes\":{\"data\":{\"PCA1\":{\"__ndarray__\":\"ja8bYPbQGUA=\",\"dtype\":\"float64\",\"order\":\"little\",\"shape\":[1]},\"PCA2\":{\"__ndarray__\":\"M+5eFJGWBsA=\",\"dtype\":\"float64\",\"order\":\"little\",\"shape\":[1]},\"coin_id\":[\"celsius-degree-token\"],\"predicted_cluster\":[2]},\"selected\":{\"id\":\"6005\"},\"selection_policy\":{\"id\":\"6023\"}},\"id\":\"6004\",\"type\":\"ColumnDataSource\"},{\"attributes\":{\"fill_alpha\":{\"value\":0.2},\"fill_color\":{\"value\":\"#6d904f\"},\"hatch_alpha\":{\"value\":0.2},\"hatch_color\":{\"value\":\"#6d904f\"},\"line_alpha\":{\"value\":0.2},\"line_color\":{\"value\":\"#6d904f\"},\"size\":{\"value\":5.477225575051661},\"tags\":[\"apply_ranges\"],\"x\":{\"field\":\"PCA1\"},\"y\":{\"field\":\"PCA2\"}},\"id\":\"6033\",\"type\":\"Scatter\"},{\"attributes\":{\"axis_label\":\"PCA2\",\"coordinates\":null,\"formatter\":{\"id\":\"5959\"},\"group\":null,\"major_label_policy\":{\"id\":\"5960\"},\"ticker\":{\"id\":\"5939\"}},\"id\":\"5938\",\"type\":\"LinearAxis\"},{\"attributes\":{\"fill_alpha\":{\"value\":0.1},\"fill_color\":{\"value\":\"#fc4f30\"},\"hatch_alpha\":{\"value\":0.1},\"hatch_color\":{\"value\":\"#fc4f30\"},\"line_alpha\":{\"value\":0.1},\"line_color\":{\"value\":\"#fc4f30\"},\"size\":{\"value\":5.477225575051661},\"tags\":[\"apply_ranges\"],\"x\":{\"field\":\"PCA1\"},\"y\":{\"field\":\"PCA2\"}},\"id\":\"5986\",\"type\":\"Scatter\"},{\"attributes\":{\"axis\":{\"id\":\"5938\"},\"coordinates\":null,\"dimension\":1,\"grid_line_color\":null,\"group\":null,\"ticker\":null},\"id\":\"5941\",\"type\":\"Grid\"},{\"attributes\":{},\"id\":\"6023\",\"type\":\"UnionRenderers\"},{\"attributes\":{},\"id\":\"5939\",\"type\":\"BasicTicker\"},{\"attributes\":{},\"id\":\"5944\",\"type\":\"WheelZoomTool\"},{\"attributes\":{},\"id\":\"5943\",\"type\":\"PanTool\"},{\"attributes\":{\"coordinates\":null,\"data_source\":{\"id\":\"5982\"},\"glyph\":{\"id\":\"5985\"},\"group\":null,\"hover_glyph\":null,\"muted_glyph\":{\"id\":\"5987\"},\"name\":\"1\",\"nonselection_glyph\":{\"id\":\"5986\"},\"selection_glyph\":{\"id\":\"6003\"},\"view\":{\"id\":\"5989\"}},\"id\":\"5988\",\"type\":\"GlyphRenderer\"},{\"attributes\":{},\"id\":\"5942\",\"type\":\"SaveTool\"},{\"attributes\":{\"overlay\":{\"id\":\"5947\"}},\"id\":\"5945\",\"type\":\"BoxZoomTool\"},{\"attributes\":{\"label\":{\"value\":\"2\"},\"renderers\":[{\"id\":\"6010\"}]},\"id\":\"6026\",\"type\":\"LegendItem\"},{\"attributes\":{},\"id\":\"5946\",\"type\":\"ResetTool\"},{\"attributes\":{\"angle\":{\"value\":0.0},\"fill_alpha\":{\"value\":1.0},\"fill_color\":{\"value\":\"#6d904f\"},\"hatch_alpha\":{\"value\":1.0},\"hatch_color\":{\"value\":\"#6d904f\"},\"hatch_scale\":{\"value\":12.0},\"hatch_weight\":{\"value\":1.0},\"line_alpha\":{\"value\":1.0},\"line_cap\":{\"value\":\"butt\"},\"line_color\":{\"value\":\"#6d904f\"},\"line_dash\":{\"value\":[]},\"line_dash_offset\":{\"value\":0},\"line_join\":{\"value\":\"bevel\"},\"line_width\":{\"value\":1},\"marker\":{\"value\":\"circle\"},\"size\":{\"value\":5.477225575051661},\"tags\":[\"apply_ranges\"],\"x\":{\"field\":\"PCA1\"},\"y\":{\"field\":\"PCA2\"}},\"id\":\"6053\",\"type\":\"Scatter\"},{\"attributes\":{\"data\":{\"PCA1\":{\"__ndarray__\":\"39R0a+i63D+x/VwuGLTfP91P3/sPBuo/4VUYo/RU6j9vwMZRZz7tP+EczaWM9Ok/ZNpVOwCP0D84QkvuCK4AQA0WR6xmucS/PwgLfKEZ7D/TSzgaxtPbP9MfZMTP2+E/atfqoUOp0z8=\",\"dtype\":\"float64\",\"order\":\"little\",\"shape\":[13]},\"PCA2\":{\"__ndarray__\":\"6Uc0Gw/t87++MiiYWcvsv2WRc3wtWwXAyLWzkd3p+r9cMDHgFg/yv+dnimBl0PG/j9ItQ99M7r8I04mNB4MFwBZYI23b5dO/zVWw0nt98b/Nzka4WLjzv/oXJwOQdO2/myxoqrQa4r8=\",\"dtype\":\"float64\",\"order\":\"little\",\"shape\":[13]},\"coin_id\":[\"bitcoin\",\"ethereum\",\"bitcoin-cash\",\"binancecoin\",\"chainlink\",\"cardano\",\"litecoin\",\"monero\",\"tezos\",\"cosmos\",\"wrapped-bitcoin\",\"zcash\",\"maker\"],\"predicted_cluster\":[1,1,1,1,1,1,1,1,1,1,1,1,1]},\"selected\":{\"id\":\"5983\"},\"selection_policy\":{\"id\":\"5999\"}},\"id\":\"5982\",\"type\":\"ColumnDataSource\"},{\"attributes\":{\"bottom_units\":\"screen\",\"coordinates\":null,\"fill_alpha\":0.5,\"fill_color\":\"lightgrey\",\"group\":null,\"left_units\":\"screen\",\"level\":\"overlay\",\"line_alpha\":1.0,\"line_color\":\"black\",\"line_dash\":[4,4],\"line_width\":2,\"right_units\":\"screen\",\"syncable\":false,\"top_units\":\"screen\"},\"id\":\"5947\",\"type\":\"BoxAnnotation\"},{\"attributes\":{\"fill_color\":{\"value\":\"#30a2da\"},\"hatch_color\":{\"value\":\"#30a2da\"},\"line_color\":{\"value\":\"#30a2da\"},\"size\":{\"value\":5.477225575051661},\"tags\":[\"apply_ranges\"],\"x\":{\"field\":\"PCA1\"},\"y\":{\"field\":\"PCA2\"}},\"id\":\"5964\",\"type\":\"Scatter\"},{\"attributes\":{},\"id\":\"5999\",\"type\":\"UnionRenderers\"},{\"attributes\":{\"active_drag\":{\"id\":\"5943\"},\"active_scroll\":{\"id\":\"5944\"},\"tools\":[{\"id\":\"5921\"},{\"id\":\"5942\"},{\"id\":\"5943\"},{\"id\":\"5944\"},{\"id\":\"5945\"},{\"id\":\"5946\"}]},\"id\":\"5948\",\"type\":\"Toolbar\"},{\"attributes\":{\"fill_alpha\":{\"value\":0.1},\"fill_color\":{\"value\":\"#30a2da\"},\"hatch_alpha\":{\"value\":0.1},\"hatch_color\":{\"value\":\"#30a2da\"},\"line_alpha\":{\"value\":0.1},\"line_color\":{\"value\":\"#30a2da\"},\"size\":{\"value\":5.477225575051661},\"tags\":[\"apply_ranges\"],\"x\":{\"field\":\"PCA1\"},\"y\":{\"field\":\"PCA2\"}},\"id\":\"5965\",\"type\":\"Scatter\"},{\"attributes\":{\"label\":{\"value\":\"1\"},\"renderers\":[{\"id\":\"5988\"}]},\"id\":\"6002\",\"type\":\"LegendItem\"},{\"attributes\":{},\"id\":\"5956\",\"type\":\"BasicTickFormatter\"},{\"attributes\":{\"children\":[{\"id\":\"5925\"}],\"height\":600,\"margin\":[0,0,0,0],\"name\":\"Row06165\",\"sizing_mode\":\"fixed\",\"tags\":[\"embedded\"],\"width\":1200},\"id\":\"5916\",\"type\":\"Row\"},{\"attributes\":{},\"id\":\"5959\",\"type\":\"BasicTickFormatter\"},{\"attributes\":{},\"id\":\"5960\",\"type\":\"AllLabels\"},{\"attributes\":{\"angle\":{\"value\":0.0},\"fill_alpha\":{\"value\":1.0},\"fill_color\":{\"value\":\"#e5ae38\"},\"hatch_alpha\":{\"value\":1.0},\"hatch_color\":{\"value\":\"#e5ae38\"},\"hatch_scale\":{\"value\":12.0},\"hatch_weight\":{\"value\":1.0},\"line_alpha\":{\"value\":1.0},\"line_cap\":{\"value\":\"butt\"},\"line_color\":{\"value\":\"#e5ae38\"},\"line_dash\":{\"value\":[]},\"line_dash_offset\":{\"value\":0},\"line_join\":{\"value\":\"bevel\"},\"line_width\":{\"value\":1},\"marker\":{\"value\":\"circle\"},\"size\":{\"value\":5.477225575051661},\"tags\":[\"apply_ranges\"],\"x\":{\"field\":\"PCA1\"},\"y\":{\"field\":\"PCA2\"}},\"id\":\"6027\",\"type\":\"Scatter\"},{\"attributes\":{\"fill_alpha\":{\"value\":0.2},\"fill_color\":{\"value\":\"#30a2da\"},\"hatch_alpha\":{\"value\":0.2},\"hatch_color\":{\"value\":\"#30a2da\"},\"line_alpha\":{\"value\":0.2},\"line_color\":{\"value\":\"#30a2da\"},\"size\":{\"value\":5.477225575051661},\"tags\":[\"apply_ranges\"],\"x\":{\"field\":\"PCA1\"},\"y\":{\"field\":\"PCA2\"}},\"id\":\"5966\",\"type\":\"Scatter\"},{\"attributes\":{\"click_policy\":\"mute\",\"coordinates\":null,\"group\":null,\"items\":[{\"id\":\"5980\"},{\"id\":\"6002\"},{\"id\":\"6026\"},{\"id\":\"6052\"}],\"title\":\"predicted_cluster\"},\"id\":\"5979\",\"type\":\"Legend\"},{\"attributes\":{},\"id\":\"5962\",\"type\":\"Selection\"},{\"attributes\":{\"source\":{\"id\":\"5961\"}},\"id\":\"5968\",\"type\":\"CDSView\"},{\"attributes\":{\"coordinates\":null,\"data_source\":{\"id\":\"5961\"},\"glyph\":{\"id\":\"5964\"},\"group\":null,\"hover_glyph\":null,\"muted_glyph\":{\"id\":\"5966\"},\"name\":\"0\",\"nonselection_glyph\":{\"id\":\"5965\"},\"selection_glyph\":{\"id\":\"5981\"},\"view\":{\"id\":\"5968\"}},\"id\":\"5967\",\"type\":\"GlyphRenderer\"},{\"attributes\":{\"data\":{\"PCA1\":{\"__ndarray__\":\"6MP86/sz6r/GLeyVNOTqvzvV6kYPEPC/e681oQfQ9b9GZc5OoZTqvzCz+8fVKvK/rkSAmihD5L+aaByKUOfvvxDTiA9Hsu+/nIZ8knv+679ToqRfxinyvxJkW8X8w/G/cko7uq9G6L+AtNZXUn/MP7YlPqzAb+q/1aHCqR718L9HHtRW9vD8v+kCymMXP/c/Y2EdDAa77L9wIdoJtBXtvzVr9qNBOuC/vF+BtD9Fzr/v8NgCay39v98OffaVDea/yQkP53RY6r/zz1vzT6novw==\",\"dtype\":\"float64\",\"order\":\"little\",\"shape\":[26]},\"PCA2\":{\"__ndarray__\":\"YW0pk/pnsj/3IhtibH60P/iq18Gqkb6/fVJB1PLs8z/dyhfYXLmzPyz1bqN08MU/h7e91DVRkb/soOcIYq70P1OpLQHKytw/nnzJmrVLgj8VXUD2/FjpP8IGiCaKTOE/8wKzyPEVuD8Bgt/0gn+1P5AcvMOkH6k/mSRtdNrXuD+/vJJ441L4P1VCXQJQGvw/hAmzBcM/wT9+7x7yCnq4PyX5mSFmQwNArcBR+zBHsr/bJlJd8fz4P9AqhkbnP9C/Ou2u5bPCnz8Ojd6qlwXIPw==\",\"dtype\":\"float64\",\"order\":\"little\",\"shape\":[26]},\"coin_id\":[\"tether\",\"ripple\",\"bitcoin-cash-sv\",\"crypto-com-chain\",\"usd-coin\",\"eos\",\"tron\",\"okb\",\"stellar\",\"cdai\",\"neo\",\"leo-token\",\"huobi-token\",\"nem\",\"binance-usd\",\"iota\",\"vechain\",\"theta-token\",\"dash\",\"ethereum-classic\",\"havven\",\"omisego\",\"ontology\",\"ftx-token\",\"true-usd\",\"digibyte\"],\"predicted_cluster\":[0,0,0,0,0,0,0,0,0,0,0,0,0,0,0,0,0,0,0,0,0,0,0,0,0,0]},\"selected\":{\"id\":\"5962\"},\"selection_policy\":{\"id\":\"5976\"}},\"id\":\"5961\",\"type\":\"ColumnDataSource\"},{\"attributes\":{},\"id\":\"5983\",\"type\":\"Selection\"},{\"attributes\":{\"source\":{\"id\":\"5982\"}},\"id\":\"5989\",\"type\":\"CDSView\"},{\"attributes\":{\"fill_alpha\":{\"value\":0.1},\"fill_color\":{\"value\":\"#6d904f\"},\"hatch_alpha\":{\"value\":0.1},\"hatch_color\":{\"value\":\"#6d904f\"},\"line_alpha\":{\"value\":0.1},\"line_color\":{\"value\":\"#6d904f\"},\"size\":{\"value\":5.477225575051661},\"tags\":[\"apply_ranges\"],\"x\":{\"field\":\"PCA1\"},\"y\":{\"field\":\"PCA2\"}},\"id\":\"6032\",\"type\":\"Scatter\"},{\"attributes\":{\"angle\":{\"value\":0.0},\"fill_alpha\":{\"value\":1.0},\"fill_color\":{\"value\":\"#fc4f30\"},\"hatch_alpha\":{\"value\":1.0},\"hatch_color\":{\"value\":\"#fc4f30\"},\"hatch_scale\":{\"value\":12.0},\"hatch_weight\":{\"value\":1.0},\"line_alpha\":{\"value\":1.0},\"line_cap\":{\"value\":\"butt\"},\"line_color\":{\"value\":\"#fc4f30\"},\"line_dash\":{\"value\":[]},\"line_dash_offset\":{\"value\":0},\"line_join\":{\"value\":\"bevel\"},\"line_width\":{\"value\":1},\"marker\":{\"value\":\"circle\"},\"size\":{\"value\":5.477225575051661},\"tags\":[\"apply_ranges\"],\"x\":{\"field\":\"PCA1\"},\"y\":{\"field\":\"PCA2\"}},\"id\":\"6003\",\"type\":\"Scatter\"},{\"attributes\":{\"data\":{\"PCA1\":{\"__ndarray__\":\"r8pXk0IyGEA=\",\"dtype\":\"float64\",\"order\":\"little\",\"shape\":[1]},\"PCA2\":{\"__ndarray__\":\"uVYBIhEiHEA=\",\"dtype\":\"float64\",\"order\":\"little\",\"shape\":[1]},\"coin_id\":[\"ethlend\"],\"predicted_cluster\":[3]},\"selected\":{\"id\":\"6029\"},\"selection_policy\":{\"id\":\"6049\"}},\"id\":\"6028\",\"type\":\"ColumnDataSource\"},{\"attributes\":{\"end\":6.867947509127075,\"reset_end\":6.867947509127075,\"reset_start\":-2.2374710433610794,\"start\":-2.2374710433610794,\"tags\":[[[\"PCA1\",\"PCA1\",null]],[]]},\"id\":\"5917\",\"type\":\"Range1d\"},{\"attributes\":{\"fill_color\":{\"value\":\"#6d904f\"},\"hatch_color\":{\"value\":\"#6d904f\"},\"line_color\":{\"value\":\"#6d904f\"},\"size\":{\"value\":5.477225575051661},\"tags\":[\"apply_ranges\"],\"x\":{\"field\":\"PCA1\"},\"y\":{\"field\":\"PCA2\"}},\"id\":\"6031\",\"type\":\"Scatter\"},{\"attributes\":{\"label\":{\"value\":\"3\"},\"renderers\":[{\"id\":\"6034\"}]},\"id\":\"6052\",\"type\":\"LegendItem\"},{\"attributes\":{\"source\":{\"id\":\"6028\"}},\"id\":\"6035\",\"type\":\"CDSView\"},{\"attributes\":{\"end\":8.018947220210636,\"reset_end\":8.018947220210636,\"reset_start\":-3.8091976434659234,\"start\":-3.8091976434659234,\"tags\":[[[\"PCA2\",\"PCA2\",null]],{\"autorange\":false,\"invert_yaxis\":false}]},\"id\":\"5918\",\"type\":\"Range1d\"},{\"attributes\":{\"callback\":null,\"renderers\":[{\"id\":\"5967\"},{\"id\":\"5988\"},{\"id\":\"6010\"},{\"id\":\"6034\"}],\"tags\":[\"hv_created\"],\"tooltips\":[[\"predicted_cluster\",\"@{predicted_cluster}\"],[\"PCA1\",\"@{PCA1}\"],[\"PCA2\",\"@{PCA2}\"],[\"coin_id\",\"@{coin_id}\"]]},\"id\":\"5921\",\"type\":\"HoverTool\"},{\"attributes\":{},\"id\":\"6029\",\"type\":\"Selection\"},{\"attributes\":{\"coordinates\":null,\"data_source\":{\"id\":\"6028\"},\"glyph\":{\"id\":\"6031\"},\"group\":null,\"hover_glyph\":null,\"muted_glyph\":{\"id\":\"6033\"},\"name\":\"3\",\"nonselection_glyph\":{\"id\":\"6032\"},\"selection_glyph\":{\"id\":\"6053\"},\"view\":{\"id\":\"6035\"}},\"id\":\"6034\",\"type\":\"GlyphRenderer\"}],\"root_ids\":[\"5916\"]},\"title\":\"Bokeh Application\",\"version\":\"2.4.3\"}};\n",
       "    var render_items = [{\"docid\":\"e32f5a5b-0833-4bf6-89f5-da1ff1ea1627\",\"root_ids\":[\"5916\"],\"roots\":{\"5916\":\"6c5f5cba-7056-4fbf-a9f5-534d0caa0de8\"}}];\n",
       "    root.Bokeh.embed.embed_items_notebook(docs_json, render_items);\n",
       "    for (const render_item of render_items) {\n",
       "      for (const root_id of render_item.root_ids) {\n",
       "\tconst id_el = document.getElementById(root_id)\n",
       "\tif (id_el.children.length && (id_el.children[0].className === 'bk-root')) {\n",
       "\t  const root_el = id_el.children[0]\n",
       "\t  root_el.id = root_el.id + '-rendered'\n",
       "\t}\n",
       "      }\n",
       "    }\n",
       "  }\n",
       "  if (root.Bokeh !== undefined && root.Bokeh.Panel !== undefined) {\n",
       "    embed_document(root);\n",
       "  } else {\n",
       "    var attempts = 0;\n",
       "    var timer = setInterval(function(root) {\n",
       "      if (root.Bokeh !== undefined && root.Bokeh.Panel !== undefined) {\n",
       "        clearInterval(timer);\n",
       "        embed_document(root);\n",
       "      } else if (document.readyState == \"complete\") {\n",
       "        attempts++;\n",
       "        if (attempts > 200) {\n",
       "          clearInterval(timer);\n",
       "          console.log(\"Bokeh: ERROR: Unable to run BokehJS code because BokehJS library is missing\");\n",
       "        }\n",
       "      }\n",
       "    }, 25, root)\n",
       "  }\n",
       "})(window);</script>"
      ],
      "text/plain": [
       ":NdOverlay   [predicted_cluster]\n",
       "   :Scatter   [PCA1]   (PCA2,coin_id)"
      ]
     },
     "execution_count": 145,
     "metadata": {
      "application/vnd.holoviews_exec.v0+json": {
       "id": "5916"
      }
     },
     "output_type": "execute_result"
    }
   ],
   "source": [
    "# Create a scatter plot using hvPlot by setting \n",
    "# `x=\"PCA1\"` and `y=\"PCA2\"`. \n",
    "# Color the graph points with the labels found using K-Means and \n",
    "# add the crypto name in the `hover_cols` parameter to identify \n",
    "# the cryptocurrency represented by each data point.\n",
    "print('Plotting Predicted Clusters 2',datetime.now())   \n",
    "copy_Cluster_PCA_df.hvplot.scatter(x=\"PCA1\",y=\"PCA2\",by ='predicted_cluster',hover_cols='coin_id',legend='top_right',width=1200,height=600)"
   ]
  },
  {
   "attachments": {},
   "cell_type": "markdown",
   "metadata": {},
   "source": [
    "### Visualize and Compare the Results\n",
    "\n",
    "In this section, you will visually analyze the cluster analysis results by contrasting the outcome with and without using the optimization techniques."
   ]
  },
  {
   "cell_type": "code",
   "execution_count": 146,
   "metadata": {},
   "outputs": [
    {
     "data": {},
     "metadata": {},
     "output_type": "display_data"
    },
    {
     "data": {
      "application/vnd.holoviews_exec.v0+json": "",
      "text/html": [
       "<div id='6155'>\n",
       "  <div class=\"bk-root\" id=\"591a78e1-9e5c-4863-9bf1-bc8abf5450a5\" data-root-id=\"6155\"></div>\n",
       "</div>\n",
       "<script type=\"application/javascript\">(function(root) {\n",
       "  function embed_document(root) {\n",
       "    var docs_json = {\"b70c8757-4d32-4681-b043-95f797604232\":{\"defs\":[{\"extends\":null,\"module\":null,\"name\":\"ReactiveHTML1\",\"overrides\":[],\"properties\":[]},{\"extends\":null,\"module\":null,\"name\":\"FlexBox1\",\"overrides\":[],\"properties\":[{\"default\":\"flex-start\",\"kind\":null,\"name\":\"align_content\"},{\"default\":\"flex-start\",\"kind\":null,\"name\":\"align_items\"},{\"default\":\"row\",\"kind\":null,\"name\":\"flex_direction\"},{\"default\":\"wrap\",\"kind\":null,\"name\":\"flex_wrap\"},{\"default\":\"flex-start\",\"kind\":null,\"name\":\"justify_content\"}]},{\"extends\":null,\"module\":null,\"name\":\"GridStack1\",\"overrides\":[],\"properties\":[{\"default\":\"warn\",\"kind\":null,\"name\":\"mode\"},{\"default\":null,\"kind\":null,\"name\":\"ncols\"},{\"default\":null,\"kind\":null,\"name\":\"nrows\"},{\"default\":true,\"kind\":null,\"name\":\"allow_resize\"},{\"default\":true,\"kind\":null,\"name\":\"allow_drag\"},{\"default\":[],\"kind\":null,\"name\":\"state\"}]},{\"extends\":null,\"module\":null,\"name\":\"click1\",\"overrides\":[],\"properties\":[{\"default\":\"\",\"kind\":null,\"name\":\"terminal_output\"},{\"default\":\"\",\"kind\":null,\"name\":\"debug_name\"},{\"default\":0,\"kind\":null,\"name\":\"clears\"}]},{\"extends\":null,\"module\":null,\"name\":\"NotificationAreaBase1\",\"overrides\":[],\"properties\":[{\"default\":\"bottom-right\",\"kind\":null,\"name\":\"position\"},{\"default\":0,\"kind\":null,\"name\":\"_clear\"}]},{\"extends\":null,\"module\":null,\"name\":\"NotificationArea1\",\"overrides\":[],\"properties\":[{\"default\":[],\"kind\":null,\"name\":\"notifications\"},{\"default\":\"bottom-right\",\"kind\":null,\"name\":\"position\"},{\"default\":0,\"kind\":null,\"name\":\"_clear\"},{\"default\":[{\"background\":\"#ffc107\",\"icon\":{\"className\":\"fas fa-exclamation-triangle\",\"color\":\"white\",\"tagName\":\"i\"},\"type\":\"warning\"},{\"background\":\"#007bff\",\"icon\":{\"className\":\"fas fa-info-circle\",\"color\":\"white\",\"tagName\":\"i\"},\"type\":\"info\"}],\"kind\":null,\"name\":\"types\"}]},{\"extends\":null,\"module\":null,\"name\":\"Notification\",\"overrides\":[],\"properties\":[{\"default\":null,\"kind\":null,\"name\":\"background\"},{\"default\":3000,\"kind\":null,\"name\":\"duration\"},{\"default\":null,\"kind\":null,\"name\":\"icon\"},{\"default\":\"\",\"kind\":null,\"name\":\"message\"},{\"default\":null,\"kind\":null,\"name\":\"notification_type\"},{\"default\":false,\"kind\":null,\"name\":\"_destroyed\"}]},{\"extends\":null,\"module\":null,\"name\":\"TemplateActions1\",\"overrides\":[],\"properties\":[{\"default\":0,\"kind\":null,\"name\":\"open_modal\"},{\"default\":0,\"kind\":null,\"name\":\"close_modal\"}]},{\"extends\":null,\"module\":null,\"name\":\"MaterialTemplateActions1\",\"overrides\":[],\"properties\":[{\"default\":0,\"kind\":null,\"name\":\"open_modal\"},{\"default\":0,\"kind\":null,\"name\":\"close_modal\"}]}],\"roots\":{\"references\":[{\"attributes\":{\"axis_label\":\"inertia\",\"coordinates\":null,\"formatter\":{\"id\":\"6207\"},\"group\":null,\"major_label_policy\":{\"id\":\"6208\"},\"ticker\":{\"id\":\"6175\"}},\"id\":\"6174\",\"type\":\"LinearAxis\"},{\"attributes\":{\"axis\":{\"id\":\"6174\"},\"coordinates\":null,\"dimension\":1,\"grid_line_color\":null,\"group\":null,\"ticker\":null},\"id\":\"6177\",\"type\":\"Grid\"},{\"attributes\":{},\"id\":\"6175\",\"type\":\"BasicTicker\"},{\"attributes\":{\"overlay\":{\"id\":\"6238\"}},\"id\":\"6236\",\"type\":\"BoxZoomTool\"},{\"attributes\":{},\"id\":\"6180\",\"type\":\"WheelZoomTool\"},{\"attributes\":{},\"id\":\"6233\",\"type\":\"SaveTool\"},{\"attributes\":{},\"id\":\"6179\",\"type\":\"PanTool\"},{\"attributes\":{},\"id\":\"6178\",\"type\":\"SaveTool\"},{\"attributes\":{},\"id\":\"6223\",\"type\":\"LinearScale\"},{\"attributes\":{},\"id\":\"6234\",\"type\":\"PanTool\"},{\"attributes\":{\"overlay\":{\"id\":\"6183\"}},\"id\":\"6181\",\"type\":\"BoxZoomTool\"},{\"attributes\":{},\"id\":\"6235\",\"type\":\"WheelZoomTool\"},{\"attributes\":{},\"id\":\"6182\",\"type\":\"ResetTool\"},{\"attributes\":{\"axis_label\":\"inertia\",\"coordinates\":null,\"formatter\":{\"id\":\"6262\"},\"group\":null,\"major_label_policy\":{\"id\":\"6263\"},\"ticker\":{\"id\":\"6230\"}},\"id\":\"6229\",\"type\":\"LinearAxis\"},{\"attributes\":{\"axis\":{\"id\":\"6229\"},\"coordinates\":null,\"dimension\":1,\"grid_line_color\":null,\"group\":null,\"ticker\":null},\"id\":\"6232\",\"type\":\"Grid\"},{\"attributes\":{\"bottom_units\":\"screen\",\"coordinates\":null,\"fill_alpha\":0.5,\"fill_color\":\"lightgrey\",\"group\":null,\"left_units\":\"screen\",\"level\":\"overlay\",\"line_alpha\":1.0,\"line_color\":\"black\",\"line_dash\":[4,4],\"line_width\":2,\"right_units\":\"screen\",\"syncable\":false,\"top_units\":\"screen\"},\"id\":\"6183\",\"type\":\"BoxAnnotation\"},{\"attributes\":{},\"id\":\"6230\",\"type\":\"BasicTicker\"},{\"attributes\":{\"line_color\":\"#30a2da\",\"line_width\":2,\"tags\":[\"apply_ranges\"],\"x\":{\"field\":\"k\"},\"y\":{\"field\":\"inertia\"}},\"id\":\"6194\",\"type\":\"Line\"},{\"attributes\":{},\"id\":\"6203\",\"type\":\"AllLabels\"},{\"attributes\":{\"active_drag\":{\"id\":\"6179\"},\"active_scroll\":{\"id\":\"6180\"},\"tools\":[{\"id\":\"6160\"},{\"id\":\"6178\"},{\"id\":\"6179\"},{\"id\":\"6180\"},{\"id\":\"6181\"},{\"id\":\"6182\"}]},\"id\":\"6184\",\"type\":\"Toolbar\"},{\"attributes\":{\"line_alpha\":0.1,\"line_color\":\"#30a2da\",\"line_width\":2,\"tags\":[\"apply_ranges\"],\"x\":{\"field\":\"k\"},\"y\":{\"field\":\"inertia\"}},\"id\":\"6195\",\"type\":\"Line\"},{\"attributes\":{\"active_drag\":{\"id\":\"6234\"},\"active_scroll\":{\"id\":\"6235\"},\"tools\":[{\"id\":\"6215\"},{\"id\":\"6233\"},{\"id\":\"6234\"},{\"id\":\"6235\"},{\"id\":\"6236\"},{\"id\":\"6237\"}]},\"id\":\"6239\",\"type\":\"Toolbar\"},{\"attributes\":{},\"id\":\"6192\",\"type\":\"Selection\"},{\"attributes\":{\"callback\":null,\"renderers\":[{\"id\":\"6252\"}],\"tags\":[\"hv_created\"],\"tooltips\":[[\"k\",\"@{k}\"],[\"inertia\",\"@{inertia}\"]]},\"id\":\"6215\",\"type\":\"HoverTool\"},{\"attributes\":{},\"id\":\"6224\",\"type\":\"LinearScale\"},{\"attributes\":{},\"id\":\"6247\",\"type\":\"Selection\"},{\"attributes\":{},\"id\":\"6286\",\"type\":\"UnionRenderers\"},{\"attributes\":{},\"id\":\"6263\",\"type\":\"AllLabels\"},{\"attributes\":{\"line_alpha\":0.2,\"line_color\":\"#30a2da\",\"line_width\":2,\"tags\":[\"apply_ranges\"],\"x\":{\"field\":\"k\"},\"y\":{\"field\":\"inertia\"}},\"id\":\"6196\",\"type\":\"Line\"},{\"attributes\":{\"coordinates\":null,\"data_source\":{\"id\":\"6191\"},\"glyph\":{\"id\":\"6194\"},\"group\":null,\"hover_glyph\":null,\"muted_glyph\":{\"id\":\"6196\"},\"nonselection_glyph\":{\"id\":\"6195\"},\"selection_glyph\":{\"id\":\"6199\"},\"view\":{\"id\":\"6198\"}},\"id\":\"6197\",\"type\":\"GlyphRenderer\"},{\"attributes\":{},\"id\":\"6202\",\"type\":\"BasicTickFormatter\"},{\"attributes\":{\"line_alpha\":0.2,\"line_color\":\"#30a2da\",\"line_width\":2,\"tags\":[\"apply_ranges\"],\"x\":{\"field\":\"k\"},\"y\":{\"field\":\"inertia\"}},\"id\":\"6251\",\"type\":\"Line\"},{\"attributes\":{\"source\":{\"id\":\"6191\"}},\"id\":\"6198\",\"type\":\"CDSView\"},{\"attributes\":{\"coordinates\":null,\"data_source\":{\"id\":\"6246\"},\"glyph\":{\"id\":\"6249\"},\"group\":null,\"hover_glyph\":null,\"muted_glyph\":{\"id\":\"6251\"},\"nonselection_glyph\":{\"id\":\"6250\"},\"selection_glyph\":{\"id\":\"6254\"},\"view\":{\"id\":\"6253\"}},\"id\":\"6252\",\"type\":\"GlyphRenderer\"},{\"attributes\":{\"line_color\":\"#30a2da\",\"line_width\":2,\"tags\":[\"apply_ranges\"],\"x\":{\"field\":\"k\"},\"y\":{\"field\":\"inertia\"}},\"id\":\"6199\",\"type\":\"Line\"},{\"attributes\":{\"source\":{\"id\":\"6246\"}},\"id\":\"6253\",\"type\":\"CDSView\"},{\"attributes\":{\"line_color\":\"#30a2da\",\"line_width\":2,\"tags\":[\"apply_ranges\"],\"x\":{\"field\":\"k\"},\"y\":{\"field\":\"inertia\"}},\"id\":\"6254\",\"type\":\"Line\"},{\"attributes\":{\"children\":[{\"id\":\"6292\"},{\"id\":\"6290\"}]},\"id\":\"6293\",\"type\":\"Column\"},{\"attributes\":{},\"id\":\"6208\",\"type\":\"AllLabels\"},{\"attributes\":{\"ticks\":[1,2,3,4,5,6,7,8,9,10,11]},\"id\":\"6255\",\"type\":\"FixedTicker\"},{\"attributes\":{\"ticks\":[1,2,3,4,5,6,7,8,9,10,11]},\"id\":\"6200\",\"type\":\"FixedTicker\"},{\"attributes\":{},\"id\":\"6257\",\"type\":\"BasicTickFormatter\"},{\"attributes\":{\"toolbar\":{\"id\":\"6291\"},\"toolbar_location\":\"above\"},\"id\":\"6292\",\"type\":\"ToolbarBox\"},{\"attributes\":{\"end\":318.9504373462433,\"reset_end\":318.9504373462433,\"reset_start\":-20.982482953109834,\"start\":-20.982482953109834,\"tags\":[[[\"inertia\",\"inertia\",null]],{\"autorange\":false,\"invert_yaxis\":false}]},\"id\":\"6157\",\"type\":\"Range1d\"},{\"attributes\":{\"axis\":{\"id\":\"6225\"},\"coordinates\":null,\"grid_line_color\":null,\"group\":null,\"ticker\":null},\"id\":\"6228\",\"type\":\"Grid\"},{\"attributes\":{\"bottom_units\":\"screen\",\"coordinates\":null,\"fill_alpha\":0.5,\"fill_color\":\"lightgrey\",\"group\":null,\"left_units\":\"screen\",\"level\":\"overlay\",\"line_alpha\":1.0,\"line_color\":\"black\",\"line_dash\":[4,4],\"line_width\":2,\"right_units\":\"screen\",\"syncable\":false,\"top_units\":\"screen\"},\"id\":\"6238\",\"type\":\"BoxAnnotation\"},{\"attributes\":{\"children\":[{\"id\":\"6293\"}],\"margin\":[0,0,0,0],\"name\":\"Row06423\",\"tags\":[\"embedded\"]},\"id\":\"6155\",\"type\":\"Row\"},{\"attributes\":{\"axis_label\":\"k\",\"coordinates\":null,\"formatter\":{\"id\":\"6257\"},\"group\":null,\"major_label_policy\":{\"id\":\"6258\"},\"ticker\":{\"id\":\"6255\"}},\"id\":\"6225\",\"type\":\"LinearAxis\"},{\"attributes\":{\"toolbars\":[{\"id\":\"6184\"},{\"id\":\"6239\"}],\"tools\":[{\"id\":\"6160\"},{\"id\":\"6178\"},{\"id\":\"6179\"},{\"id\":\"6180\"},{\"id\":\"6181\"},{\"id\":\"6182\"},{\"id\":\"6215\"},{\"id\":\"6233\"},{\"id\":\"6234\"},{\"id\":\"6235\"},{\"id\":\"6236\"},{\"id\":\"6237\"}]},\"id\":\"6291\",\"type\":\"ProxyToolbar\"},{\"attributes\":{\"children\":[[{\"id\":\"6161\"},0,0],[{\"id\":\"6216\"},0,1]]},\"id\":\"6290\",\"type\":\"GridBox\"},{\"attributes\":{},\"id\":\"6262\",\"type\":\"BasicTickFormatter\"},{\"attributes\":{\"end\":11.0,\"reset_end\":11.0,\"reset_start\":1.0,\"start\":1.0,\"tags\":[[[\"k\",\"k\",null]],[]]},\"id\":\"6156\",\"type\":\"Range1d\"},{\"attributes\":{\"line_color\":\"#30a2da\",\"line_width\":2,\"tags\":[\"apply_ranges\"],\"x\":{\"field\":\"k\"},\"y\":{\"field\":\"inertia\"}},\"id\":\"6249\",\"type\":\"Line\"},{\"attributes\":{},\"id\":\"6168\",\"type\":\"LinearScale\"},{\"attributes\":{},\"id\":\"6258\",\"type\":\"AllLabels\"},{\"attributes\":{\"below\":[{\"id\":\"6170\"}],\"center\":[{\"id\":\"6173\"},{\"id\":\"6177\"}],\"height\":300,\"left\":[{\"id\":\"6174\"}],\"margin\":null,\"min_border_bottom\":10,\"min_border_left\":10,\"min_border_right\":10,\"min_border_top\":10,\"output_backend\":\"webgl\",\"renderers\":[{\"id\":\"6197\"}],\"sizing_mode\":\"fixed\",\"title\":{\"id\":\"6162\"},\"toolbar\":{\"id\":\"6184\"},\"toolbar_location\":null,\"width\":700,\"x_range\":{\"id\":\"6156\"},\"x_scale\":{\"id\":\"6168\"},\"y_range\":{\"id\":\"6157\"},\"y_scale\":{\"id\":\"6169\"}},\"id\":\"6161\",\"subtype\":\"Figure\",\"type\":\"Plot\"},{\"attributes\":{\"data\":{\"inertia\":{\"__ndarray__\":\"AAAAAADwcUByhzI6P3poQOCRvNowzF5AGO6ulG/BU0B0HKDT6O1PQBYSyZxlh0pAxJ/AthE0RkCoWQ2NA4pCQFx7Hh6FakBAntlO1lkqPEAJhwiC8vY4QA==\",\"dtype\":\"float64\",\"order\":\"little\",\"shape\":[11]},\"k\":[1,2,3,4,5,6,7,8,9,10,11]},\"selected\":{\"id\":\"6192\"},\"selection_policy\":{\"id\":\"6276\"}},\"id\":\"6191\",\"type\":\"ColumnDataSource\"},{\"attributes\":{\"callback\":null,\"renderers\":[{\"id\":\"6197\"}],\"tags\":[\"hv_created\"],\"tooltips\":[[\"k\",\"@{k}\"],[\"inertia\",\"@{inertia}\"]]},\"id\":\"6160\",\"type\":\"HoverTool\"},{\"attributes\":{},\"id\":\"6169\",\"type\":\"LinearScale\"},{\"attributes\":{\"data\":{\"inertia\":{\"__ndarray__\":\"iJv4jfYpckC9rBgdjXJpQEC5Pcy1NlxA8iwbk7cQRkC2EQOo1JtAQATsFDQmXzdAxjerThUsMUCoTW2N0y8rQHjOUAhpTyZAbO8ptfbqIUCBOpPxi2EdQA==\",\"dtype\":\"float64\",\"order\":\"little\",\"shape\":[11]},\"k\":[1,2,3,4,5,6,7,8,9,10,11]},\"selected\":{\"id\":\"6247\"},\"selection_policy\":{\"id\":\"6286\"}},\"id\":\"6246\",\"type\":\"ColumnDataSource\"},{\"attributes\":{\"coordinates\":null,\"group\":null,\"text\":\"Elbow Curve 1\",\"text_color\":\"black\",\"text_font_size\":\"12pt\"},\"id\":\"6162\",\"type\":\"Title\"},{\"attributes\":{\"line_alpha\":0.1,\"line_color\":\"#30a2da\",\"line_width\":2,\"tags\":[\"apply_ranges\"],\"x\":{\"field\":\"k\"},\"y\":{\"field\":\"inertia\"}},\"id\":\"6250\",\"type\":\"Line\"},{\"attributes\":{},\"id\":\"6207\",\"type\":\"BasicTickFormatter\"},{\"attributes\":{},\"id\":\"6276\",\"type\":\"UnionRenderers\"},{\"attributes\":{\"below\":[{\"id\":\"6225\"}],\"center\":[{\"id\":\"6228\"},{\"id\":\"6232\"}],\"height\":300,\"left\":[{\"id\":\"6229\"}],\"margin\":null,\"min_border_bottom\":10,\"min_border_left\":10,\"min_border_right\":10,\"min_border_top\":10,\"output_backend\":\"webgl\",\"renderers\":[{\"id\":\"6252\"}],\"sizing_mode\":\"fixed\",\"title\":{\"id\":\"6217\"},\"toolbar\":{\"id\":\"6239\"},\"toolbar_location\":null,\"width\":700,\"x_range\":{\"id\":\"6156\"},\"x_scale\":{\"id\":\"6223\"},\"y_range\":{\"id\":\"6157\"},\"y_scale\":{\"id\":\"6224\"}},\"id\":\"6216\",\"subtype\":\"Figure\",\"type\":\"Plot\"},{\"attributes\":{\"axis\":{\"id\":\"6170\"},\"coordinates\":null,\"grid_line_color\":null,\"group\":null,\"ticker\":null},\"id\":\"6173\",\"type\":\"Grid\"},{\"attributes\":{\"coordinates\":null,\"group\":null,\"text\":\"Elbow Curve 2\",\"text_color\":\"black\",\"text_font_size\":\"12pt\"},\"id\":\"6217\",\"type\":\"Title\"},{\"attributes\":{\"axis_label\":\"k\",\"coordinates\":null,\"formatter\":{\"id\":\"6202\"},\"group\":null,\"major_label_policy\":{\"id\":\"6203\"},\"ticker\":{\"id\":\"6200\"}},\"id\":\"6170\",\"type\":\"LinearAxis\"},{\"attributes\":{},\"id\":\"6237\",\"type\":\"ResetTool\"}],\"root_ids\":[\"6155\"]},\"title\":\"Bokeh Application\",\"version\":\"2.4.3\"}};\n",
       "    var render_items = [{\"docid\":\"b70c8757-4d32-4681-b043-95f797604232\",\"root_ids\":[\"6155\"],\"roots\":{\"6155\":\"591a78e1-9e5c-4863-9bf1-bc8abf5450a5\"}}];\n",
       "    root.Bokeh.embed.embed_items_notebook(docs_json, render_items);\n",
       "    for (const render_item of render_items) {\n",
       "      for (const root_id of render_item.root_ids) {\n",
       "\tconst id_el = document.getElementById(root_id)\n",
       "\tif (id_el.children.length && (id_el.children[0].className === 'bk-root')) {\n",
       "\t  const root_el = id_el.children[0]\n",
       "\t  root_el.id = root_el.id + '-rendered'\n",
       "\t}\n",
       "      }\n",
       "    }\n",
       "  }\n",
       "  if (root.Bokeh !== undefined && root.Bokeh.Panel !== undefined) {\n",
       "    embed_document(root);\n",
       "  } else {\n",
       "    var attempts = 0;\n",
       "    var timer = setInterval(function(root) {\n",
       "      if (root.Bokeh !== undefined && root.Bokeh.Panel !== undefined) {\n",
       "        clearInterval(timer);\n",
       "        embed_document(root);\n",
       "      } else if (document.readyState == \"complete\") {\n",
       "        attempts++;\n",
       "        if (attempts > 200) {\n",
       "          clearInterval(timer);\n",
       "          console.log(\"Bokeh: ERROR: Unable to run BokehJS code because BokehJS library is missing\");\n",
       "        }\n",
       "      }\n",
       "    }, 25, root)\n",
       "  }\n",
       "})(window);</script>"
      ],
      "text/plain": [
       ":Layout\n",
       "   .Curve.I  :Curve   [k]   (inertia)\n",
       "   .Curve.II :Curve   [k]   (inertia)"
      ]
     },
     "execution_count": 146,
     "metadata": {
      "application/vnd.holoviews_exec.v0+json": {
       "id": "6155"
      }
     },
     "output_type": "execute_result"
    }
   ],
   "source": [
    "# Composite plot to contrast the Elbow curves\n",
    "\n",
    "elbow_DF_1.hvplot.line(x=\"k\", y=\"inertia\", title=\"Elbow Curve 1\", xticks=k) + \\\n",
    "elbow_DF_2.hvplot.line(x=\"k\", y=\"inertia\", title=\"Elbow Curve 2\", xticks=k)"
   ]
  },
  {
   "cell_type": "code",
   "execution_count": null,
   "metadata": {},
   "outputs": [],
   "source": [
    "# Composite plot to contrast the clusters\n",
    "clustersPredicted.hvplot.scatter( x='price_change_percentage_24h',  \n",
    "                                  y='price_change_percentage_7d', \n",
    "                                  by='predicted_cluster', hover_cols = 'coin_id') + \\\n",
    "copyClusterPCAdf.hvplot.scatter(x=\"PCA1\", y=\"PCA2\", by = 'predicted_cluster', hover_cols='coin_id')"
   ]
  },
  {
   "attachments": {},
   "cell_type": "markdown",
   "metadata": {},
   "source": [
    "#### Answer the following question: \n",
    "\n",
    "  * **Question:** After visually analyzing the cluster analysis results, what is the impact of using fewer features to cluster the data using K-Means?\n",
    "\n",
    "  * **Answer:** The impact of using PCA data resulted in tighter grouped clusters, with more entries within cluster 0 and cluster 1 than the original analysis did."
   ]
  }
 ],
 "metadata": {
  "kernelspec": {
   "display_name": "Python 3 (ipykernel)",
   "language": "python",
   "name": "python3"
  },
  "language_info": {
   "codemirror_mode": {
    "name": "ipython",
    "version": 3
   },
   "file_extension": ".py",
   "mimetype": "text/x-python",
   "name": "python",
   "nbconvert_exporter": "python",
   "pygments_lexer": "ipython3",
   "version": "3.10.8"
  },
  "nteract": {
   "version": "0.28.0"
  },
  "vscode": {
   "interpreter": {
    "hash": "40d3a090f54c6569ab1632332b64b2c03c39dcf918b08424e98f38b5ae0af88f"
   }
  }
 },
 "nbformat": 4,
 "nbformat_minor": 4
}
